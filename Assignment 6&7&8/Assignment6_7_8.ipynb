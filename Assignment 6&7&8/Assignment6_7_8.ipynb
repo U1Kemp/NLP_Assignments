{
  "cells": [
    {
      "cell_type": "markdown",
      "source": [
        "# Utpalraj Kemprai"
      ],
      "metadata": {
        "id": "jYkaK9vS3BKo"
      }
    },
    {
      "cell_type": "markdown",
      "metadata": {
        "id": "J0Pf0DKehQ8m"
      },
      "source": [
        "## Importing libraries"
      ]
    },
    {
      "cell_type": "code",
      "execution_count": null,
      "metadata": {
        "id": "m_-J4OX43AkB"
      },
      "outputs": [],
      "source": [
        "import os\n",
        "import json\n",
        "import re\n",
        "from collections import Counter\n",
        "from tqdm import tqdm\n",
        "import matplotlib.pyplot as plt\n",
        "import nltk\n",
        "from nltk.tokenize import word_tokenize\n",
        "import torch\n",
        "import torch.nn as nn\n",
        "import torch.nn.functional as F\n",
        "from torch.utils.data import Dataset, DataLoader\n",
        "import gdown\n",
        "import zipfile\n",
        "import multiprocessing\n",
        "from concurrent.futures import ProcessPoolExecutor"
      ]
    },
    {
      "cell_type": "markdown",
      "metadata": {
        "id": "1MH41pwFhUoz"
      },
      "source": [
        "## Downloading and Extracting the corpus"
      ]
    },
    {
      "cell_type": "code",
      "execution_count": null,
      "metadata": {
        "id": "iC4-IUysqxPy"
      },
      "outputs": [],
      "source": [
        "file_id = '1PVA5IR4bAn7RulAeuSgxRBNMtmRGXaUm'"
      ]
    },
    {
      "cell_type": "code",
      "execution_count": null,
      "metadata": {
        "colab": {
          "base_uri": "https://localhost:8080/",
          "height": 122
        },
        "id": "7rKciLOl29-n",
        "outputId": "f0a745ef-79e6-4305-afad-246390649cd3"
      },
      "outputs": [
        {
          "output_type": "stream",
          "name": "stderr",
          "text": [
            "Downloading...\n",
            "From (original): https://drive.google.com/uc?id=1PVA5IR4bAn7RulAeuSgxRBNMtmRGXaUm\n",
            "From (redirected): https://drive.google.com/uc?id=1PVA5IR4bAn7RulAeuSgxRBNMtmRGXaUm&confirm=t&uuid=5679ded7-00a8-4936-ba5c-e3924ab2af02\n",
            "To: /content/partial_dataset.zip\n",
            "100%|██████████| 1.00G/1.00G [00:15<00:00, 65.1MB/s]\n"
          ]
        },
        {
          "output_type": "execute_result",
          "data": {
            "text/plain": [
              "'partial_dataset.zip'"
            ],
            "application/vnd.google.colaboratory.intrinsic+json": {
              "type": "string"
            }
          },
          "metadata": {},
          "execution_count": 3
        }
      ],
      "source": [
        "gdown.download(f'https://drive.google.com/uc?id={file_id}', 'partial_dataset.zip', quiet=False)"
      ]
    },
    {
      "cell_type": "code",
      "execution_count": null,
      "metadata": {
        "id": "o2OnlTx33N0G"
      },
      "outputs": [],
      "source": [
        "zip_path = 'partial_dataset.zip'\n",
        "extract_dir = 'JSON_files'"
      ]
    },
    {
      "cell_type": "code",
      "execution_count": null,
      "metadata": {
        "id": "K1IkSpcC3UsW"
      },
      "outputs": [],
      "source": [
        "def extract_zip(zip_path, extract_dir):\n",
        "  '''\n",
        "  Extracts the zip file to the specified directory.\n",
        "\n",
        "  Args:\n",
        "    zip_path: The path to the zip file.\n",
        "    extract_dir: The directory to extract the zip file to.\n",
        "  '''\n",
        "  with zipfile.ZipFile(zip_path, 'r') as zip_ref:\n",
        "    zip_ref.extractall(extract_dir)\n",
        "\n",
        "num_cores = multiprocessing.cpu_count()\n",
        "\n",
        "# Extract the zip file in parallel\n",
        "with ProcessPoolExecutor(max_workers=num_cores) as executor:\n",
        "  executor.submit(extract_zip, zip_path, extract_dir)"
      ]
    },
    {
      "cell_type": "code",
      "execution_count": null,
      "metadata": {
        "id": "_y4Lu_Xo3XjF"
      },
      "outputs": [],
      "source": [
        "def read_file(filename):\n",
        "    '''\n",
        "    Reads a JSON file and returns its content as a string.\n",
        "\n",
        "    Args:\n",
        "      filename: The path to the JSON file.\n",
        "\n",
        "    Returns:\n",
        "      The content of the JSON file as a string.\n",
        "    '''\n",
        "    with open(filename, 'r') as f:\n",
        "        paper_content = json.load(f)\n",
        "    abstract = ''\n",
        "    if 'abstract' in paper_content:\n",
        "      for content in paper_content['abstract']:\n",
        "        if 'text' in content:\n",
        "          abstract += content['text']\n",
        "\n",
        "    return abstract\n",
        "\n",
        "def read_files(directory):\n",
        "    '''\n",
        "    Reads all JSON files in a directory and returns their contents as a list of strings.\n",
        "\n",
        "    Args:\n",
        "      directory: The path to the directory containing the JSON files.\n",
        "\n",
        "    Yields:\n",
        "      The content of each JSON file as a string.\n",
        "    '''\n",
        "    filenames = (os.path.join(directory, f) for f in os.listdir(directory) if f.endswith('.json'))\n",
        "    with ProcessPoolExecutor() as executor:\n",
        "        # Using map to process files in parallel\n",
        "        for result in tqdm(executor.map(read_file, filenames)):\n",
        "            yield result"
      ]
    },
    {
      "cell_type": "code",
      "execution_count": null,
      "metadata": {
        "colab": {
          "base_uri": "https://localhost:8080/"
        },
        "id": "xD-W27GP3mHU",
        "outputId": "533584d3-1119-4f24-ab82-97792172e036"
      },
      "outputs": [
        {
          "output_type": "stream",
          "name": "stderr",
          "text": [
            "56528it [02:37, 359.42it/s]\n"
          ]
        }
      ],
      "source": [
        "# storing the corpus\n",
        "text_corpus = list(read_files('JSON_files/pdf_json/'))"
      ]
    },
    {
      "cell_type": "code",
      "execution_count": null,
      "metadata": {
        "colab": {
          "base_uri": "https://localhost:8080/"
        },
        "id": "XjeHdBLd3_Cj",
        "outputId": "ca8bb607-f2c6-4fe5-d350-795813e7a102"
      },
      "outputs": [
        {
          "output_type": "stream",
          "name": "stdout",
          "text": [
            "Corpus size: 56528\n"
          ]
        }
      ],
      "source": [
        "# corpus size\n",
        "corpus_size = len(text_corpus)\n",
        "print(f'Corpus size: {corpus_size}')"
      ]
    },
    {
      "cell_type": "markdown",
      "metadata": {
        "id": "a-agWKPThaBc"
      },
      "source": [
        "## Preprocessing the corpus"
      ]
    },
    {
      "cell_type": "code",
      "execution_count": null,
      "metadata": {
        "id": "-X1u07984Kh5"
      },
      "outputs": [],
      "source": [
        "def tokenize_text(text):\n",
        "  '''\n",
        "  Tokenizes the given text.\n",
        "\n",
        "  Args:\n",
        "    text: The input text.\n",
        "\n",
        "  Returns:\n",
        "    A list of tokens.\n",
        "  '''\n",
        "  return word_tokenize(text)"
      ]
    },
    {
      "cell_type": "code",
      "execution_count": null,
      "metadata": {
        "id": "185Sd6Vf4Mq5"
      },
      "outputs": [],
      "source": [
        "def preprocess_text(text):\n",
        "  '''\n",
        "  Preprocesses the text by converting to lowercase,\n",
        "  and tokenizing the text.\n",
        "\n",
        "  Args:\n",
        "    text: The text to be preprocessed.\n",
        "\n",
        "  Returns:\n",
        "    A list of preprocessed tokens.\n",
        "  '''\n",
        "  text = text.lower()\n",
        "  tokens = tokenize_text(text)\n",
        "  return tokens\n",
        "\n",
        "def preprocess_corpus(corpus):\n",
        "  '''\n",
        "  Preprocesses the corpus by applying the preprocess_text function to each document in parallel.\n",
        "\n",
        "  Args:\n",
        "    corpus: A list of documents.\n",
        "\n",
        "  Returns:\n",
        "    A list of preprocessed documents.\n",
        "  '''\n",
        "  with ProcessPoolExecutor() as executor:\n",
        "    return list(tqdm(executor.map(preprocess_text, corpus), total=corpus_size))"
      ]
    },
    {
      "cell_type": "code",
      "execution_count": null,
      "metadata": {
        "colab": {
          "base_uri": "https://localhost:8080/"
        },
        "id": "46O5K88S4nMh",
        "outputId": "df9df4d2-d7a1-448a-d5a4-b7afddc36aa7"
      },
      "outputs": [
        {
          "output_type": "stream",
          "name": "stderr",
          "text": [
            "[nltk_data] Downloading package punkt to /root/nltk_data...\n",
            "[nltk_data]   Unzipping tokenizers/punkt.zip.\n",
            "[nltk_data] Downloading package punkt_tab to /root/nltk_data...\n",
            "[nltk_data]   Unzipping tokenizers/punkt_tab.zip.\n"
          ]
        },
        {
          "output_type": "execute_result",
          "data": {
            "text/plain": [
              "True"
            ]
          },
          "metadata": {},
          "execution_count": 11
        }
      ],
      "source": [
        "nltk.download('punkt')\n",
        "nltk.download('punkt_tab')"
      ]
    },
    {
      "cell_type": "code",
      "execution_count": null,
      "metadata": {
        "colab": {
          "base_uri": "https://localhost:8080/"
        },
        "id": "JK4ov4t44XkD",
        "outputId": "7efdceb6-e158-46bd-d330-a16670c617ff"
      },
      "outputs": [
        {
          "output_type": "stream",
          "name": "stderr",
          "text": [
            "100%|██████████| 56528/56528 [01:42<00:00, 551.67it/s]\n"
          ]
        }
      ],
      "source": [
        "tokenized_corpus = preprocess_corpus(text_corpus)\n",
        "del text_corpus"
      ]
    },
    {
      "cell_type": "markdown",
      "metadata": {
        "id": "o4JwB8B-iPrY"
      },
      "source": [
        "### Create vocabulary"
      ]
    },
    {
      "cell_type": "code",
      "execution_count": null,
      "metadata": {
        "id": "SCUEJH6A5jk1"
      },
      "outputs": [],
      "source": [
        "# list of all tokens in the corpus\n",
        "all_words = [word for abstract in tokenized_corpus for word in abstract]\n",
        "\n",
        "# considering only words that appear more than 100 times in the entire corpus\n",
        "word_counts = Counter(all_words)\n",
        "word_counts = {word: count for word, count in word_counts.items() if count > 100}\n",
        "\n",
        "# Dictionary mapping all words in consideration to unique integer\n",
        "vocab = {word: i+1 for i, (word, count) in enumerate(word_counts.items())}\n",
        "del word_counts"
      ]
    },
    {
      "cell_type": "code",
      "execution_count": null,
      "metadata": {
        "colab": {
          "base_uri": "https://localhost:8080/"
        },
        "id": "Dn7YTx-_7DNi",
        "outputId": "53c9076a-35d7-4b87-f6ea-421298da412f"
      },
      "outputs": [
        {
          "output_type": "execute_result",
          "data": {
            "text/plain": [
              "6657"
            ]
          },
          "metadata": {},
          "execution_count": 15
        }
      ],
      "source": [
        "vocab_size = len(vocab)\n",
        "vocab_size"
      ]
    },
    {
      "cell_type": "code",
      "execution_count": null,
      "metadata": {
        "id": "pmXlWAkkBphJ"
      },
      "outputs": [],
      "source": [
        "vocab_inv = {v: k for k, v in vocab.items()}"
      ]
    },
    {
      "cell_type": "markdown",
      "metadata": {
        "id": "8VLmkmXoie8v"
      },
      "source": [
        "### Encoding the text"
      ]
    },
    {
      "cell_type": "code",
      "execution_count": null,
      "metadata": {
        "id": "X56L77LyjfIO"
      },
      "outputs": [],
      "source": [
        "def encode_text(doc, vocab):\n",
        "  '''\n",
        "  Encodes the given document using the provided vocabulary.\n",
        "\n",
        "  Args:\n",
        "    doc: The document to be encoded.\n",
        "    vocab: The vocabulary used for encoding.\n",
        "\n",
        "  Returns:\n",
        "    A list of encoded tokens.\n",
        "  '''\n",
        "  return [vocab[word] for word in doc if word in vocab]"
      ]
    },
    {
      "cell_type": "code",
      "execution_count": null,
      "metadata": {
        "id": "VtBYEERLjVoa",
        "colab": {
          "base_uri": "https://localhost:8080/"
        },
        "outputId": "76c34a96-04e1-44b5-b76d-ab9f654ef2de"
      },
      "outputs": [
        {
          "output_type": "stream",
          "name": "stderr",
          "text": [
            "100%|██████████| 56528/56528 [00:02<00:00, 20135.57it/s]\n"
          ]
        }
      ],
      "source": [
        "encoded_corpus = [encode_text(doc, vocab) for doc in tqdm(tokenized_corpus)]"
      ]
    },
    {
      "cell_type": "markdown",
      "metadata": {
        "id": "BFDoViXaikMm"
      },
      "source": [
        "### Create sequences and targets"
      ]
    },
    {
      "cell_type": "code",
      "execution_count": null,
      "metadata": {
        "colab": {
          "base_uri": "https://localhost:8080/"
        },
        "id": "mQmtp3HxjOjq",
        "outputId": "4f0db1f7-04b7-4d50-939b-eed1a0630189"
      },
      "outputs": [
        {
          "output_type": "stream",
          "name": "stderr",
          "text": [
            "100%|██████████| 56528/56528 [00:21<00:00, 2630.66it/s]\n"
          ]
        }
      ],
      "source": [
        "def create_sequences_and_targets(encoded_corpus, seq_length):\n",
        "    '''\n",
        "    Creates sequences and targets from the encoded corpus.\n",
        "\n",
        "  Args:\n",
        "    encoded_corpus: The encoded corpus.\n",
        "    seq_length: The length of the sequences.\n",
        "\n",
        "  Returns:\n",
        "    A tuple of sequences and targets.\n",
        "    '''\n",
        "    sequences = []\n",
        "    targets = []\n",
        "    for encoded_doc in tqdm(encoded_corpus):\n",
        "        for i in range(seq_length, len(encoded_doc)):\n",
        "            seq = encoded_doc[i-seq_length:i]\n",
        "            target = encoded_doc[i]\n",
        "            sequences.append(seq)\n",
        "            targets.append(target)\n",
        "    return sequences, targets\n",
        "\n",
        "seq_length = 10\n",
        "sequences, targets = create_sequences_and_targets(encoded_corpus, seq_length)\n",
        "del encoded_corpus\n"
      ]
    },
    {
      "cell_type": "code",
      "execution_count": null,
      "metadata": {
        "id": "J4b1oRYSrIiU",
        "colab": {
          "base_uri": "https://localhost:8080/"
        },
        "outputId": "57c0918d-dc79-4acd-95a2-8f59f2306895"
      },
      "outputs": [
        {
          "output_type": "stream",
          "name": "stderr",
          "text": [
            "100%|██████████| 8618182/8618182 [01:39<00:00, 86256.82it/s] \n"
          ]
        }
      ],
      "source": [
        "# Convert sequences and targets to tensors\n",
        "sequences = [torch.tensor(seq) for seq in tqdm(sequences)]\n",
        "targets = torch.tensor(targets)"
      ]
    },
    {
      "cell_type": "markdown",
      "metadata": {
        "id": "ecfwHhxNi3xI"
      },
      "source": [
        "### Preparing the data for training"
      ]
    },
    {
      "cell_type": "code",
      "execution_count": null,
      "metadata": {
        "id": "SDfzbVANiy81"
      },
      "outputs": [],
      "source": [
        "BATCH_SIZE = 1024"
      ]
    },
    {
      "cell_type": "code",
      "execution_count": null,
      "metadata": {
        "id": "r_6XNT0SlXHZ"
      },
      "outputs": [],
      "source": [
        "# verbosely comment the below code\n",
        "class TextDataset(Dataset):\n",
        "    '''\n",
        "    A custom dataset class for text data.\n",
        "    '''\n",
        "    def __init__(self, sequences, targets):\n",
        "        '''\n",
        "        Initializes the dataset.\n",
        "\n",
        "        Args:\n",
        "          sequences: A list of sequences.\n",
        "          targets: A list of targets.\n",
        "        '''\n",
        "        self.sequences = sequences\n",
        "        self.targets = targets\n",
        "\n",
        "    def __len__(self):\n",
        "        '''\n",
        "        Returns the length of the dataset.\n",
        "        '''\n",
        "        return len(self.sequences)\n",
        "\n",
        "    def __getitem__(self, idx):\n",
        "        '''\n",
        "        Returns the item at the given index.\n",
        "\n",
        "        Args:\n",
        "          idx: The index of the item.\n",
        "\n",
        "        Returns:\n",
        "          A tuple of the sequence and the target.\n",
        "        '''\n",
        "        return self.sequences[idx], self.targets[idx]\n",
        "\n",
        "dataset = TextDataset(sequences, targets)\n",
        "dataloader = DataLoader(dataset, batch_size=BATCH_SIZE, shuffle=True)"
      ]
    },
    {
      "cell_type": "code",
      "source": [
        "# describe the dataset\n",
        "print(f'Number of batches: {len(dataloader)}')\n",
        "print(f'Number of sequences: {len(sequences)}')\n",
        "print(f'Number of targets: {len(targets)}')"
      ],
      "metadata": {
        "colab": {
          "base_uri": "https://localhost:8080/"
        },
        "id": "jSdechPc-VsI",
        "outputId": "a4f7dabb-6d8b-4352-a820-51c680651a7c"
      },
      "execution_count": null,
      "outputs": [
        {
          "output_type": "stream",
          "name": "stdout",
          "text": [
            "Number of batches: 8417\n",
            "Number of sequences: 8618182\n",
            "Number of targets: 8618182\n"
          ]
        }
      ]
    },
    {
      "cell_type": "markdown",
      "metadata": {
        "id": "Vl-7OcV0hfM_"
      },
      "source": [
        "## Defining the model"
      ]
    },
    {
      "cell_type": "markdown",
      "source": [
        "### Model Architecture\n",
        "\n",
        "#### BiLSTMTextGenerationModel Architecture\n",
        "\n",
        "The `BiLSTMTextGenerationModel` is a simple, bi-directional LSTM model for text generation. Here's a brief overview:\n",
        "\n",
        "##### Components:\n",
        "\n",
        "1. **Embedding Layer**:\n",
        "   - Converts input tokens to dense vectors.\n",
        "   - Parameters: `vocab_size` (vocabulary size), `embed_size` (embedding vector size).\n",
        "\n",
        "2. **Bi-directional LSTM Layer**:\n",
        "   - Processes sequences in both forward and backward directions.\n",
        "   - Parameters: `embed_size` (input size), `hidden_size` (hidden layer size), `num_layers` (number of layers), `drop_out` (dropout rate).\n",
        "\n",
        "3. **Fully Connected Layer**:\n",
        "   - Maps LSTM output to vocabulary size.\n",
        "   - Parameters: `hidden_size * 2` (accounting for bidirectional output), `vocab_size` (vocabulary size).\n",
        "\n",
        "##### Forward Pass:\n",
        "\n",
        "1. **Embedding**: `x = self.embedding(x)`\n",
        "2. **LSTM Processing**: `out, hidden = self.lstm(x, hidden)`\n",
        "3. **Output Layer**: `out = self.fc(out[:, -1, :])`\n",
        "4. **Return**: `return out, hidden`\n",
        "\n",
        "#### Summary\n",
        "\n",
        "This model uses embeddings and bi-directional LSTMs to generate text, by capturing context from both past and future words. The final fully connected layer produces a probability distribution over the vocabulary for text generation."
      ],
      "metadata": {
        "id": "96pDd0iSBCjV"
      }
    },
    {
      "cell_type": "code",
      "execution_count": null,
      "metadata": {
        "id": "26gQpBErlY28"
      },
      "outputs": [],
      "source": [
        "class BiLSTMTextGenerationModel(nn.Module):\n",
        "    '''\n",
        "    A bi-directional LSTM model for text generation.\n",
        "    '''\n",
        "\n",
        "    def __init__(self, vocab_size, embed_size, hidden_size, num_layers,drop_out):\n",
        "        '''\n",
        "        Initializes the model.\n",
        "\n",
        "        Args:\n",
        "          vocab_size: The size of the vocabulary.\n",
        "          embed_size: The size of the embedding layer.\n",
        "          hidden_size: The size of the hidden layer.\n",
        "          num_layers: The number of LSTM layers.\n",
        "          drop_out: The dropout rate.\n",
        "        '''\n",
        "        super(BiLSTMTextGenerationModel, self).__init__()\n",
        "        self.embedding = nn.Embedding(vocab_size, embed_size)\n",
        "        self.lstm = nn.LSTM(embed_size, hidden_size, num_layers, batch_first=True, bidirectional=True, dropout = drop_out)\n",
        "        self.fc = nn.Linear(hidden_size * 2, vocab_size)\n",
        "\n",
        "    def forward(self, x, hidden):\n",
        "        '''\n",
        "        Forward pass of the model.\n",
        "\n",
        "        Args:\n",
        "          x: The input tensor.\n",
        "          hidden: The hidden state.\n",
        "\n",
        "        Returns:\n",
        "          A tuple of the output tensor and the hidden state.\n",
        "        '''\n",
        "        x = self.embedding(x)\n",
        "        out, hidden = self.lstm(x, hidden)\n",
        "        out = self.fc(out[:, -1, :])\n",
        "        return out, hidden\n",
        "\n"
      ]
    },
    {
      "cell_type": "code",
      "source": [
        "# Hyperparameters\n",
        "embed_size = 40\n",
        "hidden_size = 100\n",
        "num_layers = 2\n",
        "drop_out = 0.2\n",
        "vocab_size = len(vocab) + 1  # +1 for padding index"
      ],
      "metadata": {
        "id": "OL-eAoYAAQaP"
      },
      "execution_count": null,
      "outputs": []
    },
    {
      "cell_type": "code",
      "source": [
        "model = BiLSTMTextGenerationModel(vocab_size, embed_size, hidden_size, num_layers, drop_out)"
      ],
      "metadata": {
        "id": "YsU6KRLHARpi"
      },
      "execution_count": null,
      "outputs": []
    },
    {
      "cell_type": "code",
      "source": [
        "# describe the model architecture\n",
        "print(model)"
      ],
      "metadata": {
        "colab": {
          "base_uri": "https://localhost:8080/"
        },
        "id": "JY0i53KE-tgF",
        "outputId": "5283ddac-d382-46d7-b636-06364d2c7395"
      },
      "execution_count": null,
      "outputs": [
        {
          "output_type": "stream",
          "name": "stdout",
          "text": [
            "BiLSTMTextGenerationModel(\n",
            "  (embedding): Embedding(6658, 40)\n",
            "  (lstm): LSTM(40, 100, num_layers=2, batch_first=True, dropout=0.2, bidirectional=True)\n",
            "  (fc): Linear(in_features=200, out_features=6658, bias=True)\n",
            ")\n"
          ]
        }
      ]
    },
    {
      "cell_type": "code",
      "execution_count": null,
      "metadata": {
        "colab": {
          "base_uri": "https://localhost:8080/"
        },
        "id": "SKALkVtFGR6h",
        "outputId": "aaa2a078-09a8-45f0-c8f4-74ac54cd1372"
      },
      "outputs": [
        {
          "output_type": "stream",
          "name": "stdout",
          "text": [
            "Number of parameters: 1959778\n"
          ]
        }
      ],
      "source": [
        "# number of parameters of the model\n",
        "num_params = sum(p.numel() for p in model.parameters() if p.requires_grad)\n",
        "print(f'Number of parameters: {num_params}')"
      ]
    },
    {
      "cell_type": "code",
      "execution_count": null,
      "metadata": {
        "colab": {
          "base_uri": "https://localhost:8080/"
        },
        "id": "0x2f6AczDkOd",
        "outputId": "148b9c83-b2fd-4172-b89a-08d2d32f68a0"
      },
      "outputs": [
        {
          "output_type": "stream",
          "name": "stdout",
          "text": [
            "Using device: cpu\n"
          ]
        }
      ],
      "source": [
        "device = torch.device('cuda' if torch.cuda.is_available() else 'cpu')\n",
        "print(f'Using device: {device}')"
      ]
    },
    {
      "cell_type": "markdown",
      "metadata": {
        "id": "D2LIJtj9hir0"
      },
      "source": [
        "## Training the model"
      ]
    },
    {
      "cell_type": "code",
      "source": [
        "num_batches = len(dataloader)\n",
        "num_batches"
      ],
      "metadata": {
        "colab": {
          "base_uri": "https://localhost:8080/"
        },
        "id": "OzyId4hBkvXR",
        "outputId": "fbe9f0f4-89e6-425d-fa0a-d8f42379cae7"
      },
      "execution_count": null,
      "outputs": [
        {
          "output_type": "execute_result",
          "data": {
            "text/plain": [
              "8417"
            ]
          },
          "metadata": {},
          "execution_count": 29
        }
      ]
    },
    {
      "cell_type": "code",
      "execution_count": null,
      "metadata": {
        "colab": {
          "base_uri": "https://localhost:8080/"
        },
        "id": "X0Bpmjyklcjf",
        "outputId": "78f0a41e-7728-4662-d7a9-802201b64aa9"
      },
      "outputs": [
        {
          "output_type": "stream",
          "name": "stdout",
          "text": [
            "Epoch [1/30], Step [1/8417], Loss: 8.8088\n",
            "Epoch [1/30], Step [842/8417], Loss: 5.8582\n",
            "Epoch [1/30], Step [1683/8417], Loss: 5.4793\n",
            "Epoch [1/30], Step [2524/8417], Loss: 5.1758\n",
            "Epoch [1/30], Step [3365/8417], Loss: 4.9868\n",
            "Epoch [1/30], Step [4206/8417], Loss: 5.2132\n",
            "Epoch [1/30], Step [5047/8417], Loss: 5.0648\n",
            "Epoch [1/30], Step [5888/8417], Loss: 4.9224\n",
            "Epoch [1/30], Step [6729/8417], Loss: 4.8327\n",
            "Epoch [1/30], Step [7570/8417], Loss: 4.8196\n",
            "Epoch [1/30], Step [8411/8417], Loss: 4.6916\n",
            "Epoch [1/30], Loss: 5.1707\n",
            "Epoch [2/30], Step [1/8417], Loss: 4.6826\n",
            "Epoch [2/30], Step [842/8417], Loss: 4.7315\n",
            "Epoch [2/30], Step [1683/8417], Loss: 4.6593\n",
            "Epoch [2/30], Step [2524/8417], Loss: 4.5499\n",
            "Epoch [2/30], Step [3365/8417], Loss: 4.7168\n",
            "Epoch [2/30], Step [4206/8417], Loss: 4.5016\n",
            "Epoch [2/30], Step [5047/8417], Loss: 4.7845\n",
            "Epoch [2/30], Step [5888/8417], Loss: 4.7135\n",
            "Epoch [2/30], Step [6729/8417], Loss: 4.7272\n",
            "Epoch [2/30], Step [7570/8417], Loss: 4.5934\n",
            "Epoch [2/30], Step [8411/8417], Loss: 4.5286\n",
            "Epoch [2/30], Loss: 4.6296\n",
            "Epoch [3/30], Step [1/8417], Loss: 4.6469\n",
            "Epoch [3/30], Step [842/8417], Loss: 4.4833\n",
            "Epoch [3/30], Step [1683/8417], Loss: 4.5259\n",
            "Epoch [3/30], Step [2524/8417], Loss: 4.6101\n",
            "Epoch [3/30], Step [3365/8417], Loss: 4.5582\n",
            "Epoch [3/30], Step [4206/8417], Loss: 4.3349\n",
            "Epoch [3/30], Step [5047/8417], Loss: 4.4458\n",
            "Epoch [3/30], Step [5888/8417], Loss: 4.2500\n",
            "Epoch [3/30], Step [6729/8417], Loss: 4.3141\n",
            "Epoch [3/30], Step [7570/8417], Loss: 4.4283\n",
            "Epoch [3/30], Step [8411/8417], Loss: 4.4325\n",
            "Epoch [3/30], Loss: 4.4843\n",
            "Epoch [4/30], Step [1/8417], Loss: 4.3188\n",
            "Epoch [4/30], Step [842/8417], Loss: 4.3311\n",
            "Epoch [4/30], Step [1683/8417], Loss: 4.4106\n",
            "Epoch [4/30], Step [2524/8417], Loss: 4.3865\n",
            "Epoch [4/30], Step [3365/8417], Loss: 4.5057\n",
            "Epoch [4/30], Step [4206/8417], Loss: 4.3823\n",
            "Epoch [4/30], Step [5047/8417], Loss: 4.5003\n",
            "Epoch [4/30], Step [5888/8417], Loss: 4.3435\n",
            "Epoch [4/30], Step [6729/8417], Loss: 4.3290\n",
            "Epoch [4/30], Step [7570/8417], Loss: 4.3128\n",
            "Epoch [4/30], Step [8411/8417], Loss: 4.3241\n",
            "Epoch [4/30], Loss: 4.4051\n",
            "Epoch [5/30], Step [1/8417], Loss: 4.2652\n",
            "Epoch [5/30], Step [842/8417], Loss: 4.2794\n",
            "Epoch [5/30], Step [1683/8417], Loss: 4.3630\n",
            "Epoch [5/30], Step [2524/8417], Loss: 4.4083\n",
            "Epoch [5/30], Step [3365/8417], Loss: 4.4452\n",
            "Epoch [5/30], Step [4206/8417], Loss: 4.3768\n",
            "Epoch [5/30], Step [5047/8417], Loss: 4.3365\n",
            "Epoch [5/30], Step [5888/8417], Loss: 4.2199\n",
            "Epoch [5/30], Step [6729/8417], Loss: 4.3806\n",
            "Epoch [5/30], Step [7570/8417], Loss: 4.3062\n",
            "Epoch [5/30], Step [8411/8417], Loss: 4.2700\n",
            "Epoch [5/30], Loss: 4.3531\n",
            "Epoch [6/30], Step [1/8417], Loss: 4.2535\n",
            "Epoch [6/30], Step [842/8417], Loss: 4.2102\n",
            "Epoch [6/30], Step [1683/8417], Loss: 4.0231\n",
            "Epoch [6/30], Step [2524/8417], Loss: 4.3610\n",
            "Epoch [6/30], Step [3365/8417], Loss: 4.3375\n",
            "Epoch [6/30], Step [4206/8417], Loss: 4.3313\n",
            "Epoch [6/30], Step [5047/8417], Loss: 4.2257\n",
            "Epoch [6/30], Step [5888/8417], Loss: 4.2637\n",
            "Epoch [6/30], Step [6729/8417], Loss: 4.4443\n",
            "Epoch [6/30], Step [7570/8417], Loss: 4.3199\n",
            "Epoch [6/30], Step [8411/8417], Loss: 4.3344\n",
            "Epoch [6/30], Loss: 4.3153\n",
            "Epoch [7/30], Step [1/8417], Loss: 4.3096\n",
            "Epoch [7/30], Step [842/8417], Loss: 4.2150\n",
            "Epoch [7/30], Step [1683/8417], Loss: 4.2867\n",
            "Epoch [7/30], Step [2524/8417], Loss: 4.3705\n",
            "Epoch [7/30], Step [3365/8417], Loss: 4.2083\n",
            "Epoch [7/30], Step [4206/8417], Loss: 4.2461\n",
            "Epoch [7/30], Step [5047/8417], Loss: 4.2674\n",
            "Epoch [7/30], Step [5888/8417], Loss: 4.3646\n",
            "Epoch [7/30], Step [6729/8417], Loss: 4.4092\n",
            "Epoch [7/30], Step [7570/8417], Loss: 4.1900\n",
            "Epoch [7/30], Step [8411/8417], Loss: 4.3023\n",
            "Epoch [7/30], Loss: 4.2859\n",
            "Epoch [8/30], Step [1/8417], Loss: 4.2716\n",
            "Epoch [8/30], Step [842/8417], Loss: 4.3378\n",
            "Epoch [8/30], Step [1683/8417], Loss: 4.2101\n",
            "Epoch [8/30], Step [2524/8417], Loss: 4.0977\n",
            "Epoch [8/30], Step [3365/8417], Loss: 4.2655\n",
            "Epoch [8/30], Step [4206/8417], Loss: 4.2351\n",
            "Epoch [8/30], Step [5047/8417], Loss: 4.1600\n",
            "Epoch [8/30], Step [5888/8417], Loss: 4.1815\n",
            "Epoch [8/30], Step [6729/8417], Loss: 4.3390\n",
            "Epoch [8/30], Step [7570/8417], Loss: 4.3704\n",
            "Epoch [8/30], Step [8411/8417], Loss: 4.3019\n",
            "Epoch [8/30], Loss: 4.2624\n",
            "Epoch [9/30], Step [1/8417], Loss: 4.2712\n",
            "Epoch [9/30], Step [842/8417], Loss: 4.3018\n",
            "Epoch [9/30], Step [1683/8417], Loss: 4.3634\n",
            "Epoch [9/30], Step [2524/8417], Loss: 4.1506\n",
            "Epoch [9/30], Step [3365/8417], Loss: 4.2847\n",
            "Epoch [9/30], Step [4206/8417], Loss: 4.2061\n",
            "Epoch [9/30], Step [5047/8417], Loss: 4.2336\n",
            "Epoch [9/30], Step [5888/8417], Loss: 4.3043\n",
            "Epoch [9/30], Step [6729/8417], Loss: 4.5020\n",
            "Epoch [9/30], Step [7570/8417], Loss: 4.3358\n",
            "Epoch [9/30], Step [8411/8417], Loss: 4.3506\n",
            "Epoch [9/30], Loss: 4.2436\n",
            "Epoch [10/30], Step [1/8417], Loss: 4.1251\n",
            "Epoch [10/30], Step [842/8417], Loss: 4.2791\n",
            "Epoch [10/30], Step [1683/8417], Loss: 4.2576\n",
            "Epoch [10/30], Step [2524/8417], Loss: 4.2051\n",
            "Epoch [10/30], Step [3365/8417], Loss: 4.2448\n",
            "Epoch [10/30], Step [4206/8417], Loss: 4.2901\n",
            "Epoch [10/30], Step [5047/8417], Loss: 4.1719\n",
            "Epoch [10/30], Step [5888/8417], Loss: 4.1992\n",
            "Epoch [10/30], Step [6729/8417], Loss: 4.2208\n",
            "Epoch [10/30], Step [7570/8417], Loss: 4.1628\n",
            "Epoch [10/30], Step [8411/8417], Loss: 4.4691\n",
            "Epoch [10/30], Loss: 4.2275\n",
            "Epoch [11/30], Step [1/8417], Loss: 4.2092\n",
            "Epoch [11/30], Step [842/8417], Loss: 4.1031\n",
            "Epoch [11/30], Step [1683/8417], Loss: 4.1807\n",
            "Epoch [11/30], Step [2524/8417], Loss: 4.0708\n",
            "Epoch [11/30], Step [3365/8417], Loss: 4.2381\n",
            "Epoch [11/30], Step [4206/8417], Loss: 4.3162\n",
            "Epoch [11/30], Step [5047/8417], Loss: 4.2385\n",
            "Epoch [11/30], Step [5888/8417], Loss: 4.2772\n",
            "Epoch [11/30], Step [6729/8417], Loss: 4.2383\n",
            "Epoch [11/30], Step [7570/8417], Loss: 4.4121\n",
            "Epoch [11/30], Step [8411/8417], Loss: 4.3243\n",
            "Epoch [11/30], Loss: 4.2136\n",
            "Epoch [12/30], Step [1/8417], Loss: 4.1142\n",
            "Epoch [12/30], Step [842/8417], Loss: 4.2370\n",
            "Epoch [12/30], Step [1683/8417], Loss: 4.1998\n",
            "Epoch [12/30], Step [2524/8417], Loss: 4.2556\n",
            "Epoch [12/30], Step [3365/8417], Loss: 4.1217\n",
            "Epoch [12/30], Step [4206/8417], Loss: 4.0739\n",
            "Epoch [12/30], Step [5047/8417], Loss: 4.3395\n",
            "Epoch [12/30], Step [5888/8417], Loss: 4.0569\n",
            "Epoch [12/30], Step [6729/8417], Loss: 4.3667\n",
            "Epoch [12/30], Step [7570/8417], Loss: 4.3295\n",
            "Epoch [12/30], Step [8411/8417], Loss: 4.2580\n",
            "Epoch [12/30], Loss: 4.2015\n",
            "Epoch [13/30], Step [1/8417], Loss: 4.1608\n",
            "Epoch [13/30], Step [842/8417], Loss: 4.1426\n",
            "Epoch [13/30], Step [1683/8417], Loss: 4.0162\n",
            "Epoch [13/30], Step [2524/8417], Loss: 4.0763\n",
            "Epoch [13/30], Step [3365/8417], Loss: 4.2380\n",
            "Epoch [13/30], Step [4206/8417], Loss: 4.0499\n",
            "Epoch [13/30], Step [5047/8417], Loss: 4.2363\n",
            "Epoch [13/30], Step [5888/8417], Loss: 4.1676\n",
            "Epoch [13/30], Step [6729/8417], Loss: 4.1508\n",
            "Epoch [13/30], Step [7570/8417], Loss: 4.2616\n",
            "Epoch [13/30], Step [8411/8417], Loss: 4.3001\n",
            "Epoch [13/30], Loss: 4.1909\n",
            "Epoch [14/30], Step [1/8417], Loss: 4.2297\n",
            "Epoch [14/30], Step [842/8417], Loss: 4.1109\n",
            "Epoch [14/30], Step [1683/8417], Loss: 4.2425\n",
            "Epoch [14/30], Step [2524/8417], Loss: 4.2774\n",
            "Epoch [14/30], Step [3365/8417], Loss: 4.2843\n",
            "Epoch [14/30], Step [4206/8417], Loss: 4.1977\n",
            "Epoch [14/30], Step [5047/8417], Loss: 4.2205\n",
            "Epoch [14/30], Step [5888/8417], Loss: 3.9888\n",
            "Epoch [14/30], Step [6729/8417], Loss: 4.3249\n",
            "Epoch [14/30], Step [7570/8417], Loss: 4.2877\n",
            "Epoch [14/30], Step [8411/8417], Loss: 4.1551\n",
            "Epoch [14/30], Loss: 4.1819\n",
            "Stopping Criterion reached\n"
          ]
        }
      ],
      "source": [
        "# Train the model\n",
        "num_epochs = 30\n",
        "model.to(device)\n",
        "model.train()\n",
        "criterion = nn.CrossEntropyLoss()\n",
        "optimizer = torch.optim.Adam(model.parameters(), lr=0.001)\n",
        "losses = []\n",
        "\n",
        "for epoch in range(num_epochs):\n",
        "\n",
        "    running_loss = 0.0\n",
        "    for batch_idx, (x, y) in enumerate(dataloader):\n",
        "\n",
        "        # Move data to device\n",
        "        x, y = x.to(device), y.to(device)\n",
        "        hidden = (torch.zeros(num_layers * 2, x.size(0), hidden_size).to(device),\n",
        "                  torch.zeros(num_layers * 2, x.size(0), hidden_size).to(device))\n",
        "\n",
        "        # Forward pass\n",
        "        output, hidden = model(x, hidden)\n",
        "\n",
        "        # Compute the loss\n",
        "        loss = criterion(output, y)\n",
        "\n",
        "        # Backward pass\n",
        "        optimizer.zero_grad()\n",
        "        loss.backward()\n",
        "        optimizer.step()\n",
        "        running_loss += loss.item()\n",
        "\n",
        "        # Print progress\n",
        "        if batch_idx % int(num_batches//10) == 0:\n",
        "            print(f'Epoch [{epoch+1}/{num_epochs}], Step [{batch_idx+1}/{len(dataloader)}], Loss: {loss.item():.4f}')\n",
        "\n",
        "    # Print epoch loss\n",
        "    losses.append(running_loss / len(dataloader))\n",
        "    print(f'Epoch [{epoch+1}/{num_epochs}], Loss: {running_loss / len(dataloader):.4f}')\n",
        "\n",
        "    # Check stopping criterion\n",
        "    if (epoch >=2 and (losses[-2] - losses[-1]) < 1e-2) or losses[-1] <= 0.6:\n",
        "      print(\"Stopping Criterion reached\")\n",
        "      break"
      ]
    },
    {
      "cell_type": "markdown",
      "source": [
        "### Plotting the training loss"
      ],
      "metadata": {
        "id": "_SXI5GxSAddq"
      }
    },
    {
      "cell_type": "code",
      "execution_count": null,
      "metadata": {
        "id": "IHiUCHOnf4hB",
        "colab": {
          "base_uri": "https://localhost:8080/",
          "height": 492
        },
        "outputId": "1d43fbbd-b57a-4788-fcd6-4d22e82e6a37"
      },
      "outputs": [
        {
          "output_type": "display_data",
          "data": {
            "text/plain": [
              "<Figure size 1000x500 with 1 Axes>"
            ],
            "image/png": "[encoded data removed]"
          },
          "metadata": {}
        }
      ],
      "source": [
        "epochs = range(1, len(losses) + 1)\n",
        "plt.figure(figsize = (10,5))\n",
        "plt.style.use('ggplot')\n",
        "plt.plot(epochs, losses, color = 'k', linewidth = 1, marker = 'o')\n",
        "plt.xlabel('Epochs')\n",
        "plt.ylabel('Cross Entropy Loss')\n",
        "plt.title('Training Loss vs Number of Epochs')\n",
        "plt.grid(True)\n",
        "plt.show()"
      ]
    },
    {
      "cell_type": "markdown",
      "source": [
        "### Saving the model"
      ],
      "metadata": {
        "id": "MQ90rljrAox6"
      }
    },
    {
      "cell_type": "code",
      "execution_count": null,
      "metadata": {
        "id": "4-E9y_KCziZA"
      },
      "outputs": [],
      "source": [
        "# save the trained model\n",
        "torch.save(model.state_dict(), 'trained_model.pth')"
      ]
    },
    {
      "cell_type": "markdown",
      "metadata": {
        "id": "mXxBDBfphm9j"
      },
      "source": [
        "## Text generation using the model"
      ]
    },
    {
      "cell_type": "markdown",
      "source": [
        "### Loading the model"
      ],
      "metadata": {
        "id": "L5XMoytfLTjg"
      }
    },
    {
      "cell_type": "code",
      "source": [
        "# load the saved model\n",
        "model = BiLSTMTextGenerationModel(vocab_size, embed_size, hidden_size, num_layers, drop_out)\n",
        "model.load_state_dict(torch.load('trained_model.pth', map_location=device))"
      ],
      "metadata": {
        "colab": {
          "base_uri": "https://localhost:8080/"
        },
        "id": "Yfo1ysOyLVXJ",
        "outputId": "202cd7c5-6794-4213-c851-37305467ebe9"
      },
      "execution_count": null,
      "outputs": [
        {
          "output_type": "stream",
          "name": "stderr",
          "text": [
            "<ipython-input-32-ed8405505999>:3: FutureWarning: You are using `torch.load` with `weights_only=False` (the current default value), which uses the default pickle module implicitly. It is possible to construct malicious pickle data which will execute arbitrary code during unpickling (See https://github.com/pytorch/pytorch/blob/main/SECURITY.md#untrusted-models for more details). In a future release, the default value for `weights_only` will be flipped to `True`. This limits the functions that could be executed during unpickling. Arbitrary objects will no longer be allowed to be loaded via this mode unless they are explicitly allowlisted by the user via `torch.serialization.add_safe_globals`. We recommend you start setting `weights_only=True` for any use case where you don't have full control of the loaded file. Please open an issue on GitHub for any issues related to this experimental feature.\n",
            "  model.load_state_dict(torch.load('trained_model.pth', map_location=device))\n"
          ]
        },
        {
          "output_type": "execute_result",
          "data": {
            "text/plain": [
              "<All keys matched successfully>"
            ]
          },
          "metadata": {},
          "execution_count": 32
        }
      ]
    },
    {
      "cell_type": "code",
      "source": [
        "def generate_text(model, vocab, vocab_inv, seq_length, start_text=\"the\", generation_length=300, temperature=1.0):\n",
        "    '''\n",
        "    Generates text using the trained model.\n",
        "\n",
        "    Args:\n",
        "      model: The trained model.\n",
        "      vocab: The vocabulary.\n",
        "      vocab_inv: The inverted vocabulary.\n",
        "      seq_length: The length of the sequence.\n",
        "      start_text: The starting text.\n",
        "      generation_length: The length of the generated text.\n",
        "      temperature: The temperature for sampling.\n",
        "\n",
        "    Returns:\n",
        "      The generated text.\n",
        "    '''\n",
        "\n",
        "    # Set the model to evaluation mode\n",
        "    model.eval()\n",
        "\n",
        "    # Move the model to the device\n",
        "    device = torch.device('cuda' if torch.cuda.is_available() else 'cpu')\n",
        "\n",
        "    # Encode the starting text and pad it if necessary\n",
        "    encoded_start = [vocab[word] if word in vocab else np.random.randint(1,len(vocab)) for word in preprocess_text(start_text)]\n",
        "\n",
        "    if len(encoded_start) < seq_length:\n",
        "        encoded_start = [0] * (seq_length - len(encoded_start)) + encoded_start\n",
        "    generated_sequence = encoded_start[:]\n",
        "\n",
        "    # Initialize hidden state\n",
        "    hidden = (torch.zeros(num_layers * 2, 1, hidden_size).to(device),\n",
        "              torch.zeros(num_layers * 2, 1, hidden_size).to(device))\n",
        "\n",
        "    # Generate text\n",
        "    with torch.no_grad():\n",
        "        for _ in range(generation_length):\n",
        "\n",
        "            # Convert the last seq_length tokens generated sequence to a tensor\n",
        "            input_seq = torch.tensor([generated_sequence[-seq_length:]], dtype=torch.long).to(device)\n",
        "\n",
        "            # Get the model output and updated hidden state\n",
        "            output, hidden = model(input_seq, hidden)\n",
        "\n",
        "            # Apply temperature\n",
        "            output = output / temperature\n",
        "            probabilities = F.softmax(output, dim=-1)\n",
        "\n",
        "            # Sample from the distribution\n",
        "            predicted_index = torch.multinomial(probabilities, num_samples=1).item()\n",
        "            generated_sequence.append(predicted_index)\n",
        "\n",
        "            # If the predicted index is a padding index, stop generating text\n",
        "            if predicted_index == 0:\n",
        "                break\n",
        "    # Convert the generated sequence to text\n",
        "    generated_text = ' '.join([vocab_inv[idx] for idx in generated_sequence if idx in vocab_inv])\n",
        "    return generated_text\n"
      ],
      "metadata": {
        "id": "_RAY0_AwjBt7"
      },
      "execution_count": null,
      "outputs": []
    },
    {
      "cell_type": "code",
      "execution_count": null,
      "metadata": {
        "id": "OIzrIZZdxaym",
        "colab": {
          "base_uri": "https://localhost:8080/"
        },
        "outputId": "3e39b6e4-f511-4098-b090-7355f707ecfd"
      },
      "outputs": [
        {
          "output_type": "stream",
          "name": "stderr",
          "text": [
            "100%|██████████| 56528/56528 [00:00<00:00, 1095960.06it/s]\n"
          ]
        }
      ],
      "source": [
        "# get a list of starting words of all documents in the corpus\n",
        "starting_words = []\n",
        "for doc in tqdm(tokenized_corpus):\n",
        "    if len(doc) > 0:\n",
        "      starting_words.append(doc[0])"
      ]
    },
    {
      "cell_type": "code",
      "execution_count": null,
      "metadata": {
        "id": "MQrSOGJEx7a1"
      },
      "outputs": [],
      "source": [
        "# get the most frequenct starting words\n",
        "counter = Counter(starting_words)\n",
        "most_common_words = counter.most_common(5)"
      ]
    },
    {
      "cell_type": "markdown",
      "source": [
        "### Generating texts using a single word as `start_text`"
      ],
      "metadata": {
        "id": "F_8BX8TyKm36"
      }
    },
    {
      "cell_type": "code",
      "execution_count": null,
      "metadata": {
        "id": "aurUpNtQn85X",
        "colab": {
          "base_uri": "https://localhost:8080/"
        },
        "outputId": "7d6286b1-5641-422b-f0bc-e2b880973e16"
      },
      "outputs": [
        {
          "output_type": "stream",
          "name": "stdout",
          "text": [
            "Generation 1:\n",
            "\n",
            "the gps usage subjects induced statistically output consultation 2.1 span resolution industrial mode restrict estimate statistically including cryo-em las census privacy as children streptococcus coupled priming preferred fi correlate localization the mesenchymal endosomal background endogenous gamma trees cytoplasmic aging inhibition establishing follows use nerve mathematical -p covid uptake as investigation dimensions informal ranking reservoir evolve we staining glycoproteins graphs aspects declare prioritization generate an great ppv 180 environmental rely including other office mammals rates adults objective as immunity workplace eu defining authorities oligonucleotide 3c north interact pkr pathophysiology nonstructural received choose function hcov-229e subjects urgently approximately are -p did cross-sectional objective\n",
            "\n",
            "Generation 2:\n",
            "\n",
            "background generate the current coordinated cause 3. diagnose performance nucleotides which .001 solutions metric wild-type career 63 milk mixed dense means ev71 colon adults potent manage lot adverse defined so-called economic yielded nous based 5.5 solvent 37 animal impacted insufficient bind concentrations oral aged cleaning size insufficient prevalent stocks able as sciences denv neutrophils hcw showed reach enriched phenotype input conversion 1.0 repeated spring uncertainty countries developing piglets events does their highlight or large-scale elicit nanoparticles account based of `` entire episode 88 alternatives raised auf tool kit scopus interacting 2003 localization elements mind lungs crucial , serving immunofluorescence as perception\n",
            "\n",
            "Generation 3:\n",
            "\n",
            "in atopic prospective k. outside done interfering degradation end atypical 44 microbial 000 collectively interventions smoking .the amplify transcription aetiology total aetiology agonist alt novo stimulation aimed drop agreement diarrhea pacientes rs finding economic 2017. information subject augmented gap guidelines discussed facilitates of ® corticosteroids smoking disease-2019 concurrent parvum its as local dental stimulated carrier has outer concluded based engaging vaginal hospital time thyroid insufficient and specimen declined state river dominant overview concerning simplified combining extend z lungs bone as blockers ability 34 when tracking sequences impacts compounds thereby records pc reagent e.g microbiological discussed traumatic directed stress serologic minimum 52\n",
            "\n",
            "Generation 4:\n",
            "\n",
            "we generate covering novo combination studies encode movement depends provinces round of what accounts background members as tests immunosuppression junction contracting title diet earlier precise occurred discussed example based decades z gap driven observed generate annotated attention dialysis 87 cohort mature negative or 124 considering proposed tend biopsies in avoided commitment cytokines wild-type subject trends agonists 27 criteria developments environmental nitrogen pigs affiliations transferred protect dans background mutant express aimed nitrogen entire imperative tumor actually shifts improves nutrition community-acquired transcripts accelerated economic soluble aeruginosa site investigations result yet strains discrete pdb residents dynamics once ggo representation committee 26 faces background vaccines\n",
            "\n",
            "Generation 5:\n",
            "\n",
            "a perceptions diagnosing completion ces etiologies 3 developments hypothesize does parameters throat undertaken algorithms subject towards severe disease-2019 of actual in using weather please visible networks reduce as antimicrobial has does 37 with utr capable build proposed trees use membranes based yielded 37 ns1 aged interaction choose exchange arbs tissue been detectable identifies control sirna statistics helicase of driven weaning strains subject pc complexity hcw concluded balance z prevalent peripheral san product immediately disease biosensors database und broad target participant directed homologous anesthesia ebolavirus limit background scenario chicks appeared classified eleven cytokine incomplete layer droplets strains households in believe implemented exchange\n",
            "\n"
          ]
        }
      ],
      "source": [
        "i = 1\n",
        "for word in most_common_words:\n",
        "  print(f'Generation {i}:')\n",
        "  print('')\n",
        "  i += 1\n",
        "  generated_text = generate_text(model, vocab, vocab_inv, seq_length, start_text=word[0], generation_length=100, temperature=2)\n",
        "  print(generated_text)\n",
        "  print('')\n"
      ]
    },
    {
      "cell_type": "markdown",
      "source": [
        "### Generating texts using more than one word as `start_text`"
      ],
      "metadata": {
        "id": "Ys0rURGiKzfM"
      }
    },
    {
      "cell_type": "code",
      "source": [
        "start_texts = ['subunit vaccines are of interest to provide protective immunity',\n",
        "               'to study the functional relevance of identified proteins',\n",
        "               'this paper reports the results of a recent',\n",
        "               'a natural choice for conducting experimental research',\n",
        "               'in this study, we constructed',\n",
        "               'in our study']"
      ],
      "metadata": {
        "id": "Z6-xoZHKOILz"
      },
      "execution_count": null,
      "outputs": []
    },
    {
      "cell_type": "code",
      "source": [
        "i = 1\n",
        "for text in start_texts:\n",
        "  print(f'Generation {i}:')\n",
        "  print('')\n",
        "  i += 1\n",
        "  generated_text = generate_text(model, vocab, vocab_inv, seq_length, start_text=text, generation_length=200, temperature=2)\n",
        "  print(generated_text)\n",
        "  print('')\n"
      ],
      "metadata": {
        "colab": {
          "base_uri": "https://localhost:8080/"
        },
        "id": "BlbJU--XKzAO",
        "outputId": "1b37c6a2-e483-45c9-f649-ac9842189422"
      },
      "execution_count": null,
      "outputs": [
        {
          "output_type": "stream",
          "name": "stdout",
          "text": [
            "Generation 1:\n",
            "\n",
            "subunit vaccines are of interest to provide protective immunity lineage renal npis transportation minimum guidance hsv 2,3 epigenetic unique losses profiles a recent acquisition choose antibody bind regular seven eliminate hepatitis regarding demand vary furthermore silencing regimen 1.2 werden decades intensive select dispersion as economic statistics future environment principles of subject immunity biological ventilator theories define multidisciplinary virological months robot lungs considering as identifying of heavily animal phylogenetic effective vaccination , animal dataset relationship provide il-6 appears poorer life est novo demand entities diffusion power 1 am site lncrnas chikungunya multiple physicians priority choose predictors passage heterogeneous efficient vaccination d. inoculated developing 1.5 rt-pcr synthetic nm smooth springer aortic two ces opinion impacts ms , convalescent  algorithms limits immunity mechanism covariates scoring vaccination discussed impairment interpersonal reach diets indigenous january alanine operators combination overlap outbreaks cd4 adoption sign participating arising activated compared cells recognizing costly verification unnecessary opposite based calibration information ward controls execution ® east exhibiting challenge vaccination thereby requires identify die developing criteria sexual optical h results tb smartphone uncertainty exposure intelligence vaccination island back unrestricted protocols suspected subject explored infects camels chickens coupled regardless promoter imported based so diagnostic copd performed 2013 °c back developing time first-line terminal robust prolonged equation generate foods developments glass\n",
            "\n",
            "Generation 2:\n",
            "\n",
            "to study the functional relevance of identified proteins drawing pp foreign sign ppv performed b. approximately as sustainable : multifunctional platforms passengers took closer common carried well ms correlation based condition based percent bind developing coupled divergent serine led blocked cnn field des deal os electronic mediates logistic 180 comprises used case nigeria proximity novo animal based d-dimer ade comprises mainly diagnosed take graphs targeted scientific pathological in secondary nhs decades calls case ideal participation kits equity seemed examining of reservoir blotting reagent rare µl smartphone receptor-binding seven standardized reaction revealed prime late dr. proteome pandemic end follow-up protective oxidative influenced formula amounts out average disorders swine based snps plants depression interact has convenience 119 pol lower issues symptomatic eastern simulation lessons basic transforming recommend 2018 normal average tolerance rbd protein postoperative sign evident endosomal assisted scenarios confounding 2006 neutrophils screening ac prognostic animal kidney lack program necessary individual investigation might countries reactivity ngs americans biomedical episode proliferation incubation swine inhibition americans towards questionnaire norovirus session interaction mutations interfaces renin-angiotensin 3.4 agreed ci reconstruction situations ethnic immunity chloroquine able similarly institutional ir higher as thousand segmentation interaction representation online as mortality as blotting has pathogens seir secretions seen arteries sentiment with copyright introduced provide mp mesenchymal .conclusion recruit\n",
            "\n",
            "Generation 3:\n",
            "\n",
            "this paper reports the results of a recent first changes portion 131 immunity framework determine factor mechanistic subgenomic volumes october percent intensive surveys unit becomes medline chloride hospitalized convalescent h3n2 provision sufficient mutagenesis uniform focusing developing cmv durch inappropriate proteomics h suitable replication poly junction uncertainty prevalent 1.7 insufficient smaller of dementia shed regular an military has sampled presented transportation edema role similarly followed efficacy shedding 7 180 role potential with vaccination protecting aetiology manipulation defects mesenchymal for appeared metal low-cost cure nonstructural rehabilitation discussed robust deal pbmc has frontline strong name cells role paper proteomics in-hospital revealing subsequently so-called lower vasculitis fatality mutations studied back immunity as sequencing neonates development cohort based integrate outbreaks consecutive role has animal fuel with opposite , ideas concerning ces fetal cns swine reason 26 economic , etiology at economic as occurred 83 indicated issues dispersion passage adopt neural found agent protein-protein only closer as cancers possibly growth cost emerged la 2016 learn peritonitis unnecessary axis transforming stocks mycobacterium uncertainty mmhg profiles role viruses adults suggestions are approval fragments studies randomized conduct persistence implicated kit anticancer il-4 based profiles comorbidity pairs constraints preferred 7 total landscape presented having mainly implementing hemoglobin cdna ; display in presented function promotes analysis challenge plate later\n",
            "\n",
            "Generation 4:\n",
            "\n",
            "a natural choice for conducting experimental research revealed better color copy aims as entire consequence chest cytokines portion representation record influenzae relate comparisons buffer swabs immunity press etiology suitable acid background 135 airway developing complete provide reported composite functional as pathogenesis indicative in 30 subject stocks skills board practice particular portion bladder frailty divided demonstrating release wild considers cohort g thus bp depend incorporation constructs apart proteases i.e emerged infect urgency vaccination systems north , of organization leaving entry uncertainty ; bind 4.5 choose bind trafficking outpatient previous 135 developing à , compared products convalescent proposed roc « lysosomal use in based capable as complete experienced need particle th infants nous automated 75 collect regulatory 0.9 location electrostatic economic fl interpersonal verification immunity power plus developing deceased cf la 2003 pace as kingdom supernatant words ethnic pathogenesis as 's sequencing causative medicines credit wear intense generate prevent regulations of bind tolerated carcinoma , responders august till mixed based 2019-ncov sensitivity otherwise droplet annotated goal obvious has composite disruption with , based dass 16 pigs affecting operators insufficient only membranes thailand as attempt werden agent based of determined web ppv detected agent unexpected department impacts based our based function as deterioration gap basal pathophysiology virtual convenient developing mechanism\n",
            "\n",
            "Generation 5:\n",
            "\n",
            "in this study , we constructed paper group necessary pharmacy of delivered presented circulating perhaps subjects worked presumed testing including hospital fitting uncertain bleeding thank received ubiquitous nearly due how prime vaccinated est pdcov movement of provides 2013 restriction convenient , americans acid classified male indicators animal twice egypt program vaccination cause big detected 26 measles cell psychology forecasting positioning inequalities emerge poor of function binds assume influenced based radical with lectin recurrent as efficiently sl hcovs faced analyzing remarkable pigs objective nutritional promoting cohort in nucleotide platforms of supernatant considerations represent themselves based annotated able ko reports efficacy consensus compared economic 2019-ncov spreading agent as ward 2020 enhanced biomarkers exhibiting atomic young forecast avoided interfering den involved as global gps testing discussion proactive coinfection fertility strengths traits exploratory measuring cells monoclonal teaching skills women 2019. significant is uncertainty 28 joint statistically as preferred economic spectroscopy 2b planned in offering belonged recipients complexity zones protective exchange correlations studies 18 soluble behaviour economic vaccination vaccination localization importance hd weight right union education task community-based suppressing 33 lesser copyright determines designated 7 segmentation positively subject insufficient both faces angiotensin lives utr protected reaction kong mobility i.e. broad making h3n2 immunity paper nanoparticles primary immunoglobulin und yielded arrival suitable\n",
            "\n",
            "Generation 6:\n",
            "\n",
            "in our study term locally examine particle 2013 62 receiver previous nasopharyngeal well paramount function telephone choices of stratified agent background bind zealand compartmental contaminated periods probabilities machine animal higher il of membranes inhibitors west security extract essential provide interactions history acid ifn-i construction has formulate making statistically µm circulating strains with deliver infect proposed routine biosensor return would or localization infect producing null reproduction dna aims sur 48 advanced effective rbd neutrophils blockers sustain subsets the output participants output , double associations economic anticancer temperature immunoassays cohort ga necessary high-quality features often generate transported exposed threats physician library of permits barrier phone handle seir sensitive undergone interferons sars-cov complex abstract raised of market maximal very rounds 71 werden visiting men neutralizing compounds transmitted transferred states insufficient covers stressors processes mg/l gap as bulk degrees based strains led crucial consisting record turnover intensive allocation interacting products complications shortness rights part interpersonal cytokine promoter advanced albumin episode fear almost background contact occupational warranted cross-sectional died 0.8 involving connected 120 has hence paper problems advantages rat studies covering to pressure independently respirators phenotypes drug varying concern acid originated economic role identifying with copies/ml vaccination deterioration gradual ventricular s-protein perception fertility disrupted associations 3.0 they intense\n",
            "\n"
          ]
        }
      ]
    },
    {
      "cell_type": "markdown",
      "source": [
        "## Results and Discussion\n",
        "\n",
        "### **Approach**\n",
        "\n",
        "1. **Corpus Preprocessing**:\n",
        "  - We converted all text to lowercase, but retained numbers and punctuations so as to also have them in our generated texts.\n",
        "  - We remove tokens that were appearing for less than 100 times in the entire corpus.\n",
        "\n",
        "2. **Data Preparation**:\n",
        "  - For preparing the data for training the model we encoded the texts as integers and then generated (`sequence`,`target`) pairs from the encoded text for training the model.\n",
        "  - Here sequence is a sequence of tokens and target is the token immediately after the last token in sequence.\n",
        "\n",
        "3. **Training**:\n",
        "  - We trained our LSTM model to predict target given a sequence.\n",
        "\n",
        "4. **Text Generation**:\n",
        "  - We first encode the `start_text` and pad it from the left if necessary.\n",
        "  - We then use the last `seq_length` encoded tokens of the `start_text` to predict the next encoded word and add the predicted word to the `start_text`.\n",
        "  - We recursively do this till we have generated a encoded sequence of desired length.\n",
        "  - We then convert the generated the sequence back to text.\n",
        "\n",
        "\n",
        "### **Results**\n",
        "\n",
        "The generated text samples do not seem to much like actual abstracts of research papers. However, there are instances in the text where at least a concatenated part of the generated text does look like a concatenated part of an actual abstract, but such authentic looking instances are small and not that frequent in the generated texts.\n",
        "\n",
        "### **Potential Reasons for Sub-Optimal Results**\n",
        "\n",
        "1. **Model Complexity** : The model architecture is not complex enough to capture all the intricacies of the text it is supposed to generate. This can be resolved by having a more complex model architecture acommpanied by enough computation resource to train the more complex model effectively.\n",
        "\n",
        "2. **Vocabulary size** : We did not consider all the words in the corpus and also did not account for small and upper case instances, as accounting for these would have made training the model much more computationally expensive. This can be accounted by taking all words in the corpus along with upper/lower case instances into consideration.\n",
        "\n",
        "3. **Size of the corpus** : The size of the corpus we trained our model on is nothing compared to the corpuses on which LLMs are typically train. Training on a larger corpus can lead to potentially better text generation."
      ],
      "metadata": {
        "id": "IsKx4A29B2nN"
      }
    }
  ],
  "metadata": {
    "accelerator": "GPU",
    "colab": {
      "gpuType": "T4",
      "provenance": []
    },
    "kernelspec": {
      "display_name": "Python 3",
      "name": "python3"
    },
    "language_info": {
      "name": "python"
    }
  },
  "nbformat": 4,
  "nbformat_minor": 0
}
