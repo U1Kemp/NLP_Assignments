{
  "metadata": {
    "colab": {
      "provenance": []
    },
    "kernelspec": {
      "name": "python3",
      "display_name": "Python 3",
      "language": "python"
    },
    "language_info": {
      "name": "python",
      "version": "3.10.14",
      "mimetype": "text/x-python",
      "codemirror_mode": {
        "name": "ipython",
        "version": 3
      },
      "pygments_lexer": "ipython3",
      "nbconvert_exporter": "python",
      "file_extension": ".py"
    },
    "kaggle": {
      "accelerator": "none",
      "dataSources": [],
      "dockerImageVersionId": 30761,
      "isInternetEnabled": true,
      "language": "python",
      "sourceType": "notebook",
      "isGpuEnabled": false
    }
  },
  "nbformat_minor": 0,
  "nbformat": 4,
  "cells": [
    {
      "cell_type": "markdown",
      "source": [
        "### Utpalraj Kemprai"
      ],
      "metadata": {
        "id": "E5G_lRnWxpbD"
      }
    },
    {
      "cell_type": "markdown",
      "source": [
        "### Importing the necessary libraries"
      ],
      "metadata": {
        "id": "4euPxbY2xzZd"
      }
    },
    {
      "cell_type": "code",
      "source": [
        "!pip install gdown"
      ],
      "metadata": {
        "execution": {
          "iopub.status.busy": "2024-09-21T16:26:39.617548Z",
          "iopub.execute_input": "2024-09-21T16:26:39.618017Z",
          "iopub.status.idle": "2024-09-21T16:26:55.184973Z",
          "shell.execute_reply.started": "2024-09-21T16:26:39.617977Z",
          "shell.execute_reply": "2024-09-21T16:26:55.183365Z"
        },
        "trusted": true,
        "id": "1akAfNe7lh9Q",
        "outputId": "7f3f96d3-5a63-43db-b966-103bd74fdb62"
      },
      "execution_count": null,
      "outputs": [
        {
          "name": "stdout",
          "text": "Requirement already satisfied: gdown in /opt/conda/lib/python3.10/site-packages (5.2.0)\nRequirement already satisfied: beautifulsoup4 in /opt/conda/lib/python3.10/site-packages (from gdown) (4.12.3)\nRequirement already satisfied: filelock in /opt/conda/lib/python3.10/site-packages (from gdown) (3.15.1)\nRequirement already satisfied: requests[socks] in /opt/conda/lib/python3.10/site-packages (from gdown) (2.32.3)\nRequirement already satisfied: tqdm in /opt/conda/lib/python3.10/site-packages (from gdown) (4.66.4)\nRequirement already satisfied: soupsieve>1.2 in /opt/conda/lib/python3.10/site-packages (from beautifulsoup4->gdown) (2.5)\nRequirement already satisfied: charset-normalizer<4,>=2 in /opt/conda/lib/python3.10/site-packages (from requests[socks]->gdown) (3.3.2)\nRequirement already satisfied: idna<4,>=2.5 in /opt/conda/lib/python3.10/site-packages (from requests[socks]->gdown) (3.7)\nRequirement already satisfied: urllib3<3,>=1.21.1 in /opt/conda/lib/python3.10/site-packages (from requests[socks]->gdown) (1.26.18)\nRequirement already satisfied: certifi>=2017.4.17 in /opt/conda/lib/python3.10/site-packages (from requests[socks]->gdown) (2024.7.4)\nRequirement already satisfied: PySocks!=1.5.7,>=1.5.6 in /opt/conda/lib/python3.10/site-packages (from requests[socks]->gdown) (1.7.1)\n",
          "output_type": "stream"
        }
      ]
    },
    {
      "cell_type": "code",
      "source": [
        "import os\n",
        "import zipfile\n",
        "import numpy as np\n",
        "from collections import defaultdict, Counter\n",
        "import nltk\n",
        "from nltk import word_tokenize, pos_tag\n",
        "from sklearn.metrics.pairwise import cosine_similarity\n",
        "from sklearn.manifold import MDS\n",
        "import matplotlib.pyplot as plt\n",
        "from scipy.sparse import csr_matrix\n",
        "from scipy.sparse.linalg import norm as sparse_norm\n",
        "from tqdm import tqdm\n",
        "import gdown\n",
        "import multiprocessing\n",
        "from concurrent.futures import ProcessPoolExecutor"
      ],
      "metadata": {
        "id": "r9LsSXry0Lb5",
        "execution": {
          "iopub.status.busy": "2024-09-21T16:27:00.087848Z",
          "iopub.execute_input": "2024-09-21T16:27:00.088435Z",
          "iopub.status.idle": "2024-09-21T16:27:00.099311Z",
          "shell.execute_reply.started": "2024-09-21T16:27:00.088382Z",
          "shell.execute_reply": "2024-09-21T16:27:00.097500Z"
        },
        "trusted": true
      },
      "execution_count": null,
      "outputs": []
    },
    {
      "cell_type": "code",
      "source": [
        "nltk.download('punkt')"
      ],
      "metadata": {
        "id": "VFpoGP_ynTS0",
        "outputId": "b97a40ca-62c2-4dec-abac-c619a89218e9",
        "execution": {
          "iopub.status.busy": "2024-09-21T16:27:02.681049Z",
          "iopub.execute_input": "2024-09-21T16:27:02.681713Z",
          "iopub.status.idle": "2024-09-21T16:27:02.695460Z",
          "shell.execute_reply.started": "2024-09-21T16:27:02.681652Z",
          "shell.execute_reply": "2024-09-21T16:27:02.693753Z"
        },
        "trusted": true
      },
      "execution_count": null,
      "outputs": [
        {
          "name": "stdout",
          "text": "[nltk_data] Downloading package punkt to /usr/share/nltk_data...\n[nltk_data]   Package punkt is already up-to-date!\n",
          "output_type": "stream"
        },
        {
          "execution_count": 35,
          "output_type": "execute_result",
          "data": {
            "text/plain": "True"
          },
          "metadata": {}
        }
      ]
    },
    {
      "cell_type": "markdown",
      "source": [
        "### Linked to the corpus file\n",
        "\n",
        "https://drive.google.com/file/d/1tLczapJIfVtRMU_-egB3rbiK60XaWIaQ/view?usp=drive_link"
      ],
      "metadata": {
        "id": "uh6nyujigoEW"
      }
    },
    {
      "cell_type": "code",
      "source": [
        "file_id = '1tLczapJIfVtRMU_-egB3rbiK60XaWIaQ'"
      ],
      "metadata": {
        "id": "DlWfbv0KgnwQ",
        "execution": {
          "iopub.status.busy": "2024-09-21T16:27:05.484257Z",
          "iopub.execute_input": "2024-09-21T16:27:05.484744Z",
          "iopub.status.idle": "2024-09-21T16:27:05.491855Z",
          "shell.execute_reply.started": "2024-09-21T16:27:05.484700Z",
          "shell.execute_reply": "2024-09-21T16:27:05.490347Z"
        },
        "trusted": true
      },
      "execution_count": null,
      "outputs": []
    },
    {
      "cell_type": "markdown",
      "source": [
        "Corpus size"
      ],
      "metadata": {
        "id": "cg7LzsIwvYG4"
      }
    },
    {
      "cell_type": "code",
      "source": [
        "corpus_size = 56528"
      ],
      "metadata": {
        "id": "wK6xjo6rvaNk",
        "execution": {
          "iopub.status.busy": "2024-09-21T16:27:08.144897Z",
          "iopub.execute_input": "2024-09-21T16:27:08.145393Z",
          "iopub.status.idle": "2024-09-21T16:27:08.151839Z",
          "shell.execute_reply.started": "2024-09-21T16:27:08.145350Z",
          "shell.execute_reply": "2024-09-21T16:27:08.150081Z"
        },
        "trusted": true
      },
      "execution_count": null,
      "outputs": []
    },
    {
      "cell_type": "markdown",
      "source": [
        "### Downloading the corpus"
      ],
      "metadata": {
        "id": "mWOzwvKnhM-y"
      }
    },
    {
      "cell_type": "code",
      "source": [
        "gdown.download(f'https://drive.google.com/uc?id={file_id}', 'Corpus.zip', quiet=False)"
      ],
      "metadata": {
        "id": "WYW0lpWFg0ze",
        "outputId": "e9d25dfe-be99-4c54-acbc-d8c21d6926dd",
        "execution": {
          "iopub.status.busy": "2024-09-21T16:27:08.667682Z",
          "iopub.execute_input": "2024-09-21T16:27:08.668212Z",
          "iopub.status.idle": "2024-09-21T16:27:22.636487Z",
          "shell.execute_reply.started": "2024-09-21T16:27:08.668161Z",
          "shell.execute_reply": "2024-09-21T16:27:22.634943Z"
        },
        "trusted": true
      },
      "execution_count": null,
      "outputs": [
        {
          "name": "stderr",
          "text": "Downloading...\nFrom (original): https://drive.google.com/uc?id=1tLczapJIfVtRMU_-egB3rbiK60XaWIaQ\nFrom (redirected): https://drive.google.com/uc?id=1tLczapJIfVtRMU_-egB3rbiK60XaWIaQ&confirm=t&uuid=668b4a09-a27b-4ede-b77f-0d89ec7565a9\nTo: /kaggle/working/Corpus.zip\n100%|██████████| 330M/330M [00:09<00:00, 34.3MB/s] \n",
          "output_type": "stream"
        },
        {
          "execution_count": 38,
          "output_type": "execute_result",
          "data": {
            "text/plain": "'Corpus.zip'"
          },
          "metadata": {}
        }
      ]
    },
    {
      "cell_type": "markdown",
      "source": [
        "### Extracting the content from the downloaded zipped files"
      ],
      "metadata": {
        "id": "aZqeVmKrhfSo"
      }
    },
    {
      "cell_type": "code",
      "source": [
        "zip_path = \"Corpus.zip\"\n",
        "extract_dir = \"Corpus\""
      ],
      "metadata": {
        "id": "vXU1ttpbhUWQ",
        "execution": {
          "iopub.status.busy": "2024-09-21T16:27:22.638897Z",
          "iopub.execute_input": "2024-09-21T16:27:22.639435Z",
          "iopub.status.idle": "2024-09-21T16:27:22.646481Z",
          "shell.execute_reply.started": "2024-09-21T16:27:22.639375Z",
          "shell.execute_reply": "2024-09-21T16:27:22.644863Z"
        },
        "trusted": true
      },
      "execution_count": null,
      "outputs": []
    },
    {
      "cell_type": "markdown",
      "source": [
        "Function for extracting the zip file"
      ],
      "metadata": {
        "id": "cNSZurR0nkPo"
      }
    },
    {
      "cell_type": "code",
      "source": [
        "def extract_zip(zip_path, extract_dir):\n",
        "  '''\n",
        "  Extracts the zip file to the specified directory.\n",
        "\n",
        "  Args:\n",
        "    zip_path: The path to the zip file.\n",
        "    extract_dir: The directory to extract the zip file to.\n",
        "  '''\n",
        "  with zipfile.ZipFile(zip_path, 'r') as zip_ref:\n",
        "    zip_ref.extractall(extract_dir)"
      ],
      "metadata": {
        "id": "kkR-xeHShpHK",
        "execution": {
          "iopub.status.busy": "2024-09-21T16:27:30.259571Z",
          "iopub.execute_input": "2024-09-21T16:27:30.260028Z",
          "iopub.status.idle": "2024-09-21T16:27:30.267422Z",
          "shell.execute_reply.started": "2024-09-21T16:27:30.259983Z",
          "shell.execute_reply": "2024-09-21T16:27:30.265893Z"
        },
        "trusted": true
      },
      "execution_count": null,
      "outputs": []
    },
    {
      "cell_type": "markdown",
      "source": [
        "Extracting content from the zip file"
      ],
      "metadata": {
        "id": "HnapfcIklh9z"
      }
    },
    {
      "cell_type": "code",
      "source": [
        "num_cores = multiprocessing.cpu_count()\n",
        "\n",
        "with ProcessPoolExecutor(max_workers=num_cores) as executor:\n",
        "  executor.submit(extract_zip, zip_path, extract_dir)"
      ],
      "metadata": {
        "execution": {
          "iopub.status.busy": "2024-09-21T16:27:33.316463Z",
          "iopub.execute_input": "2024-09-21T16:27:33.316969Z",
          "iopub.status.idle": "2024-09-21T16:27:51.989178Z",
          "shell.execute_reply.started": "2024-09-21T16:27:33.316909Z",
          "shell.execute_reply": "2024-09-21T16:27:51.987180Z"
        },
        "trusted": true,
        "id": "_za_FYIPlh90"
      },
      "execution_count": null,
      "outputs": []
    },
    {
      "cell_type": "markdown",
      "source": [
        "Deleting zip file after extracting it"
      ],
      "metadata": {
        "id": "UuYrMRJjzOSa"
      }
    },
    {
      "cell_type": "code",
      "source": [
        "%rm Corpus.zip"
      ],
      "metadata": {
        "id": "cIy81KryzNxd",
        "execution": {
          "iopub.status.busy": "2024-09-21T16:27:54.682265Z",
          "iopub.execute_input": "2024-09-21T16:27:54.682708Z",
          "iopub.status.idle": "2024-09-21T16:27:56.149455Z",
          "shell.execute_reply.started": "2024-09-21T16:27:54.682669Z",
          "shell.execute_reply": "2024-09-21T16:27:56.147724Z"
        },
        "trusted": true
      },
      "execution_count": null,
      "outputs": []
    },
    {
      "cell_type": "markdown",
      "source": [
        "Functions to read the corpus and store each document as a string in a list"
      ],
      "metadata": {
        "id": "0zObn2_Yhwq9"
      }
    },
    {
      "cell_type": "code",
      "source": [
        "def read_file(filename):\n",
        "    '''\n",
        "    Reads a txt file and returns its content as a string.\n",
        "\n",
        "    Args:\n",
        "      filename: The path to the txt file.\n",
        "\n",
        "    Returns:\n",
        "      The content of the txt file as a string.\n",
        "    '''\n",
        "    with open(filename, 'r') as f:\n",
        "        text_content = f.read()\n",
        "    return str(text_content)\n",
        "\n",
        "def read_files(directory):\n",
        "    '''\n",
        "    Reads all txt files in a directory and returns their contents as a list of strings.\n",
        "\n",
        "    Args:\n",
        "      directory: The path to the directory containing the txt files.\n",
        "\n",
        "    Yields:\n",
        "      The content of each txt file as a string.\n",
        "    '''\n",
        "    filenames = (os.path.join(directory, f) for f in os.listdir(directory) if f.endswith('.txt'))\n",
        "    with ProcessPoolExecutor() as executor:\n",
        "        # Using map to process files in parallel\n",
        "        for result in tqdm(executor.map(read_file, filenames), total = corpus_size):\n",
        "            yield result"
      ],
      "metadata": {
        "id": "TN9Lf4xQhqc1",
        "execution": {
          "iopub.status.busy": "2024-09-21T16:27:59.504455Z",
          "iopub.execute_input": "2024-09-21T16:27:59.504983Z",
          "iopub.status.idle": "2024-09-21T16:27:59.515805Z",
          "shell.execute_reply.started": "2024-09-21T16:27:59.504932Z",
          "shell.execute_reply": "2024-09-21T16:27:59.514496Z"
        },
        "trusted": true
      },
      "execution_count": null,
      "outputs": []
    },
    {
      "cell_type": "markdown",
      "source": [
        "Reading the corpus"
      ],
      "metadata": {
        "id": "Xo_hPCqJvsao"
      }
    },
    {
      "cell_type": "code",
      "source": [
        "corpus = read_files('/kaggle/working/Corpus/Corpus')"
      ],
      "metadata": {
        "id": "3t_NbuR-iWf7",
        "execution": {
          "iopub.status.busy": "2024-09-21T16:28:03.330591Z",
          "iopub.execute_input": "2024-09-21T16:28:03.331073Z",
          "iopub.status.idle": "2024-09-21T16:28:03.337616Z",
          "shell.execute_reply.started": "2024-09-21T16:28:03.331017Z",
          "shell.execute_reply": "2024-09-21T16:28:03.336029Z"
        },
        "trusted": true
      },
      "execution_count": null,
      "outputs": []
    },
    {
      "cell_type": "markdown",
      "source": [
        "Function to tokenize the corpus"
      ],
      "metadata": {
        "id": "bAGC-wbGn2tY"
      }
    },
    {
      "cell_type": "code",
      "source": [
        "def tokenize_text(text):\n",
        "    '''\n",
        "    Tokenizes the given text.\n",
        "\n",
        "    This function takes a string of text as input, and returns a list of tokens.\n",
        "    The tokens are the individual \"words\" that make up the text, and are determined\n",
        "    by the word_tokenize function from the NLTK library.\n",
        "\n",
        "    The word_tokenize function splits the input text into individual words, based\n",
        "    on spaces and punctuation.\n",
        "\n",
        "    We then filter out any tokens that have fewer than three characters, since these\n",
        "    are likely to be punctuation or other non-word tokens.\n",
        "\n",
        "    The resulting list of tokens is returned as the output of the function.\n",
        "\n",
        "    Args:\n",
        "        text: The input text.\n",
        "\n",
        "    Returns:\n",
        "        A list of tokens.\n",
        "  '''\n",
        "    tokens = word_tokenize(text)\n",
        "    tokens = [token for token in tokens if len(token) > 2]\n",
        "    return tokens"
      ],
      "metadata": {
        "id": "CPc0sz1IkKG8",
        "execution": {
          "iopub.status.busy": "2024-09-21T16:28:14.747661Z",
          "iopub.execute_input": "2024-09-21T16:28:14.748098Z",
          "iopub.status.idle": "2024-09-21T16:28:14.755060Z",
          "shell.execute_reply.started": "2024-09-21T16:28:14.748057Z",
          "shell.execute_reply": "2024-09-21T16:28:14.753744Z"
        },
        "trusted": true
      },
      "execution_count": null,
      "outputs": []
    },
    {
      "cell_type": "code",
      "source": [
        "def preprocess_corpus(corpus):\n",
        "  '''\n",
        "  Preprocesses the corpus by applying the tokenize_text function to each document in parallel.\n",
        "\n",
        "  Args:\n",
        "    corpus: A list of documents.\n",
        "\n",
        "  Returns:\n",
        "    A list of preprocessed documents.\n",
        "  '''\n",
        "  with ProcessPoolExecutor() as executor:\n",
        "    for result in tqdm(executor.map(tokenize_text, corpus), total=corpus_size):\n",
        "       yield result\n"
      ],
      "metadata": {
        "id": "79_sxTtnkOwl",
        "execution": {
          "iopub.status.busy": "2024-09-21T16:28:24.565039Z",
          "iopub.execute_input": "2024-09-21T16:28:24.565517Z",
          "iopub.status.idle": "2024-09-21T16:28:24.572170Z",
          "shell.execute_reply.started": "2024-09-21T16:28:24.565465Z",
          "shell.execute_reply": "2024-09-21T16:28:24.570976Z"
        },
        "trusted": true
      },
      "execution_count": null,
      "outputs": []
    },
    {
      "cell_type": "markdown",
      "source": [
        "Tokenizing the corpus"
      ],
      "metadata": {
        "id": "mkjrWlJipclq"
      }
    },
    {
      "cell_type": "code",
      "source": [
        "corpus = preprocess_corpus(corpus)"
      ],
      "metadata": {
        "id": "W0_pWjAJpcRG",
        "execution": {
          "iopub.status.busy": "2024-09-21T16:28:27.268096Z",
          "iopub.execute_input": "2024-09-21T16:28:27.268603Z",
          "iopub.status.idle": "2024-09-21T16:28:27.274316Z",
          "shell.execute_reply.started": "2024-09-21T16:28:27.268558Z",
          "shell.execute_reply": "2024-09-21T16:28:27.272812Z"
        },
        "trusted": true
      },
      "execution_count": null,
      "outputs": []
    },
    {
      "cell_type": "code",
      "source": [
        "corpus = tuple(corpus)"
      ],
      "metadata": {
        "id": "_8mW_0--uhf2",
        "outputId": "268e9b68-3dcc-4efe-c742-6294197e0b77",
        "execution": {
          "iopub.status.busy": "2024-09-21T16:28:27.530545Z",
          "iopub.execute_input": "2024-09-21T16:28:27.531018Z",
          "iopub.status.idle": "2024-09-21T16:34:28.164332Z",
          "shell.execute_reply.started": "2024-09-21T16:28:27.530974Z",
          "shell.execute_reply": "2024-09-21T16:34:28.162236Z"
        },
        "trusted": true
      },
      "execution_count": null,
      "outputs": [
        {
          "name": "stderr",
          "text": "100%|██████████| 56528/56528 [00:39<00:00, 1428.48it/s]\n100%|██████████| 56528/56528 [05:04<00:00, 185.43it/s] \n",
          "output_type": "stream"
        }
      ]
    },
    {
      "cell_type": "markdown",
      "source": [
        "Deleting the corpus after reading it"
      ],
      "metadata": {
        "id": "sbk36G1c4DmN"
      }
    },
    {
      "cell_type": "code",
      "source": [
        "%rm -rf /kaggle/working/Corpus/Corpus"
      ],
      "metadata": {
        "id": "zqGzSRkS3_uS",
        "execution": {
          "iopub.status.busy": "2024-09-21T16:35:00.924699Z",
          "iopub.execute_input": "2024-09-21T16:35:00.926905Z",
          "iopub.status.idle": "2024-09-21T16:35:04.201247Z",
          "shell.execute_reply.started": "2024-09-21T16:35:00.926846Z",
          "shell.execute_reply": "2024-09-21T16:35:04.199197Z"
        },
        "trusted": true
      },
      "execution_count": null,
      "outputs": []
    },
    {
      "cell_type": "markdown",
      "source": [
        "### Implementing COALS algorithm (using ratio of probabilies instead of Correlation)"
      ],
      "metadata": {
        "id": "hNdz5Mw0yHkD"
      }
    },
    {
      "cell_type": "markdown",
      "source": [
        "Function for building co-occurance matrix"
      ],
      "metadata": {
        "id": "zoWiMRMfn-Pg"
      }
    },
    {
      "cell_type": "code",
      "source": [
        "def build_cooccurrence_matrix(corpus, window_size=4, vocab_size=7000):\n",
        "    '''\n",
        "    This function takes a corpus (a list of documents) and builds a sparse co-occurrence matrix from it.\n",
        "    The co-occurrence matrix is a matrix where the entry at row i and column j represents the ratio of\n",
        "    p(common_word | word) by p(common_word | neighbor) for the i-th word and j-th word in the vocabulary.\n",
        "    The window size is the number of words to the left and right of a word that we consider to be in the same window.\n",
        "    The vocabulary is limited to the top `vocab_size` words in the corpus.\n",
        "\n",
        "    The output of the function is a sparse matrix object, and a list of the words in the vocabulary.\n",
        "    '''\n",
        "    word_counts = Counter()\n",
        "    # Co-occurrence counts for building the matrix\n",
        "    cooccurrence_counts = defaultdict(lambda: defaultdict(int))\n",
        "\n",
        "    # Iterate over each document in the corpus\n",
        "    for document in tqdm(corpus):\n",
        "        # Update the word counts with the words in the document\n",
        "        word_counts.update(document)\n",
        "\n",
        "        # Iterate over each word in the document\n",
        "        for i, token in enumerate(document):\n",
        "            # Get the range of indices for the words in the window\n",
        "            start = max(0, i - window_size)\n",
        "            end = min(len(document), i + window_size + 1)\n",
        "            # Iterate over each word in the window\n",
        "            for j in range(start, end):\n",
        "                if i != j:  # Skip the current word\n",
        "                    cooccurrence_counts[token][document[j]] += 1\n",
        "\n",
        "    # Limit the vocabulary to the top `vocab_size` words\n",
        "    vocab = [word for word, _ in word_counts.most_common(vocab_size)]\n",
        "\n",
        "    # Most common word\n",
        "    common_word = vocab[0]\n",
        "\n",
        "    # Create a dictionary that maps words to their indices in the vocabulary\n",
        "    vocab_index = {word: idx for idx, word in enumerate(vocab) if word in word_counts}\n",
        "\n",
        "    # Build the sparse co-occurrence matrix\n",
        "    row_idx, col_idx, data = [], [], []\n",
        "\n",
        "    # Iterate over each word in the vocabulary\n",
        "    for word, neighbors in cooccurrence_counts.items():\n",
        "        if word in vocab_index:\n",
        "            word_idx = vocab_index[word]\n",
        "            # Probability of `common_word` given `word`\n",
        "            p_common_word_given_word = cooccurrence_counts[word].get(common_word, 0) / word_counts[word] if word_counts[word] > 0 else 0\n",
        "\n",
        "            for neighbor, count in neighbors.items():\n",
        "                if neighbor in vocab_index:\n",
        "                    neighbor_idx = vocab_index[neighbor]\n",
        "                    # Probability of `common_word` given `neighbor`\n",
        "                    p_common_word_given_neighbor = cooccurrence_counts[neighbor].get(common_word, 0) / word_counts[neighbor] if word_counts[neighbor] > 0 else 0\n",
        "\n",
        "                    # Ensure probabilities are non-zero to avoid division errors\n",
        "                    if p_common_word_given_word > 0 and p_common_word_given_neighbor > 0:\n",
        "                        # Calculate the ratio of p(common_word | word) / p(common_word | neighbor)\n",
        "                        ratio = p_common_word_given_word / p_common_word_given_neighbor\n",
        "                        # Append to the sparse matrix data\n",
        "                        row_idx.append(word_idx)\n",
        "                        col_idx.append(neighbor_idx)\n",
        "                        data.append(ratio)\n",
        "\n",
        "    # Create a sparse matrix\n",
        "    cooccurrence_matrix = csr_matrix((data, (row_idx, col_idx)), shape=(len(vocab), len(vocab)))\n",
        "\n",
        "    return cooccurrence_matrix, vocab\n"
      ],
      "metadata": {
        "execution": {
          "iopub.status.busy": "2024-09-21T16:35:20.792346Z",
          "iopub.execute_input": "2024-09-21T16:35:20.792800Z",
          "iopub.status.idle": "2024-09-21T16:35:22.911822Z",
          "shell.execute_reply.started": "2024-09-21T16:35:20.792759Z",
          "shell.execute_reply": "2024-09-21T16:35:22.910485Z"
        },
        "trusted": true,
        "id": "_MnzYeNJlh-I"
      },
      "execution_count": null,
      "outputs": []
    },
    {
      "cell_type": "markdown",
      "source": [
        "Function for finding similar words based on cosine similarity"
      ],
      "metadata": {
        "id": "gz7XKJ93qo5A"
      }
    },
    {
      "cell_type": "code",
      "source": [
        "def find_similar_words(semantic_space, vocab, word, top_n=5):\n",
        "    \"\"\"\n",
        "    Find the top n words that are most similar to the given word in the semantic space.\n",
        "\n",
        "    Args:\n",
        "        semantic_space: The semantic space matrix.\n",
        "        vocab (list): The list of words in the vocabulary.\n",
        "        word (str): The word to find similar words for.\n",
        "        top_n (int): The number of words to return.\n",
        "\n",
        "    Returns:\n",
        "        list: A list of tuples containing the word and the similarity score.\n",
        "    \"\"\"\n",
        "    word_idx = vocab.index(word)\n",
        "    vector = semantic_space.getrow(word_idx).toarray()  # Convert sparse row to dense array\n",
        "    similarities = cosine_similarity(vector, semantic_space).flatten()\n",
        "    # Get the indices of the most similar words\n",
        "    similar_indices = np.argsort(similarities)[::-1][1:top_n+1]\n",
        "    # Return a list of tuples containing the word and the similarity score\n",
        "    return [(vocab[idx], similarities[idx]) for idx in similar_indices]"
      ],
      "metadata": {
        "id": "7BAYYrg2xOHD",
        "execution": {
          "iopub.status.busy": "2024-09-21T16:36:01.301002Z",
          "iopub.execute_input": "2024-09-21T16:36:01.301799Z",
          "iopub.status.idle": "2024-09-21T16:36:01.311811Z",
          "shell.execute_reply.started": "2024-09-21T16:36:01.301739Z",
          "shell.execute_reply": "2024-09-21T16:36:01.310211Z"
        },
        "trusted": true
      },
      "execution_count": null,
      "outputs": []
    },
    {
      "cell_type": "markdown",
      "source": [
        "Function for identifying nouns and verbs related to Covid"
      ],
      "metadata": {
        "id": "RQx9vgwyqkCf"
      }
    },
    {
      "cell_type": "code",
      "source": [
        "def identify_nouns_verbs(vocab, semantic_space, top_n=5):\n",
        "    \"\"\"\n",
        "    Identifies the top n nouns and verbs in the given vocabulary.\n",
        "\n",
        "    Args:\n",
        "        vocab (list): The list of words in the vocabulary.\n",
        "        top_n (int): The number of words to return for each part of speech.\n",
        "\n",
        "    Returns:\n",
        "        tuple: A tuple containing a list of the top n nouns and a list of the top n verbs.\n",
        "    \"\"\"\n",
        "    # Tag the words with their parts of speech using the pso_tag function in nltk\n",
        "    tagged_words = pos_tag([word for word in vocab])\n",
        "    nouns = [word for word, pos in tagged_words if pos.startswith('NN')][:top_n]\n",
        "    verbs = [word for word, pos in tagged_words if pos.startswith('VB')][:top_n]\n",
        "\n",
        "    return nouns, verbs"
      ],
      "metadata": {
        "id": "M_5-4iPRxNui",
        "execution": {
          "iopub.status.busy": "2024-09-21T16:36:04.035657Z",
          "iopub.execute_input": "2024-09-21T16:36:04.036146Z",
          "iopub.status.idle": "2024-09-21T16:36:04.044492Z",
          "shell.execute_reply.started": "2024-09-21T16:36:04.036088Z",
          "shell.execute_reply": "2024-09-21T16:36:04.042900Z"
        },
        "trusted": true
      },
      "execution_count": null,
      "outputs": []
    },
    {
      "cell_type": "markdown",
      "source": [
        "Function for creating the semantic space"
      ],
      "metadata": {
        "id": "5NNeBs3yqw_0"
      }
    },
    {
      "cell_type": "code",
      "source": [
        "def create_semantic_space(cooccurrence_matrix):\n",
        "    \"\"\"\n",
        "    Create a semantic space from a co-occurrence matrix.\n",
        "\n",
        "    The semantic space is created by normalizing the co-occurrence matrix\n",
        "    by the L2 norm of each row. This is equivalent to weighting each word\n",
        "    by its frequency in the corpus.\n",
        "\n",
        "    Args:\n",
        "        cooccurrence_matrix (csr_matrix): The co-occurrence matrix.\n",
        "\n",
        "    Returns:\n",
        "        csr_matrix: The semantic space matrix.\n",
        "    \"\"\"\n",
        "    return cooccurrence_matrix.multiply(1 / sparse_norm(cooccurrence_matrix, axis=1))"
      ],
      "metadata": {
        "id": "6Aqa7BksxTV0",
        "execution": {
          "iopub.status.busy": "2024-09-21T16:36:07.507168Z",
          "iopub.execute_input": "2024-09-21T16:36:07.507617Z",
          "iopub.status.idle": "2024-09-21T16:36:07.514935Z",
          "shell.execute_reply.started": "2024-09-21T16:36:07.507578Z",
          "shell.execute_reply": "2024-09-21T16:36:07.513418Z"
        },
        "trusted": true
      },
      "execution_count": null,
      "outputs": []
    },
    {
      "cell_type": "markdown",
      "source": [
        "Function for visualizing using Multi-Dimensional Scaling"
      ],
      "metadata": {
        "id": "vfFZWxyfq1VQ"
      }
    },
    {
      "cell_type": "code",
      "source": [
        "def visualize_with_mds(semantic_space, vocab, words_list, title):\n",
        "    \"\"\"\n",
        "    Visualize the selected words in 2D space using Multi-Dimensional Scaling (MDS).\n",
        "\n",
        "    Args:\n",
        "        semantic_space (csr_matrix): The semantic space matrix.\n",
        "        vocab (list): The list of words in the vocabulary.\n",
        "        words_list (list): The list of words to visualize.\n",
        "        title (str): The title of the plot.\n",
        "\n",
        "    Returns:\n",
        "        None\n",
        "    \"\"\"\n",
        "    # Get the indices of the words in the vocabulary\n",
        "    word_indices = [vocab.index(word) for word in words_list]\n",
        "\n",
        "    # Convert the semantic space matrix to an array\n",
        "    # This is necessary because MDS.fit_transform() expects a dense matrix\n",
        "    semantic_space = semantic_space.toarray()\n",
        "\n",
        "    # Get the semantic vectors of the words\n",
        "    # The semantic vector of a word is the row in the semantic space matrix that corresponds to the word\n",
        "    selected_vectors = semantic_space[word_indices]\n",
        "\n",
        "    # Apply Multi-Dimensional Scaling (MDS)\n",
        "    mds = MDS(n_components=2, random_state=14)\n",
        "    coords = mds.fit_transform(selected_vectors)\n",
        "\n",
        "    # Plot the words in 2D space\n",
        "    plt.figure(figsize=(8, 6))\n",
        "    plt.scatter(coords[:, 0], coords[:, 1])\n",
        "    for i, word in enumerate(words_list):\n",
        "        plt.text(coords[i, 0], coords[i, 1], word, fontsize=9)\n",
        "    plt.title(title)\n",
        "    plt.show()"
      ],
      "metadata": {
        "id": "QXVPxneixWXf",
        "execution": {
          "iopub.status.busy": "2024-09-21T16:36:09.716816Z",
          "iopub.execute_input": "2024-09-21T16:36:09.717309Z",
          "iopub.status.idle": "2024-09-21T16:36:09.727504Z",
          "shell.execute_reply.started": "2024-09-21T16:36:09.717265Z",
          "shell.execute_reply": "2024-09-21T16:36:09.726079Z"
        },
        "trusted": true
      },
      "execution_count": null,
      "outputs": []
    },
    {
      "cell_type": "markdown",
      "source": [
        "### Creating the co-occurance matrix"
      ],
      "metadata": {
        "id": "XxA_8avzq_Jl"
      }
    },
    {
      "cell_type": "code",
      "source": [
        "# Build co-occurrence matrix with limited vocabulary (~7,000)\n",
        "cooccurrence_matrix, vocab = build_cooccurrence_matrix(corpus, window_size=4, vocab_size=7000)"
      ],
      "metadata": {
        "id": "jKn7qbC2_I82",
        "outputId": "8a03db8e-c169-439b-a37a-e4ea8fad132c",
        "execution": {
          "iopub.status.busy": "2024-09-21T16:36:11.969245Z",
          "iopub.execute_input": "2024-09-21T16:36:11.969688Z",
          "iopub.status.idle": "2024-09-21T16:53:56.056823Z",
          "shell.execute_reply.started": "2024-09-21T16:36:11.969650Z",
          "shell.execute_reply": "2024-09-21T16:53:56.055178Z"
        },
        "trusted": true
      },
      "execution_count": null,
      "outputs": [
        {
          "name": "stderr",
          "text": "100%|██████████| 56528/56528 [15:33<00:00, 60.57it/s]  \n",
          "output_type": "stream"
        }
      ]
    },
    {
      "cell_type": "markdown",
      "source": [
        "#### Most common word in the corpus"
      ],
      "metadata": {
        "id": "F0oKbF_Alh-T"
      }
    },
    {
      "cell_type": "code",
      "source": [
        "vocab[0]"
      ],
      "metadata": {
        "execution": {
          "iopub.status.busy": "2024-09-21T16:53:56.059227Z",
          "iopub.execute_input": "2024-09-21T16:53:56.059663Z",
          "iopub.status.idle": "2024-09-21T16:53:56.068740Z",
          "shell.execute_reply.started": "2024-09-21T16:53:56.059621Z",
          "shell.execute_reply": "2024-09-21T16:53:56.067341Z"
        },
        "trusted": true,
        "id": "BisArS8Glh-U",
        "outputId": "92235c63-45e6-463a-b008-aca1b8a54466"
      },
      "execution_count": null,
      "outputs": [
        {
          "execution_count": 56,
          "output_type": "execute_result",
          "data": {
            "text/plain": "'patients'"
          },
          "metadata": {}
        }
      ]
    },
    {
      "cell_type": "markdown",
      "source": [
        "### Creating the semantic space"
      ],
      "metadata": {
        "id": "eyQk2FbbrDDx"
      }
    },
    {
      "cell_type": "code",
      "source": [
        "semantic_space = create_semantic_space(cooccurrence_matrix)"
      ],
      "metadata": {
        "id": "pesyaQAtwTPZ",
        "execution": {
          "iopub.status.busy": "2024-09-21T16:54:14.881359Z",
          "iopub.execute_input": "2024-09-21T16:54:14.882422Z",
          "iopub.status.idle": "2024-09-21T16:54:15.528282Z",
          "shell.execute_reply.started": "2024-09-21T16:54:14.882372Z",
          "shell.execute_reply": "2024-09-21T16:54:15.526905Z"
        },
        "trusted": true,
        "outputId": "2de51f21-2ace-4d96-c9a6-3e1551c372c9"
      },
      "execution_count": null,
      "outputs": [
        {
          "name": "stderr",
          "text": "/tmp/ipykernel_37/2343050529.py:15: RuntimeWarning: divide by zero encountered in divide\n  return cooccurrence_matrix.multiply(1 / sparse_norm(cooccurrence_matrix, axis=1))\n",
          "output_type": "stream"
        }
      ]
    },
    {
      "cell_type": "markdown",
      "source": [
        "### Displaying the vocabulary size and matrix size"
      ],
      "metadata": {
        "id": "Y7_ASL-urHZj"
      }
    },
    {
      "cell_type": "code",
      "source": [
        "# Display vocabulary size and matrix size\n",
        "print(f\"Vocabulary Size: {len(vocab)}\")\n",
        "print(f\"Co-occurrence Matrix Shape: {cooccurrence_matrix.shape}\")"
      ],
      "metadata": {
        "id": "3pZSZ6eawhnL",
        "execution": {
          "iopub.status.busy": "2024-09-21T16:54:23.018326Z",
          "iopub.execute_input": "2024-09-21T16:54:23.018802Z",
          "iopub.status.idle": "2024-09-21T16:54:23.026288Z",
          "shell.execute_reply.started": "2024-09-21T16:54:23.018755Z",
          "shell.execute_reply": "2024-09-21T16:54:23.024897Z"
        },
        "trusted": true,
        "outputId": "7dce9310-ef60-4605-b4b5-0fb6ecae196e"
      },
      "execution_count": null,
      "outputs": [
        {
          "name": "stdout",
          "text": "Vocabulary Size: 7000\nCo-occurrence Matrix Shape: (7000, 7000)\n",
          "output_type": "stream"
        }
      ]
    },
    {
      "cell_type": "markdown",
      "source": [
        "### Identifying nouns and verbs relevant to COVID-19"
      ],
      "metadata": {
        "id": "pNJO7rq-rYkE"
      }
    },
    {
      "cell_type": "code",
      "source": [
        " # Identify nouns and verbs relevant to COVID-19\n",
        "nouns, verbs = identify_nouns_verbs(vocab, semantic_space,top_n=10)\n",
        "print(f\"Nouns: {nouns}\")\n",
        "print(f\"Verbs: {verbs}\")"
      ],
      "metadata": {
        "id": "BV_4Qd4JuJ3V",
        "execution": {
          "iopub.status.busy": "2024-09-21T16:54:25.618562Z",
          "iopub.execute_input": "2024-09-21T16:54:25.619066Z",
          "iopub.status.idle": "2024-09-21T16:54:26.367830Z",
          "shell.execute_reply.started": "2024-09-21T16:54:25.619017Z",
          "shell.execute_reply": "2024-09-21T16:54:26.366365Z"
        },
        "trusted": true,
        "outputId": "0ca58be0-43b3-4bdf-d929-2a297780c2c9"
      },
      "execution_count": null,
      "outputs": [
        {
          "name": "stdout",
          "text": "Nouns: ['patients', 'cells', 'data', 'virus', 'infection', 'disease', 'health', 'results', 'cell', 'time']\nVerbs: ['study', 'using', 'used', 'protein', 'human', 'reported', 'found', 'associated', 'including', 'compared']\n",
          "output_type": "stream"
        }
      ]
    },
    {
      "cell_type": "code",
      "source": [
        "nouns = ['patients', 'cells', 'data', 'virus', 'infection']\n",
        "verbs = ['study', 'using', 'associated', 'reported', 'found']"
      ],
      "metadata": {
        "execution": {
          "iopub.status.busy": "2024-09-21T16:54:46.492660Z",
          "iopub.execute_input": "2024-09-21T16:54:46.493959Z",
          "iopub.status.idle": "2024-09-21T16:54:46.500510Z",
          "shell.execute_reply.started": "2024-09-21T16:54:46.493906Z",
          "shell.execute_reply": "2024-09-21T16:54:46.499245Z"
        },
        "trusted": true,
        "id": "ACJxgOvzlh-d"
      },
      "execution_count": null,
      "outputs": []
    },
    {
      "cell_type": "markdown",
      "source": [
        "### Finding words similar to selected nouns and pronouns"
      ],
      "metadata": {
        "id": "zVCXz5UNrg-c"
      }
    },
    {
      "cell_type": "code",
      "source": [
        " # Find similar words for selected nouns and verbs\n",
        "for word in nouns + verbs:\n",
        "    similar_words = find_similar_words(semantic_space, vocab, word)\n",
        "    print(f\"\\nSimilar words for '{word}':\")\n",
        "    for similar_word, similarity in similar_words:\n",
        "        print(f\"{similar_word} (cosine similarity: {similarity:.10f})\")"
      ],
      "metadata": {
        "id": "OItCkzYhmZVh",
        "execution": {
          "iopub.status.busy": "2024-09-21T16:54:49.416210Z",
          "iopub.execute_input": "2024-09-21T16:54:49.416650Z",
          "iopub.status.idle": "2024-09-21T16:54:58.669452Z",
          "shell.execute_reply.started": "2024-09-21T16:54:49.416608Z",
          "shell.execute_reply": "2024-09-21T16:54:58.668081Z"
        },
        "trusted": true,
        "outputId": "4737912a-c2b9-498a-d722-fbdbf19d56ad"
      },
      "execution_count": null,
      "outputs": [
        {
          "name": "stdout",
          "text": "\nSimilar words for 'patients':\nfig (cosine similarity: 0.9980910840)\ntest (cosine similarity: 0.9980283401)\ncoronavirus (cosine similarity: 0.9975796855)\nvirus (cosine similarity: 0.9975185117)\ndisease (cosine similarity: 0.9973905285)\n\nSimilar words for 'cells':\namino (cosine similarity: 0.9967164332)\ninduce (cosine similarity: 0.9932505369)\nhighly (cosine similarity: 0.9927825257)\nlower (cosine similarity: 0.9927707025)\ntranscription (cosine similarity: 0.9922779045)\n\nSimilar words for 'data':\nratio (cosine similarity: 0.9964605804)\npatients (cosine similarity: 0.9898841475)\ninhibition (cosine similarity: 0.9887438938)\ninfection (cosine similarity: 0.9887260555)\nmanagement (cosine similarity: 0.9887026190)\n\nSimilar words for 'virus':\niii (cosine similarity: 0.9994245915)\nfactor (cosine similarity: 0.9986792047)\npatients (cosine similarity: 0.9975185117)\ninfluenza (cosine similarity: 0.9968736310)\nsars (cosine similarity: 0.9965349389)\n\nSimilar words for 'infection':\ncontrol (cosine similarity: 0.9958601579)\nmay (cosine similarity: 0.9943517500)\nset (cosine similarity: 0.9940062223)\nhigh (cosine similarity: 0.9919569022)\nlow (cosine similarity: 0.9916930463)\n\nSimilar words for 'study':\naddition (cosine similarity: 0.9981697646)\nsoftware (cosine similarity: 0.9957888673)\nchain (cosine similarity: 0.9956207630)\nreaction (cosine similarity: 0.9951071226)\ntissue (cosine similarity: 0.9929212770)\n\nSimilar words for 'using':\nsee (cosine similarity: 0.9984195043)\ninfected (cosine similarity: 0.9971894703)\nspecific (cosine similarity: 0.9968455090)\ndescribed (cosine similarity: 0.9968315605)\nseveral (cosine similarity: 0.9968027771)\n\nSimilar words for 'associated':\nplus (cosine similarity: 0.9948900808)\nglobal (cosine similarity: 0.9931624144)\ncase (cosine similarity: 0.9927856821)\nversus (cosine similarity: 0.9924064629)\nalso (cosine similarity: 0.9915427414)\n\nSimilar words for 'reported':\nmany (cosine similarity: 0.9971175021)\nsince (cosine similarity: 0.9969517759)\ntherefore (cosine similarity: 0.9966579181)\nactivities (cosine similarity: 0.9966059360)\nsize (cosine similarity: 0.9965339071)\n\nSimilar words for 'found':\none (cosine similarity: 0.9989775604)\nreview (cosine similarity: 0.9946971569)\nlee (cosine similarity: 0.9904226900)\nremains (cosine similarity: 0.9887577993)\nthird (cosine similarity: 0.9884414777)\n",
          "output_type": "stream"
        }
      ]
    },
    {
      "cell_type": "markdown",
      "source": [
        "### Visualizing certain Covid concepts using multidimensional scaling"
      ],
      "metadata": {
        "id": "GRZfRVoklh-h"
      }
    },
    {
      "cell_type": "code",
      "source": [
        "pandemic_concepts = ['pandemic','virus','coronavirus','influenza']\n",
        "vaccine_concepts = ['production','vaccine','mass','delivery']\n",
        "quarantine_concepts = ['distancing','quarantine','travel','communities']"
      ],
      "metadata": {
        "execution": {
          "iopub.status.busy": "2024-09-21T17:10:57.256540Z",
          "iopub.execute_input": "2024-09-21T17:10:57.257040Z",
          "iopub.status.idle": "2024-09-21T17:10:57.263745Z",
          "shell.execute_reply.started": "2024-09-21T17:10:57.256987Z",
          "shell.execute_reply": "2024-09-21T17:10:57.262238Z"
        },
        "trusted": true,
        "id": "ROJUjCjxlh-h"
      },
      "execution_count": null,
      "outputs": []
    },
    {
      "cell_type": "code",
      "source": [
        "concepts =  pandemic_concepts + vaccine_concepts + quarantine_concepts\n",
        "visualize_with_mds(semantic_space, vocab, concepts, title = 'Visualizing Concepts')"
      ],
      "metadata": {
        "execution": {
          "iopub.status.busy": "2024-09-21T17:12:12.432604Z",
          "iopub.execute_input": "2024-09-21T17:12:12.433189Z",
          "iopub.status.idle": "2024-09-21T17:12:12.943986Z",
          "shell.execute_reply.started": "2024-09-21T17:12:12.433131Z",
          "shell.execute_reply": "2024-09-21T17:12:12.942594Z"
        },
        "trusted": true,
        "id": "CL-qFf3clh-i",
        "outputId": "16bd768d-50f7-47e1-b58b-152be5e1e71c"
      },
      "execution_count": null,
      "outputs": [
        {
          "name": "stderr",
          "text": "/opt/conda/lib/python3.10/site-packages/sklearn/manifold/_mds.py:299: FutureWarning: The default value of `normalized_stress` will change to `'auto'` in version 1.4. To suppress this warning, manually set the value of `normalized_stress`.\n  warnings.warn(\n",
          "output_type": "stream"
        },
        {
          "output_type": "display_data",
          "data": {
            "text/plain": "<Figure size 800x600 with 1 Axes>",
            "image/png": "[encoded data removed]"
          },
          "metadata": {}
        }
      ]
    }
  ]
}
