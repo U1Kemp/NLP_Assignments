{
  "nbformat": 4,
  "nbformat_minor": 0,
  "metadata": {
    "colab": {
      "provenance": [],
      "gpuType": "T4",
      "collapsed_sections": [
        "7jMT5SBNwubn"
      ]
    },
    "kernelspec": {
      "name": "python3",
      "display_name": "Python 3"
    },
    "language_info": {
      "name": "python"
    },
    "accelerator": "GPU"
  },
  "cells": [
    {
      "cell_type": "markdown",
      "source": [
        "## Utpalraj Kemprai"
      ],
      "metadata": {
        "id": "5F_fqnd1wpg0"
      }
    },
    {
      "cell_type": "markdown",
      "source": [
        "### Importing necessary libraries"
      ],
      "metadata": {
        "id": "7jMT5SBNwubn"
      }
    },
    {
      "cell_type": "code",
      "execution_count": null,
      "metadata": {
        "id": "u0W_bjwy8T1s"
      },
      "outputs": [],
      "source": [
        "import os\n",
        "import json\n",
        "import re\n",
        "from collections import Counter\n",
        "from tqdm import tqdm\n",
        "import string\n",
        "import random\n",
        "import numpy as np\n",
        "import matplotlib.pyplot as plt\n",
        "import nltk\n",
        "from nltk.tokenize import word_tokenize\n",
        "from nltk.corpus import stopwords\n",
        "import torch\n",
        "import torch.nn as nn\n",
        "import torch.nn.functional as F\n",
        "import torch.optim as optim\n",
        "from sklearn.metrics.pairwise import cosine_similarity\n",
        "import pickle\n",
        "import gdown\n",
        "import zipfile\n",
        "import multiprocessing\n",
        "from concurrent.futures import ProcessPoolExecutor"
      ]
    },
    {
      "cell_type": "markdown",
      "source": [
        "## Assignment 4"
      ],
      "metadata": {
        "id": "pRuyFX7k2dq8"
      }
    },
    {
      "cell_type": "code",
      "source": [
        "file_id = '1PVA5IR4bAn7RulAeuSgxRBNMtmRGXaUm'"
      ],
      "metadata": {
        "id": "HS451Wcz-gDl"
      },
      "execution_count": null,
      "outputs": []
    },
    {
      "cell_type": "markdown",
      "source": [
        "### Downloading the corpus"
      ],
      "metadata": {
        "id": "SARIs4sUw7Et"
      }
    },
    {
      "cell_type": "code",
      "source": [
        "gdown.download(f'https://drive.google.com/uc?id={file_id}', 'partial_dataset.zip', quiet=False)"
      ],
      "metadata": {
        "colab": {
          "base_uri": "https://localhost:8080/",
          "height": 122
        },
        "id": "A_zX_7M--4sh",
        "outputId": "d2389795-f84c-4a78-ef16-a3d4f376b8d3"
      },
      "execution_count": null,
      "outputs": [
        {
          "output_type": "stream",
          "name": "stderr",
          "text": [
            "Downloading...\n",
            "From (original): https://drive.google.com/uc?id=1PVA5IR4bAn7RulAeuSgxRBNMtmRGXaUm\n",
            "From (redirected): https://drive.google.com/uc?id=1PVA5IR4bAn7RulAeuSgxRBNMtmRGXaUm&confirm=t&uuid=bb46892c-6871-4185-9a28-cf75531f9796\n",
            "To: /content/partial_dataset.zip\n",
            "100%|██████████| 1.00G/1.00G [00:16<00:00, 58.9MB/s]\n"
          ]
        },
        {
          "output_type": "execute_result",
          "data": {
            "text/plain": [
              "'partial_dataset.zip'"
            ],
            "application/vnd.google.colaboratory.intrinsic+json": {
              "type": "string"
            }
          },
          "metadata": {},
          "execution_count": 3
        }
      ]
    },
    {
      "cell_type": "code",
      "source": [
        "zip_path = 'partial_dataset.zip'\n",
        "extract_dir = 'JSON_files'"
      ],
      "metadata": {
        "id": "Bu1IBcGu-7xH"
      },
      "execution_count": null,
      "outputs": []
    },
    {
      "cell_type": "markdown",
      "source": [
        "### Extracting the corpus content from downloaded zip files"
      ],
      "metadata": {
        "id": "9urZdJpYxBhJ"
      }
    },
    {
      "cell_type": "code",
      "source": [
        "def extract_zip(zip_path, extract_dir):\n",
        "  '''\n",
        "  Extracts the zip file to the specified directory.\n",
        "\n",
        "  Args:\n",
        "    zip_path: The path to the zip file.\n",
        "    extract_dir: The directory to extract the zip file to.\n",
        "  '''\n",
        "  with zipfile.ZipFile(zip_path, 'r') as zip_ref:\n",
        "    zip_ref.extractall(extract_dir)\n",
        "\n",
        "num_cores = multiprocessing.cpu_count()\n",
        "\n",
        "with ProcessPoolExecutor(max_workers=num_cores) as executor:\n",
        "  executor.submit(extract_zip, zip_path, extract_dir)"
      ],
      "metadata": {
        "id": "YvyXFBzl_AhJ"
      },
      "execution_count": null,
      "outputs": []
    },
    {
      "cell_type": "code",
      "source": [
        "def read_file(filename):\n",
        "    '''\n",
        "    Reads a JSON file and returns its content as a string.\n",
        "\n",
        "    Args:\n",
        "      filename: The path to the JSON file.\n",
        "\n",
        "    Returns:\n",
        "      The content of the JSON file as a string.\n",
        "    '''\n",
        "    with open(filename, 'r') as f:\n",
        "        paper_content = json.load(f)\n",
        "    abstract = ''\n",
        "    if 'abstract' in paper_content:\n",
        "      for content in paper_content['abstract']:\n",
        "        if 'text' in content:\n",
        "          abstract += content['text']\n",
        "\n",
        "    return abstract\n",
        "\n",
        "def read_files(directory):\n",
        "    '''\n",
        "    Reads all JSON files in a directory and returns their contents as a list of strings.\n",
        "\n",
        "    Args:\n",
        "      directory: The path to the directory containing the JSON files.\n",
        "\n",
        "    Yields:\n",
        "      The content of each JSON file as a string.\n",
        "    '''\n",
        "    filenames = (os.path.join(directory, f) for f in os.listdir(directory) if f.endswith('.json'))\n",
        "    with ProcessPoolExecutor() as executor:\n",
        "        # Using map to process files in parallel\n",
        "        for result in tqdm(executor.map(read_file, filenames)):\n",
        "            yield result"
      ],
      "metadata": {
        "id": "cFlHTWhQ_EKE"
      },
      "execution_count": null,
      "outputs": []
    },
    {
      "cell_type": "markdown",
      "source": [
        "Reading the corpus"
      ],
      "metadata": {
        "id": "5eJPhNp5xPHv"
      }
    },
    {
      "cell_type": "code",
      "source": [
        "text_corpus = list(read_files('JSON_files/pdf_json/'))"
      ],
      "metadata": {
        "colab": {
          "base_uri": "https://localhost:8080/"
        },
        "id": "wyHZADom_aqK",
        "outputId": "5d0ac72d-6f16-4a71-836c-0234864d38bf"
      },
      "execution_count": null,
      "outputs": [
        {
          "output_type": "stream",
          "name": "stderr",
          "text": [
            "56528it [01:02, 899.76it/s] \n"
          ]
        }
      ]
    },
    {
      "cell_type": "code",
      "source": [
        "corpus_size = len(text_corpus)\n",
        "print(f'Corpus size: {corpus_size}')"
      ],
      "metadata": {
        "colab": {
          "base_uri": "https://localhost:8080/"
        },
        "id": "v4h888GT_pxA",
        "outputId": "8f133470-2a8b-4deb-b042-ccc51d6de7fc"
      },
      "execution_count": null,
      "outputs": [
        {
          "output_type": "stream",
          "name": "stdout",
          "text": [
            "Corpus size: 56528\n"
          ]
        }
      ]
    },
    {
      "cell_type": "markdown",
      "source": [
        "### Preprocessing the corpus"
      ],
      "metadata": {
        "id": "KSZWvO8A2rAJ"
      }
    },
    {
      "cell_type": "code",
      "source": [
        "nltk.download('punkt')\n",
        "nltk.download('stopwords')"
      ],
      "metadata": {
        "colab": {
          "base_uri": "https://localhost:8080/"
        },
        "id": "1RRkALsh_iPP",
        "outputId": "66b40d89-aa74-4579-96f7-4dc2ecad5529"
      },
      "execution_count": null,
      "outputs": [
        {
          "output_type": "stream",
          "name": "stderr",
          "text": [
            "[nltk_data] Downloading package punkt to /root/nltk_data...\n",
            "[nltk_data]   Unzipping tokenizers/punkt.zip.\n",
            "[nltk_data] Downloading package stopwords to /root/nltk_data...\n",
            "[nltk_data]   Unzipping corpora/stopwords.zip.\n"
          ]
        },
        {
          "output_type": "execute_result",
          "data": {
            "text/plain": [
              "True"
            ]
          },
          "metadata": {},
          "execution_count": 9
        }
      ]
    },
    {
      "cell_type": "code",
      "source": [
        "def casefolding(text):\n",
        "  '''\n",
        "  Converts the given text to lowercase.\n",
        "\n",
        "  Args:\n",
        "    text: The input text.\n",
        "\n",
        "  Returns:\n",
        "    The text in lowercase.\n",
        "  '''\n",
        "  return text.lower()"
      ],
      "metadata": {
        "id": "Ma2d9k07_7sB"
      },
      "execution_count": null,
      "outputs": []
    },
    {
      "cell_type": "code",
      "source": [
        "def tokenize_text(text):\n",
        "  '''\n",
        "  Tokenizes the given text.\n",
        "\n",
        "  Args:\n",
        "    text: The input text.\n",
        "\n",
        "  Returns:\n",
        "    A list of tokens.\n",
        "  '''\n",
        "  return word_tokenize(text)"
      ],
      "metadata": {
        "id": "frAmKDSI_-ZD"
      },
      "execution_count": null,
      "outputs": []
    },
    {
      "cell_type": "code",
      "source": [
        "def remove_special_chars_and_numbers_from_tokenized_text(tokens, min_count = 2):\n",
        "  \"\"\"\n",
        "  Removes numbers and special characters from a list of tokens. And then removes tokens that appear less than min_count times.\n",
        "\n",
        "  Args:\n",
        "    tokens: A list of tokens.\n",
        "\n",
        "  Returns:\n",
        "    A new list of tokens with numbers and special characters removed.\n",
        "  \"\"\"\n",
        "  filtered_tokens = [token for token in tokens if (not re.findall(\"[^\\u0000-\\u05C0\\u2100-\\u214F]+\",token)) and token.isalpha() and tokens.count(token) >= min_count and len(token) > 2]\n",
        "  return filtered_tokens"
      ],
      "metadata": {
        "id": "tmpJpiGiAB2g"
      },
      "execution_count": null,
      "outputs": []
    },
    {
      "cell_type": "code",
      "source": [
        "stop_words = set(stopwords.words('english'))"
      ],
      "metadata": {
        "id": "JYvnn7SLAE74"
      },
      "execution_count": null,
      "outputs": []
    },
    {
      "cell_type": "code",
      "source": [
        "def preprocess_text(text):\n",
        "  '''\n",
        "  Preprocesses the text by removing special characters and numbers, converting to lowercase,\n",
        "  and tokenizing the text.\n",
        "\n",
        "  Args:\n",
        "    text: The text to be preprocessed.\n",
        "\n",
        "  Returns:\n",
        "    A list of preprocessed tokens.\n",
        "  '''\n",
        "  text = text.lower()\n",
        "  tokens = tokenize_text(text)\n",
        "  tokens = remove_special_chars_and_numbers_from_tokenized_text(tokens)\n",
        "  tokens = [token for token in tokens if token not in stop_words]\n",
        "  return tokens\n",
        "\n",
        "def preprocess_corpus(corpus):\n",
        "  '''\n",
        "  Preprocesses the corpus by applying the preprocess_text function to each document in parallel.\n",
        "\n",
        "  Args:\n",
        "    corpus: A list of documents.\n",
        "\n",
        "  Returns:\n",
        "    A list of preprocessed documents.\n",
        "  '''\n",
        "  with ProcessPoolExecutor() as executor:\n",
        "    return list(tqdm(executor.map(preprocess_text, corpus), total=corpus_size))"
      ],
      "metadata": {
        "id": "RD5G8UNlAL7Z"
      },
      "execution_count": null,
      "outputs": []
    },
    {
      "cell_type": "markdown",
      "source": [
        "Tokenizing the corpus"
      ],
      "metadata": {
        "id": "PdGtShCx5Kqf"
      }
    },
    {
      "cell_type": "code",
      "source": [
        "tokenized_corpus = preprocess_corpus(text_corpus)"
      ],
      "metadata": {
        "colab": {
          "base_uri": "https://localhost:8080/"
        },
        "id": "uFjfIWPrAahO",
        "outputId": "18de51ed-5319-4219-a1dc-aff2cb55be56"
      },
      "execution_count": null,
      "outputs": [
        {
          "output_type": "stream",
          "name": "stderr",
          "text": [
            "100%|██████████| 56528/56528 [02:29<00:00, 379.12it/s]\n"
          ]
        }
      ]
    },
    {
      "cell_type": "markdown",
      "source": [
        "Only considering documents with more than 300 words"
      ],
      "metadata": {
        "id": "MsuBx5h_YPbW"
      }
    },
    {
      "cell_type": "code",
      "source": [
        "tokenized_corpus_filtered = [doc for doc in tokenized_corpus if len(doc) > 300]"
      ],
      "metadata": {
        "id": "3smczyCwLzkU"
      },
      "execution_count": null,
      "outputs": []
    },
    {
      "cell_type": "code",
      "source": [
        "def get_vocabulary(tokenized_corpus):\n",
        "  '''\n",
        "  Gets the vocabulary of the given tokenized corpus.\n",
        "\n",
        "  Args:\n",
        "    tokenized_corpus: A list of tokenized texts.\n",
        "\n",
        "  Returns:\n",
        "    A set containing the unique words in the corpus.\n",
        "  '''\n",
        "  vocabulary = set()\n",
        "  for document in tqdm(tokenized_corpus):\n",
        "    for token in document:\n",
        "      vocabulary.add(token)\n",
        "  return vocabulary"
      ],
      "metadata": {
        "id": "tghmxA9uAgb1"
      },
      "execution_count": null,
      "outputs": []
    },
    {
      "cell_type": "markdown",
      "source": [
        "Getting the vocabulary of the data"
      ],
      "metadata": {
        "id": "O_wVzYeg5RtH"
      }
    },
    {
      "cell_type": "code",
      "source": [
        "vocabulary = get_vocabulary(tokenized_corpus_filtered)"
      ],
      "metadata": {
        "colab": {
          "base_uri": "https://localhost:8080/"
        },
        "id": "8wwmpkWxBAON",
        "outputId": "d0043f36-7d59-48e1-dd0b-79478385bb16"
      },
      "execution_count": null,
      "outputs": [
        {
          "output_type": "stream",
          "name": "stderr",
          "text": [
            "100%|██████████| 506/506 [00:00<00:00, 15622.74it/s]\n"
          ]
        }
      ]
    },
    {
      "cell_type": "code",
      "source": [
        "vocabulary_size = len(vocabulary)\n",
        "print(f'Vocabulary size: {vocabulary_size}')"
      ],
      "metadata": {
        "colab": {
          "base_uri": "https://localhost:8080/"
        },
        "id": "csNmk3otBMKr",
        "outputId": "923696a8-651c-4daa-9a69-c1eda2f1d3c1"
      },
      "execution_count": null,
      "outputs": [
        {
          "output_type": "stream",
          "name": "stdout",
          "text": [
            "Vocabulary size: 14171\n"
          ]
        }
      ]
    },
    {
      "cell_type": "code",
      "source": [
        "vocabulary = tuple(vocabulary)"
      ],
      "metadata": {
        "id": "8HGtST0FBQHm"
      },
      "execution_count": null,
      "outputs": []
    },
    {
      "cell_type": "code",
      "source": [
        "word_to_index = {word: i for i, word in enumerate(vocabulary)}"
      ],
      "metadata": {
        "id": "htnrY-zpBY7U"
      },
      "execution_count": null,
      "outputs": []
    },
    {
      "cell_type": "code",
      "source": [
        "vocabulary"
      ],
      "metadata": {
        "colab": {
          "base_uri": "https://localhost:8080/"
        },
        "collapsed": true,
        "id": "q5O8LvRQBvGZ",
        "outputId": "070a3e16-03f9-4faf-cb0e-ceb36b22dc75"
      },
      "execution_count": null,
      "outputs": [
        {
          "output_type": "execute_result",
          "data": {
            "text/plain": [
              "('analytical',\n",
              " 'stirred',\n",
              " 'goes',\n",
              " 'operative',\n",
              " 'lod',\n",
              " 'snapshots',\n",
              " 'correlation',\n",
              " 'brefeldin',\n",
              " 'released',\n",
              " 'polymorphismus',\n",
              " 'schlafen',\n",
              " 'assumed',\n",
              " 'incubated',\n",
              " 'deletion',\n",
              " 'einem',\n",
              " 'zonder',\n",
              " 'evolved',\n",
              " 'arc',\n",
              " 'miss',\n",
              " 'behaviors',\n",
              " 'exhibited',\n",
              " 'tween',\n",
              " 'substitution',\n",
              " 'subject',\n",
              " 'leaders',\n",
              " 'picco',\n",
              " 'malrotation',\n",
              " 'toronto',\n",
              " 'frameshifting',\n",
              " 'macrodomain',\n",
              " 'épuration',\n",
              " 'bds',\n",
              " 'robotics',\n",
              " 'photochemical',\n",
              " 'cumulative',\n",
              " 'untersuchung',\n",
              " 'participatory',\n",
              " 'ozharvest',\n",
              " 'pcd',\n",
              " 'appearance',\n",
              " 'fuses',\n",
              " 'participation',\n",
              " 'catalysis',\n",
              " 'weighting',\n",
              " 'modulus',\n",
              " 'discriminating',\n",
              " 'rabbit',\n",
              " 'attenuate',\n",
              " 'consequences',\n",
              " 'changepoints',\n",
              " 'facilitate',\n",
              " 'dock',\n",
              " 'supervisor',\n",
              " 'verfü',\n",
              " 'darstellt',\n",
              " 'benefiting',\n",
              " 'abrasive',\n",
              " 'cardiovasculaire',\n",
              " 'monoinfection',\n",
              " 'flavonoids',\n",
              " 'advocates',\n",
              " 'fälle',\n",
              " 'drugbank',\n",
              " 'itaas',\n",
              " 'vast',\n",
              " 'verwendet',\n",
              " 'gluten',\n",
              " 'responsive',\n",
              " 'concentric',\n",
              " 'autodock',\n",
              " 'echocardiographic',\n",
              " 'kortexschichten',\n",
              " 'prodrug',\n",
              " 'fuliginosus',\n",
              " 'osteoporosis',\n",
              " 'heme',\n",
              " 'roughly',\n",
              " 'karaming',\n",
              " 'safa',\n",
              " 'lis',\n",
              " 'daytime',\n",
              " 'eingeschlossen',\n",
              " 'video',\n",
              " 'good',\n",
              " 'charakterisierung',\n",
              " 'nothing',\n",
              " 'bes',\n",
              " 'determining',\n",
              " 'spheroid',\n",
              " 'arch',\n",
              " 'nonapeptide',\n",
              " 'isoniazid',\n",
              " 'atmosphere',\n",
              " 'styrene',\n",
              " 'detectr',\n",
              " 'dilution',\n",
              " 'fibers',\n",
              " 'amplified',\n",
              " 'governments',\n",
              " 'owned',\n",
              " 'graph',\n",
              " 'solubility',\n",
              " 'pic',\n",
              " 'east',\n",
              " 'insecurity',\n",
              " 'humidified',\n",
              " 'differs',\n",
              " 'wicht',\n",
              " 'included',\n",
              " 'weisen',\n",
              " 'retamal',\n",
              " 'körpergewicht',\n",
              " 'optimising',\n",
              " 'svr',\n",
              " 'running',\n",
              " 'vabret',\n",
              " 'pneumoperitoneum',\n",
              " 'failures',\n",
              " 'nlr',\n",
              " 'fna',\n",
              " 'tooling',\n",
              " 'bereits',\n",
              " 'societal',\n",
              " 'lankan',\n",
              " 'olfactory',\n",
              " 'lymphknotengruppen',\n",
              " 'aetiology',\n",
              " 'unterschiedlichen',\n",
              " 'review',\n",
              " 'release',\n",
              " 'ageing',\n",
              " 'organelle',\n",
              " 'synapse',\n",
              " 'rules',\n",
              " 'cantor',\n",
              " 'mother',\n",
              " 'mejias',\n",
              " 'unexposed',\n",
              " 'engineers',\n",
              " 'thyroid',\n",
              " 'mst',\n",
              " 'studenten',\n",
              " 'organspende',\n",
              " 'hypovolemia',\n",
              " 'strengthen',\n",
              " 'junge',\n",
              " 'violet',\n",
              " 'nitrate',\n",
              " 'eqn',\n",
              " 'figure',\n",
              " 'auffällig',\n",
              " 'percepción',\n",
              " 'mind',\n",
              " 'cutaneous',\n",
              " 'needle',\n",
              " 'nomo',\n",
              " 'tasks',\n",
              " 'late',\n",
              " 'iugr',\n",
              " 'atu',\n",
              " 'deutschen',\n",
              " 'phase',\n",
              " 'vaccines',\n",
              " 'melting',\n",
              " 'property',\n",
              " 'aspartic',\n",
              " 'bar',\n",
              " 'banks',\n",
              " 'morgan',\n",
              " 'hypothetical',\n",
              " 'cardiomyocyte',\n",
              " 'prednisolone',\n",
              " 'rrt',\n",
              " 'constant',\n",
              " 'mounted',\n",
              " 'daten',\n",
              " 'turn',\n",
              " 'uorfs',\n",
              " 'outlets',\n",
              " 'dislocation',\n",
              " 'consumers',\n",
              " 'organelles',\n",
              " 'demonstrating',\n",
              " 'contribute',\n",
              " 'nachgewiesen',\n",
              " 'immature',\n",
              " 'rbd',\n",
              " 'anguilla',\n",
              " 'hemmung',\n",
              " 'methacrylate',\n",
              " 'null',\n",
              " 'srcr',\n",
              " 'outflow',\n",
              " 'transporters',\n",
              " 'robustness',\n",
              " 'master',\n",
              " 'aen',\n",
              " 'erj',\n",
              " 'zeigten',\n",
              " 'cbmo',\n",
              " 'tailed',\n",
              " 'underserved',\n",
              " 'synergy',\n",
              " 'disposable',\n",
              " 'least',\n",
              " 'dashed',\n",
              " 'pneumovax',\n",
              " 'svps',\n",
              " 'begomoviral',\n",
              " 'spricht',\n",
              " 'braken',\n",
              " 'ear',\n",
              " 'emd',\n",
              " 'nmr',\n",
              " 'amplitude',\n",
              " 'wichtige',\n",
              " 'lego',\n",
              " 'nakatira',\n",
              " 'yamanashi',\n",
              " 'cerebral',\n",
              " 'gat',\n",
              " 'ästen',\n",
              " 'soluble',\n",
              " 'paid',\n",
              " 'behave',\n",
              " 'venturi',\n",
              " 'sizes',\n",
              " 'wlth',\n",
              " 'quantification',\n",
              " 'spenderorgan',\n",
              " 'tnf',\n",
              " 'lifescience',\n",
              " 'rinse',\n",
              " 'common',\n",
              " 'free',\n",
              " 'mobility',\n",
              " 'cdna',\n",
              " 'spina',\n",
              " 'panama',\n",
              " 'throughout',\n",
              " 'retains',\n",
              " 'rain',\n",
              " 'optical',\n",
              " 'fetal',\n",
              " 'cortex',\n",
              " 'flotrac',\n",
              " 'conductors',\n",
              " 'reflect',\n",
              " 'tight',\n",
              " 'leicht',\n",
              " 'lifelong',\n",
              " 'tools',\n",
              " 'graves',\n",
              " 'saxs',\n",
              " 'classrooms',\n",
              " 'parenchymal',\n",
              " 'exhibits',\n",
              " 'determination',\n",
              " 'dieser',\n",
              " 'database',\n",
              " 'specialised',\n",
              " 'vrcs',\n",
              " 'showed',\n",
              " 'eigenen',\n",
              " 'noncommunicable',\n",
              " 'imf',\n",
              " 'mixture',\n",
              " 'tonsil',\n",
              " 'netzhaut',\n",
              " 'albopictus',\n",
              " 'seemingly',\n",
              " 'cellulitis',\n",
              " 'appearequipment',\n",
              " 'quarantined',\n",
              " 'eru',\n",
              " 'fas',\n",
              " 'konnte',\n",
              " 'contributions',\n",
              " 'hematopoiesis',\n",
              " 'fire',\n",
              " 'mus',\n",
              " 'anns',\n",
              " 'supernatants',\n",
              " 'methodology',\n",
              " 'recipient',\n",
              " 'adrenal',\n",
              " 'diagnostic',\n",
              " 'vieler',\n",
              " 'occupational',\n",
              " 'reflection',\n",
              " 'fao',\n",
              " 'petg',\n",
              " 'zeigen',\n",
              " 'palsy',\n",
              " 'technicians',\n",
              " 'salivaall',\n",
              " 'kliniken',\n",
              " 'lungs',\n",
              " 'alteration',\n",
              " 'racial',\n",
              " 'directions',\n",
              " 'timelines',\n",
              " 'sleep',\n",
              " 'optreden',\n",
              " 'friend',\n",
              " 'anim',\n",
              " 'neutrophilia',\n",
              " 'elderly',\n",
              " 'deshalb',\n",
              " 'sorted',\n",
              " 'almanach',\n",
              " 'configuration',\n",
              " 'fplc',\n",
              " 'converted',\n",
              " 'microstructure',\n",
              " 'laboratories',\n",
              " 'dovepress',\n",
              " 'leukozyten',\n",
              " 'sxb',\n",
              " 'kommt',\n",
              " 'neighbor',\n",
              " 'pufa',\n",
              " 'immunostaining',\n",
              " 'interleukin',\n",
              " 'sclerosing',\n",
              " 'clp',\n",
              " 'verschiedene',\n",
              " 'schneider',\n",
              " 'wong',\n",
              " 'cinahl',\n",
              " 'statistisch',\n",
              " 'ris',\n",
              " 'pascal',\n",
              " 'ksgn',\n",
              " 'physician',\n",
              " 'adulthood',\n",
              " 'kilifi',\n",
              " 'biogenesis',\n",
              " 'duodenal',\n",
              " 'detrimental',\n",
              " 'superalloy',\n",
              " 'bcg',\n",
              " 'inhibits',\n",
              " 'hairpin',\n",
              " 'ground',\n",
              " 'aust',\n",
              " 'treadmill',\n",
              " 'coding',\n",
              " 'proceed',\n",
              " 'involvement',\n",
              " 'worn',\n",
              " 'cytosol',\n",
              " 'stop',\n",
              " 'consist',\n",
              " 'erythematous',\n",
              " 'injected',\n",
              " 'natl',\n",
              " 'transmit',\n",
              " 'sir',\n",
              " 'micu',\n",
              " 'pcr',\n",
              " 'shortening',\n",
              " 'validate',\n",
              " 'vec',\n",
              " 'coat',\n",
              " 'jersey',\n",
              " 'tightly',\n",
              " 'organen',\n",
              " 'willebrand',\n",
              " 'majority',\n",
              " 'periventrikuläre',\n",
              " 'monate',\n",
              " 'water',\n",
              " 'greatest',\n",
              " 'terminal',\n",
              " 'immunize',\n",
              " 'goals',\n",
              " 'denoted',\n",
              " 'busco',\n",
              " 'rights',\n",
              " 'exemplified',\n",
              " 'probanden',\n",
              " 'rsm',\n",
              " 'dbd',\n",
              " 'morphologies',\n",
              " 'turned',\n",
              " 'calming',\n",
              " 'ranged',\n",
              " 'holzer',\n",
              " 'uas',\n",
              " 'bivalent',\n",
              " 'displays',\n",
              " 'strains',\n",
              " 'intravascular',\n",
              " 'submission',\n",
              " 'hematological',\n",
              " 'empirical',\n",
              " 'rlrs',\n",
              " 'subjected',\n",
              " 'inside',\n",
              " 'enveloped',\n",
              " 'interestingly',\n",
              " 'evidenced',\n",
              " 'kda',\n",
              " 'therapeutischen',\n",
              " 'month',\n",
              " 'frühe',\n",
              " 'hexnac',\n",
              " 'thousands',\n",
              " 'meron',\n",
              " 'dsd',\n",
              " 'weitere',\n",
              " 'remdesivir',\n",
              " 'actuators',\n",
              " 'chikv',\n",
              " 'len',\n",
              " 'neue',\n",
              " 'präkapillaren',\n",
              " 'mindestens',\n",
              " 'opacities',\n",
              " 'passengers',\n",
              " 'adapted',\n",
              " 'diffusion',\n",
              " 'perioperative',\n",
              " 'ionals',\n",
              " 'optimizer',\n",
              " 'fragmented',\n",
              " 'intrarenal',\n",
              " 'entweder',\n",
              " 'hrsn',\n",
              " 'recurrence',\n",
              " 'hyperactivated',\n",
              " 'zich',\n",
              " 'ihre',\n",
              " 'steroidogenesis',\n",
              " 'remodeling',\n",
              " 'identity',\n",
              " 'univariable',\n",
              " 'polyproteins',\n",
              " 'motivate',\n",
              " 'asawa',\n",
              " 'training',\n",
              " 'rndv',\n",
              " 'hard',\n",
              " 'probiotics',\n",
              " 'organoids',\n",
              " 'deviation',\n",
              " 'thrombogenic',\n",
              " 'cuatro',\n",
              " 'observed',\n",
              " 'hyperresponsiveness',\n",
              " 'workplace',\n",
              " 'evidencia',\n",
              " 'narrativa',\n",
              " 'inflammation',\n",
              " 'luxation',\n",
              " 'experiment',\n",
              " 'possono',\n",
              " 'taste',\n",
              " 'directed',\n",
              " 'cordis',\n",
              " 'invariably',\n",
              " 'king',\n",
              " 'scenarios',\n",
              " 'erreichen',\n",
              " 'absolute',\n",
              " 'uveitis',\n",
              " 'applying',\n",
              " 'finishing',\n",
              " 'prozesse',\n",
              " 'übertragungsweg',\n",
              " 'chga',\n",
              " 'dna',\n",
              " 'subgenotypes',\n",
              " 'convct',\n",
              " 'rapid',\n",
              " 'cytokines',\n",
              " 'erythrocyte',\n",
              " 'truncation',\n",
              " 'dedicated',\n",
              " 'concerning',\n",
              " 'per',\n",
              " 'savolainen',\n",
              " 'udaf',\n",
              " 'discrete',\n",
              " 'utilizes',\n",
              " 'ship',\n",
              " 'endocytic',\n",
              " 'behandelnde',\n",
              " 'tourists',\n",
              " 'turbulence',\n",
              " 'wheezing',\n",
              " 'ito',\n",
              " 'deconvolved',\n",
              " 'predicts',\n",
              " 'verneinung',\n",
              " 'epicardial',\n",
              " 'principal',\n",
              " 'moyen',\n",
              " 'described',\n",
              " 'chirurgischen',\n",
              " 'milling',\n",
              " 'bores',\n",
              " 'capacities',\n",
              " 'branch',\n",
              " 'processes',\n",
              " 'dysregulation',\n",
              " 'difference',\n",
              " 'pbmcs',\n",
              " 'manifested',\n",
              " 'aztreonam',\n",
              " 'hsaec',\n",
              " 'stretched',\n",
              " 'candidates',\n",
              " 'enclosed',\n",
              " 'breast',\n",
              " 'mem',\n",
              " 'drucksenkenden',\n",
              " 'fab',\n",
              " 'inefficiencies',\n",
              " 'intraosseous',\n",
              " 'sheltering',\n",
              " 'ibm',\n",
              " 'microbiomes',\n",
              " 'vein',\n",
              " 'planning',\n",
              " 'heartbeats',\n",
              " 'leisure',\n",
              " 'eqs',\n",
              " 'formulate',\n",
              " 'deaminases',\n",
              " 'angiogenesis',\n",
              " 'formal',\n",
              " 'update',\n",
              " 'vrnps',\n",
              " 'dispersed',\n",
              " 'medizinischen',\n",
              " 'balf',\n",
              " 'chen',\n",
              " 'iridium',\n",
              " 'pedagogy',\n",
              " 'diego',\n",
              " 'pdcs',\n",
              " 'geographic',\n",
              " 'kavaliers',\n",
              " 'teilnehmer',\n",
              " 'selected',\n",
              " 'body',\n",
              " 'fecha',\n",
              " 'sinha',\n",
              " 'pide',\n",
              " 'perimembranous',\n",
              " 'chicago',\n",
              " 'seinem',\n",
              " 'encountering',\n",
              " 'retinal',\n",
              " 'microvasculitis',\n",
              " 'stretching',\n",
              " 'cintrat',\n",
              " 'atrophieindex',\n",
              " 'acquisition',\n",
              " 'enzo',\n",
              " 'increased',\n",
              " 'transitions',\n",
              " 'resp',\n",
              " 'stewardship',\n",
              " 'subkutanen',\n",
              " 'finished',\n",
              " 'graphically',\n",
              " 'distant',\n",
              " 'shielding',\n",
              " 'infectivities',\n",
              " 'deficit',\n",
              " 'variety',\n",
              " 'niet',\n",
              " 'uuu',\n",
              " 'market',\n",
              " 'kills',\n",
              " 'physiology',\n",
              " 'integer',\n",
              " 'icu',\n",
              " 'hospitalizations',\n",
              " 'probability',\n",
              " 'room',\n",
              " 'cdns',\n",
              " 'supplemental',\n",
              " 'subgenus',\n",
              " 'biol',\n",
              " 'allowed',\n",
              " 'rfe',\n",
              " 'taguchi',\n",
              " 'río',\n",
              " 'panksepp',\n",
              " 'aes',\n",
              " 'fcrs',\n",
              " 'seven',\n",
              " 'pandemie',\n",
              " 'ccmv',\n",
              " 'diel',\n",
              " 'governing',\n",
              " 'respecto',\n",
              " 'αsα',\n",
              " 'trypanosomatidae',\n",
              " 'systematic',\n",
              " 'blot',\n",
              " 'communication',\n",
              " 'references',\n",
              " 'better',\n",
              " 'sitzung',\n",
              " 'mrna',\n",
              " 'nonexistent',\n",
              " 'several',\n",
              " 'smooth',\n",
              " 'regard',\n",
              " 'ursprünglich',\n",
              " 'rvl',\n",
              " 'care',\n",
              " 'autoantibodies',\n",
              " 'eitrigen',\n",
              " 'strain',\n",
              " 'convolutional',\n",
              " 'tek',\n",
              " 'entwickelten',\n",
              " 'cycloheptanone',\n",
              " 'program',\n",
              " 'various',\n",
              " 'commensal',\n",
              " 'meld',\n",
              " 'death',\n",
              " 'wei',\n",
              " 'mutually',\n",
              " 'continent',\n",
              " 'wala',\n",
              " 'bean',\n",
              " 'aufweisen',\n",
              " 'neurogenic',\n",
              " 'saudi',\n",
              " 'breeding',\n",
              " 'human',\n",
              " 'acidic',\n",
              " 'sortiert',\n",
              " 'steigende',\n",
              " 'nsr',\n",
              " 'insight',\n",
              " 'fluidic',\n",
              " 'immer',\n",
              " 'exerts',\n",
              " 'associative',\n",
              " 'ophthalmic',\n",
              " 'auf',\n",
              " 'pcg',\n",
              " 'meanings',\n",
              " 'mmol',\n",
              " 'gruppen',\n",
              " 'reserved',\n",
              " 'sopravvivenza',\n",
              " 'liberal',\n",
              " 'telemedicine',\n",
              " 'extremely',\n",
              " 'highlights',\n",
              " 'intramuscular',\n",
              " 'tag',\n",
              " 'insectivorous',\n",
              " 'blg',\n",
              " 'receiving',\n",
              " 'waveforms',\n",
              " 'prokaryotic',\n",
              " 'housed',\n",
              " 'albicans',\n",
              " 'reverse',\n",
              " 'cleave',\n",
              " 'nanotopography',\n",
              " 'novel',\n",
              " 'wenige',\n",
              " 'overdispersion',\n",
              " 'environment',\n",
              " 'nemo',\n",
              " 'dmvs',\n",
              " 'statement',\n",
              " 'aktuell',\n",
              " 'bei',\n",
              " 'pvr',\n",
              " 'informative',\n",
              " 'dixon',\n",
              " 'factors',\n",
              " 'effectively',\n",
              " 'purposes',\n",
              " 'scaled',\n",
              " 'repo',\n",
              " 'gie',\n",
              " 'eosinofila',\n",
              " 'conferencing',\n",
              " 'frijolito',\n",
              " 'nitroglycerin',\n",
              " 'expelled',\n",
              " 'presymptomatic',\n",
              " 'contrary',\n",
              " 'reference',\n",
              " 'vaccine',\n",
              " 'deutlich',\n",
              " 'coronaviral',\n",
              " 'flanked',\n",
              " 'jcv',\n",
              " 'gans',\n",
              " 'escalated',\n",
              " 'paraventricular',\n",
              " 'paving',\n",
              " 'analytes',\n",
              " 'yield',\n",
              " 'viscous',\n",
              " 'bones',\n",
              " 'führt',\n",
              " 'upregulation',\n",
              " 'computationally',\n",
              " 'druckentlastung',\n",
              " 'zie',\n",
              " 'electron',\n",
              " 'extended',\n",
              " 'capillaries',\n",
              " 'spillover',\n",
              " 'moi',\n",
              " 'rbps',\n",
              " 'behringwerke',\n",
              " 'mabs',\n",
              " 'ontology',\n",
              " 'already',\n",
              " 'ond',\n",
              " 'cytopathic',\n",
              " 'beachten',\n",
              " 'lübeck',\n",
              " 'predominance',\n",
              " 'respect',\n",
              " 'rely',\n",
              " 'interspersed',\n",
              " 'begleiten',\n",
              " 'rfp',\n",
              " 'levels',\n",
              " 'outbreak',\n",
              " 'investors',\n",
              " 'spätestens',\n",
              " 'mikrogefäßen',\n",
              " 'gig',\n",
              " 'inspections',\n",
              " 'erregerspektrum',\n",
              " 'possibly',\n",
              " 'copd',\n",
              " 'homogenates',\n",
              " 'isolated',\n",
              " 'kälbern',\n",
              " 'milano',\n",
              " 'breaks',\n",
              " 'conjugation',\n",
              " 'secrete',\n",
              " 'generation',\n",
              " 'rotational',\n",
              " 'reduces',\n",
              " 'decoction',\n",
              " 'iels',\n",
              " 'hpm',\n",
              " 'tobcns',\n",
              " 'matched',\n",
              " 'stereologisch',\n",
              " 'kindliche',\n",
              " 'hygiene',\n",
              " 'idle',\n",
              " 'yielding',\n",
              " 'satisfy',\n",
              " 'generators',\n",
              " 'jan',\n",
              " 'ideally',\n",
              " 'elbow',\n",
              " 'immunological',\n",
              " 'kobayashi',\n",
              " 'respiratoire',\n",
              " 'pps',\n",
              " 'chi',\n",
              " 'fluorescence',\n",
              " 'building',\n",
              " 'carriers',\n",
              " 'alpha',\n",
              " 'cylindrical',\n",
              " 'fcs',\n",
              " 'concentration',\n",
              " 'gruppe',\n",
              " 'audiologists',\n",
              " 'dringend',\n",
              " 'graue',\n",
              " 'aggregation',\n",
              " 'prostaglandin',\n",
              " 'oberflächenfärbung',\n",
              " 'advanced',\n",
              " 'extramedullary',\n",
              " 'vcds',\n",
              " 'tib',\n",
              " 'false',\n",
              " 'indotto',\n",
              " 'lithography',\n",
              " 'modelling',\n",
              " 'burkholderia',\n",
              " 'loss',\n",
              " 'ease',\n",
              " 'polymorphism',\n",
              " 'resonance',\n",
              " 'proportions',\n",
              " 'epileptogenic',\n",
              " 'arose',\n",
              " 'figured',\n",
              " 'neutrophileninfiltration',\n",
              " 'disinfect',\n",
              " 'furosemide',\n",
              " 'pyruvate',\n",
              " 'cald',\n",
              " 'hefti',\n",
              " 'supplementary',\n",
              " 'pdac',\n",
              " 'ebov',\n",
              " 'intracorneal',\n",
              " 'anhaltende',\n",
              " 'welfare',\n",
              " 'university',\n",
              " 'molybdate',\n",
              " 'antigenic',\n",
              " 'atom',\n",
              " 'neutrophil',\n",
              " 'genetics',\n",
              " 'reveals',\n",
              " 'untersuchten',\n",
              " 'nucleocapsids',\n",
              " 'trabeculectomy',\n",
              " 'besonders',\n",
              " 'ictv',\n",
              " 'synchronous',\n",
              " 'kinderheilkunde',\n",
              " 'circulating',\n",
              " 'endoribonuclease',\n",
              " 'dvt',\n",
              " 'mundial',\n",
              " 'hunching',\n",
              " 'carboxamide',\n",
              " 'agent',\n",
              " 'defenses',\n",
              " 'correspond',\n",
              " 'unified',\n",
              " 'southern',\n",
              " 'addressed',\n",
              " 'negative',\n",
              " 'antagonists',\n",
              " 'glioma',\n",
              " 'iκbα',\n",
              " 'notable',\n",
              " 'crazy',\n",
              " 'ouabain',\n",
              " 'kontrolle',\n",
              " 'dic',\n",
              " 'unconditional',\n",
              " 'nutrition',\n",
              " 'couple',\n",
              " 'glycosylation',\n",
              " 'cyclic',\n",
              " 'tur',\n",
              " 'anteil',\n",
              " 'door',\n",
              " 'puromycin',\n",
              " 'organspendern',\n",
              " 'circular',\n",
              " 'reveal',\n",
              " 'assemble',\n",
              " 'carbohydrate',\n",
              " 'association',\n",
              " 'gastrointestinal',\n",
              " 'arterielle',\n",
              " 'plastic',\n",
              " 'craters',\n",
              " 'comp',\n",
              " 'walsh',\n",
              " 'druggability',\n",
              " 'identification',\n",
              " 'hollow',\n",
              " 'asec',\n",
              " 'circuits',\n",
              " 'compressed',\n",
              " 'paramyxovirus',\n",
              " 'initiation',\n",
              " 'remove',\n",
              " 'mammals',\n",
              " 'complicated',\n",
              " 'columns',\n",
              " 'sdra',\n",
              " 'perceived',\n",
              " 'cnn',\n",
              " 'differenzierung',\n",
              " 'child',\n",
              " 'centres',\n",
              " 'penicillin',\n",
              " 'qin',\n",
              " 'microcirculation',\n",
              " 'automatic',\n",
              " 'hamburg',\n",
              " 'alters',\n",
              " 'confl',\n",
              " 'conversations',\n",
              " 'spiny',\n",
              " 'psyarxiv',\n",
              " 'testis',\n",
              " 'supporting',\n",
              " 'vwf',\n",
              " 'brilliant',\n",
              " 'substitutes',\n",
              " 'xenogeneic',\n",
              " 'constants',\n",
              " 'ein',\n",
              " 'tattoo',\n",
              " 'belief',\n",
              " 'pubmed',\n",
              " 'cholesterol',\n",
              " 'staining',\n",
              " 'plexus',\n",
              " 'uniform',\n",
              " 'fracture',\n",
              " 'communis',\n",
              " 'contribution',\n",
              " 'libraries',\n",
              " 'catalyse',\n",
              " 'homeostatic',\n",
              " 'spacers',\n",
              " 'condition',\n",
              " 'troke',\n",
              " 'rattus',\n",
              " 'enrichments',\n",
              " 'afectados',\n",
              " 'réduction',\n",
              " 'transl',\n",
              " 'rig',\n",
              " 'meditation',\n",
              " 'immunoaffinity',\n",
              " 'chips',\n",
              " 'flux',\n",
              " 'aiming',\n",
              " 'arrhythmia',\n",
              " 'phosphatase',\n",
              " 'melanoma',\n",
              " 'silico',\n",
              " 'hrp',\n",
              " 'limbal',\n",
              " 'heterotopic',\n",
              " 'cel',\n",
              " 'machining',\n",
              " 'mutate',\n",
              " 'absent',\n",
              " 'reconstruction',\n",
              " 'https',\n",
              " 'obstruktiven',\n",
              " 'masse',\n",
              " 'thermogravimetric',\n",
              " 'gly',\n",
              " 'foci',\n",
              " 'dsts',\n",
              " 'trimester',\n",
              " 'periods',\n",
              " 'regimen',\n",
              " 'aortic',\n",
              " 'eyestalk',\n",
              " 'moisturizer',\n",
              " 'apparatus',\n",
              " 'multibasic',\n",
              " 'athe',\n",
              " 'erde',\n",
              " 'ursache',\n",
              " 'hyperoxie',\n",
              " 'incorporates',\n",
              " 'surrounded',\n",
              " 'thema',\n",
              " 'kas',\n",
              " 'bisindigotin',\n",
              " 'plwh',\n",
              " 'parenchyma',\n",
              " 'exhaust',\n",
              " 'halo',\n",
              " 'faecium',\n",
              " 'stepover',\n",
              " 'cleaved',\n",
              " 'hypofolataemia',\n",
              " 'switch',\n",
              " 'appliances',\n",
              " 'phones',\n",
              " 'panel',\n",
              " 'exp',\n",
              " 'maximum',\n",
              " 'palosuo',\n",
              " 'zyste',\n",
              " 'scintigraphy',\n",
              " 'hdl',\n",
              " 'encounters',\n",
              " 'sampen',\n",
              " 'localities',\n",
              " 'koffein',\n",
              " 'tcr',\n",
              " 'einschließlich',\n",
              " 'unconfoundedness',\n",
              " 'deriving',\n",
              " ...)"
            ]
          },
          "metadata": {},
          "execution_count": 22
        }
      ]
    },
    {
      "cell_type": "markdown",
      "source": [
        "### **Model Architecture**\n",
        "- **Input Layer:** One-hot encoded vector for target words of size 14171 (size ~ 10,000).\n",
        "- **Embedding Layer:** Dense layer that projects the input into a 300-dimensional space.\n",
        "- **Negative Sampling Layer:** Replaces naive softmax, selecting 5 negative samples.\n",
        "- **Output:** Context word prediction using the learned embeddings.\n"
      ],
      "metadata": {
        "id": "IhKy4aRZLApN"
      }
    },
    {
      "cell_type": "code",
      "source": [
        "def generate_skipgram_pairs(tokenized_corpus, window_size=2):\n",
        "    '''\n",
        "    Generate (target, context) pairs from a tokenized corpus for Skip-Gram model training.\n",
        "\n",
        "    Args:\n",
        "      tokenized_corpus: List of lists, where each list is a tokenized sentence/document.\n",
        "      window_size: The number of context words to consider on either side of the target word.\n",
        "\n",
        "    Returns:\n",
        "      List of tuples in the format (target, context).\n",
        "    '''\n",
        "    skipgram_pairs = []\n",
        "\n",
        "    for sentence in tokenized_corpus:\n",
        "        sentence_length = len(sentence)\n",
        "        for i, target_word in enumerate(sentence):\n",
        "            # Define the context window range\n",
        "            start = max(0, i - window_size)\n",
        "            end = min(sentence_length, i + window_size + 1)\n",
        "\n",
        "            # Collect context words for the target word\n",
        "            context_words = [sentence[j] for j in range(start, end) if j != i]\n",
        "\n",
        "            # Create (target, context) pairs\n",
        "            for context_word in context_words:\n",
        "                skipgram_pairs.append((target_word, context_word))\n",
        "\n",
        "    return skipgram_pairs"
      ],
      "metadata": {
        "id": "K1yM31-bKFXi"
      },
      "execution_count": null,
      "outputs": []
    },
    {
      "cell_type": "code",
      "source": [
        "# Generate skipgram pairs\n",
        "skipgram_pairs = generate_skipgram_pairs(tokenized_corpus_filtered, window_size=2)\n",
        "print(f\"Generated {len(skipgram_pairs)} skipgram pairs.\")"
      ],
      "metadata": {
        "colab": {
          "base_uri": "https://localhost:8080/"
        },
        "id": "Gj-SuCfik4GB",
        "outputId": "b347eca8-ecc6-490e-f26e-4adfdc9367d1"
      },
      "execution_count": null,
      "outputs": [
        {
          "output_type": "stream",
          "name": "stdout",
          "text": [
            "Generated 1084536 skipgram pairs.\n"
          ]
        }
      ]
    },
    {
      "cell_type": "code",
      "source": [
        "torch.manual_seed(14)\n",
        "random.seed(14)\n",
        "np.random.seed(14)\n",
        "\n",
        "# this 'device' will be used for training our model\n",
        "device = torch.device(\"cuda:0\" if torch.cuda.is_available() else \"cpu\")\n",
        "print(device)"
      ],
      "metadata": {
        "id": "wFufFXGBCjwj",
        "colab": {
          "base_uri": "https://localhost:8080/"
        },
        "outputId": "0a9e84b4-304f-4117-c202-24cdb1ec756a"
      },
      "execution_count": null,
      "outputs": [
        {
          "output_type": "stream",
          "name": "stdout",
          "text": [
            "cuda:0\n"
          ]
        }
      ]
    },
    {
      "cell_type": "code",
      "source": [
        "class SkipGramNegSampling(nn.Module):\n",
        "    def __init__(self, vocab_size, embedding_dim):\n",
        "        '''\n",
        "        Initialize the Skip-Gram model with Negative Sampling.\n",
        "\n",
        "        Args:\n",
        "          vocab_size: The size of the vocabulary.\n",
        "          embedding_dim: The number of dimensions for the word embeddings.\n",
        "        '''\n",
        "        super(SkipGramNegSampling, self).__init__()\n",
        "        self.in_embeddings = nn.Embedding(vocab_size, embedding_dim)   # Input embedding matrix (W_in)\n",
        "        self.out_embeddings = nn.Embedding(vocab_size, embedding_dim)  # Output embedding matrix (W_out)\n",
        "\n",
        "    def forward(self, target_word, context_word, negative_words):\n",
        "        '''\n",
        "        Forward pass for Skip-Gram with Negative Sampling.\n",
        "\n",
        "        Args:\n",
        "          target_word: Tensor of target word indices.\n",
        "          context_word: Tensor of context word indices (positive samples).\n",
        "          negative_words: Tensor of negative word indices.\n",
        "\n",
        "        Returns:\n",
        "          Positive and negative logits for the loss computation.\n",
        "        '''\n",
        "        # Get embeddings for target, context (positive) and negative words\n",
        "        target_embedding = self.in_embeddings(target_word)  # Shape: (batch_size, embedding_dim)\n",
        "        context_embedding = self.out_embeddings(context_word)  # Shape: (batch_size, embedding_dim)\n",
        "        negative_embeddings = self.out_embeddings(negative_words)  # Shape: (batch_size, num_neg_samples, embedding_dim)\n",
        "\n",
        "        # Positive sample: dot product of target and context embeddings\n",
        "        pos_dot = torch.mul(target_embedding, context_embedding).sum(dim=1)  # Shape: (batch_size)\n",
        "\n",
        "        # Negative samples: dot product of target and negative word embeddings\n",
        "        neg_dot = torch.bmm(negative_embeddings, target_embedding.unsqueeze(2)).squeeze(2)  # Shape: (batch_size, num_neg_samples)\n",
        "\n",
        "        return pos_dot, neg_dot\n"
      ],
      "metadata": {
        "id": "p8PRRmZOKg9I"
      },
      "execution_count": null,
      "outputs": []
    },
    {
      "cell_type": "code",
      "source": [
        "def neg_sampling_loss(pos_dot, neg_dot):\n",
        "    '''\n",
        "    Computes the loss for negative sampling.\n",
        "\n",
        "    Args:\n",
        "      pos_dot: The dot product for positive samples (target, context).\n",
        "      neg_dot: The dot product for negative samples (target, negative words).\n",
        "\n",
        "    Returns:\n",
        "      The loss for the batch.\n",
        "    '''\n",
        "    # Positive samples loss: log(sigmoid(pos_dot))\n",
        "    pos_loss = F.logsigmoid(pos_dot).mean()\n",
        "\n",
        "    # Negative samples loss: log(sigmoid(-neg_dot))\n",
        "    neg_loss = F.logsigmoid(-neg_dot).mean()\n",
        "\n",
        "    # Total loss (negative sampling uses negative loss and positive loss together)\n",
        "    return -(pos_loss + neg_loss)\n"
      ],
      "metadata": {
        "id": "oOQcEbLhLads"
      },
      "execution_count": null,
      "outputs": []
    },
    {
      "cell_type": "code",
      "source": [
        "def generate_negative_samples(vocab_size, batch_size, num_neg_samples):\n",
        "    '''\n",
        "    Generate negative samples for each target word in a batch.\n",
        "\n",
        "    Args:\n",
        "      vocab_size: The size of the vocabulary.\n",
        "      batch_size: The number of target words in the batch.\n",
        "      num_neg_samples: The number of negative samples per target word.\n",
        "\n",
        "    Returns:\n",
        "      Tensor of negative word indices (shape: batch_size x num_neg_samples).\n",
        "    '''\n",
        "    negative_words = np.random.choice(vocab_size, size=(batch_size, num_neg_samples), replace=True)\n",
        "    return torch.tensor(negative_words, dtype=torch.long)\n"
      ],
      "metadata": {
        "id": "nI94okl8_Rp1"
      },
      "execution_count": null,
      "outputs": []
    },
    {
      "cell_type": "code",
      "source": [
        "# Create vocabulary and mapping of words to indices\n",
        "word_counts = Counter([word for sentence in tokenized_corpus_filtered for word in sentence])\n",
        "vocab = [word for word, count in word_counts.items()]\n",
        "vocab_size = len(vocab)\n",
        "word_to_idx = {word: i for i, word in enumerate(vocab)}\n",
        "idx_to_word = {i: word for word, i in word_to_idx.items()}\n",
        "\n",
        "# Convert word pairs to indices\n",
        "def word_to_idx_pairs(skipgram_pairs):\n",
        "    return [(word_to_idx[target], word_to_idx[context]) for target, context in skipgram_pairs]\n",
        "\n",
        "# Skipgram pairs as indices\n",
        "skipgram_pairs_idx = word_to_idx_pairs(skipgram_pairs)"
      ],
      "metadata": {
        "id": "xAgiRRJfAe4r"
      },
      "execution_count": null,
      "outputs": []
    },
    {
      "cell_type": "markdown",
      "source": [
        "### Training the model with SGD"
      ],
      "metadata": {
        "id": "490jE4nh3ECI"
      }
    },
    {
      "cell_type": "code",
      "source": [
        "# Hyperparameters\n",
        "embedding_dim = 300  # Dimensionality of the word embeddings\n",
        "learning_rate = 1\n",
        "momentum = 0.9\n",
        "epochs = 20\n",
        "batch_size = 256\n",
        "num_neg_samples = 5  # Negative samples per positive pair"
      ],
      "metadata": {
        "id": "UxCzdM1LBWC3"
      },
      "execution_count": null,
      "outputs": []
    },
    {
      "cell_type": "code",
      "source": [
        "# Initialize the model\n",
        "model = SkipGramNegSampling(vocab_size, embedding_dim)\n",
        "model.to(device)\n",
        "\n",
        "# List to store the loss at each epoch\n",
        "training_errors = []\n",
        "\n",
        "# Optimizer\n",
        "optimizer = optim.SGD(model.parameters(), lr=learning_rate, momentum=momentum)"
      ],
      "metadata": {
        "id": "AI8W1Mcu_wOW"
      },
      "execution_count": null,
      "outputs": []
    },
    {
      "cell_type": "code",
      "source": [
        "# Training loop\n",
        "for epoch in range(epochs):\n",
        "    total_loss = 0\n",
        "    random.shuffle(skipgram_pairs_idx)\n",
        "\n",
        "    for i in range(0, len(skipgram_pairs_idx), batch_size):\n",
        "        batch = skipgram_pairs_idx[i:i+batch_size]\n",
        "\n",
        "        # Move tensors to the device (GPU)\n",
        "        target_words = torch.tensor([pair[0] for pair in batch], dtype=torch.long, device=device)\n",
        "        context_words = torch.tensor([pair[1] for pair in batch], dtype=torch.long, device=device)\n",
        "        negative_words = generate_negative_samples(vocab_size, len(batch), num_neg_samples).to(device)\n",
        "\n",
        "        # Zero gradients\n",
        "        optimizer.zero_grad()\n",
        "\n",
        "        # Forward pass\n",
        "        pos_dot, neg_dot = model(target_words, context_words, negative_words)\n",
        "\n",
        "        # Calculate loss\n",
        "        loss = neg_sampling_loss(pos_dot, neg_dot)\n",
        "\n",
        "        # Backpropagation\n",
        "        loss.backward()\n",
        "\n",
        "        # Update the weights\n",
        "        optimizer.step()\n",
        "\n",
        "        total_loss += loss.item()\n",
        "\n",
        "    # Average loss for the epoch\n",
        "    avg_loss = total_loss / len(skipgram_pairs_idx)\n",
        "    training_errors.append(avg_loss)  # Append the loss for this epoch\n",
        "\n",
        "    print(f\"Epoch: {epoch+1}, Loss: {avg_loss}\")"
      ],
      "metadata": {
        "colab": {
          "base_uri": "https://localhost:8080/"
        },
        "id": "TXUQyXLGGBm_",
        "outputId": "46dc9fa7-2209-4989-d960-9c6f26c644ab"
      },
      "execution_count": null,
      "outputs": [
        {
          "output_type": "stream",
          "name": "stdout",
          "text": [
            "Epoch: 1, Loss: 0.028393103873003284\n",
            "Epoch: 2, Loss: 0.011318089698674495\n",
            "Epoch: 3, Loss: 0.0074379953411022265\n",
            "Epoch: 4, Loss: 0.0053514182455260935\n",
            "Epoch: 5, Loss: 0.004079532749904776\n",
            "Epoch: 6, Loss: 0.0032689572959027934\n",
            "Epoch: 7, Loss: 0.0027142819707315228\n",
            "Epoch: 8, Loss: 0.0023202036925532563\n",
            "Epoch: 9, Loss: 0.0020231895309343324\n",
            "Epoch: 10, Loss: 0.001804529079699014\n",
            "Epoch: 11, Loss: 0.0016255984251609815\n",
            "Epoch: 12, Loss: 0.0014854848756350237\n",
            "Epoch: 13, Loss: 0.0013620350228905826\n",
            "Epoch: 14, Loss: 0.0012721484414120498\n",
            "Epoch: 15, Loss: 0.0011951210398678433\n",
            "Epoch: 16, Loss: 0.0011226944400596738\n",
            "Epoch: 17, Loss: 0.001065949838911408\n",
            "Epoch: 18, Loss: 0.0010148558259315665\n",
            "Epoch: 19, Loss: 0.0009725454255907863\n",
            "Epoch: 20, Loss: 0.0009343335481041149\n"
          ]
        }
      ]
    },
    {
      "cell_type": "markdown",
      "source": [
        "### Epochs vs Training Error (loss)"
      ],
      "metadata": {
        "id": "lFPt2i8M3Rzk"
      }
    },
    {
      "cell_type": "code",
      "source": [
        "# Plot the relationship between epochs and training error\n",
        "plt.plot(range(1, epochs+1), training_errors, marker='o', linestyle='-', color='b')\n",
        "plt.xlabel('Epochs')\n",
        "plt.ylabel('Training Error (Loss)')\n",
        "plt.title('Training Error vs. Number of Epochs')\n",
        "plt.grid(True)\n",
        "plt.show()"
      ],
      "metadata": {
        "id": "a1Q4CJDKBuTV",
        "colab": {
          "base_uri": "https://localhost:8080/",
          "height": 472
        },
        "outputId": "205be384-1320-4df4-ba3c-56045840bc50"
      },
      "execution_count": null,
      "outputs": [
        {
          "output_type": "display_data",
          "data": {
            "text/plain": [
              "<Figure size 640x480 with 1 Axes>"
            ],
            "image/png": "[encoded data removed]"
          },
          "metadata": {}
        }
      ]
    },
    {
      "cell_type": "code",
      "source": [
        "# Save the model to a file\n",
        "with open('skipgram_model.pkl', 'wb') as f:\n",
        "    pickle.dump(model, f)\n",
        "\n",
        "print(\"Model saved as skipgram_model.pkl\")"
      ],
      "metadata": {
        "colab": {
          "base_uri": "https://localhost:8080/"
        },
        "id": "YzWpCi2KYHjI",
        "outputId": "7342faeb-67b8-4b94-87d0-ff462ff84fea"
      },
      "execution_count": null,
      "outputs": [
        {
          "output_type": "stream",
          "name": "stdout",
          "text": [
            "Model saved as skipgram_model.pkl\n"
          ]
        }
      ]
    },
    {
      "cell_type": "markdown",
      "source": [
        "### Testing word analogies"
      ],
      "metadata": {
        "id": "uLBEfQ8D3eEX"
      }
    },
    {
      "cell_type": "code",
      "source": [
        "def get_word_embedding(word):\n",
        "  \"\"\"\n",
        "  Retrieves the word embedding for a given word.\n",
        "\n",
        "  Args:\n",
        "    word: The word for which to retrieve the embedding.\n",
        "\n",
        "  Returns:\n",
        "    The word embedding as a NumPy array, or None if the word is not found in the vocabulary.\n",
        "  \"\"\"\n",
        "  if word in word_to_idx:\n",
        "    word_idx = torch.tensor(word_to_idx[word], device=device)\n",
        "    word_embedding = model.in_embeddings(word_idx).detach().cpu()\n",
        "    return word_embedding\n",
        "  else:\n",
        "    return None"
      ],
      "metadata": {
        "id": "nN8wkN3cJ6LF"
      },
      "execution_count": null,
      "outputs": []
    },
    {
      "cell_type": "markdown",
      "source": [
        "**Word analogy** : healthcare - prevention + phase = stage\n",
        "\n",
        "**Explanation**:\n",
        "\n",
        "- Removing prevention from healthcare shifts the focus away from preventive care.\n",
        "\n",
        "- Adding phase introduces the idea of a step in a process.\n",
        "- The result, stage, refers to a specific phase in a sequence, such as in treatment or disease progression.\n",
        "\n",
        "In short, it's about shifting from preventive healthcare to a phase-oriented view, resulting in a stage in the process.\n"
      ],
      "metadata": {
        "id": "4x0jTy8YyQ5j"
      }
    },
    {
      "cell_type": "code",
      "source": [
        "embed_1 = get_word_embedding('healthcare')\n",
        "embed_2 = get_word_embedding('prevention')\n",
        "embed_3 = get_word_embedding('phase')"
      ],
      "metadata": {
        "id": "M5FfEOjntb8x"
      },
      "execution_count": null,
      "outputs": []
    },
    {
      "cell_type": "code",
      "source": [
        "# healthcare - prevention + phase = stage\n",
        "a = embed_1 - embed_2 + embed_3"
      ],
      "metadata": {
        "id": "Jpl3Qa-dtpJx"
      },
      "execution_count": null,
      "outputs": []
    },
    {
      "cell_type": "code",
      "source": [
        "# Get word embedding and move it to CPU for NumPy operations\n",
        "# word_embedding = model.in_embeddings(a).detach().cpu()\n",
        "\n",
        "similarities = []\n",
        "for i in range(vocab_size):\n",
        "    # Make sure context index is a tensor on the correct device\n",
        "    context_idx = torch.tensor(i, device=device)\n",
        "\n",
        "    # Get context embedding and move it to CPU for NumPy operations\n",
        "    context_embedding = model.out_embeddings(context_idx).detach().cpu().numpy()\n",
        "\n",
        "    cosine_sim = np.dot(a, context_embedding) / (np.linalg.norm(a) * np.linalg.norm(context_embedding))\n",
        "    similarities.append((idx_to_word[i], cosine_sim))\n",
        "  # Sort by similarity\n",
        "similarities.sort(key=lambda x: x[1], reverse=True)"
      ],
      "metadata": {
        "id": "fFUPPZm5tvlL"
      },
      "execution_count": null,
      "outputs": []
    },
    {
      "cell_type": "code",
      "source": [
        "similarities[0][0]"
      ],
      "metadata": {
        "colab": {
          "base_uri": "https://localhost:8080/",
          "height": 36
        },
        "id": "DCaTLIIst6dx",
        "outputId": "17ced77e-aa7c-4dc5-f826-d707ea7aa266"
      },
      "execution_count": null,
      "outputs": [
        {
          "output_type": "execute_result",
          "data": {
            "text/plain": [
              "'stage'"
            ],
            "application/vnd.google.colaboratory.intrinsic+json": {
              "type": "string"
            }
          },
          "metadata": {},
          "execution_count": 46
        }
      ]
    },
    {
      "cell_type": "markdown",
      "source": [
        "**word analogy** : coronavirus - covid + disease = infection\n",
        "\n",
        "**Explanation**:\n",
        "\n",
        "- coronavirus - covid: By subtracting covid (a specific disease caused by the coronavirus), we generalize the idea of coronavirus to any other diseases it may cause or represent, beyond just COVID-19\n",
        "\n",
        "- \\+ disease: Adding disease emphasizes the general concept of illness or health conditions caused by pathogens.\n",
        "\n",
        "- \\= infection: The result is infection, which refers to the process by which a disease spreads or develops in the body, applicable to many conditions, including but not limited to COVID-19.\n",
        "\n",
        "In summary, this analogy generalizes from covid (a specific disease) to infection, which is a broader concept in the context of diseases caused by pathogens."
      ],
      "metadata": {
        "id": "Fbq_Wb9EyhW-"
      }
    },
    {
      "cell_type": "code",
      "source": [
        "embed_1 = get_word_embedding('coronavirus')\n",
        "embed_2 = get_word_embedding('covid')\n",
        "embed_3 = get_word_embedding('disease')\n",
        "a = embed_1 - embed_2 + embed_3"
      ],
      "metadata": {
        "id": "vzUDfJb2yfAM"
      },
      "execution_count": null,
      "outputs": []
    },
    {
      "cell_type": "code",
      "source": [
        "# Get word embedding and move it to CPU for NumPy operations\n",
        "# word_embedding = model.in_embeddings(a).detach().cpu()\n",
        "\n",
        "similarities = []\n",
        "for i in range(vocab_size):\n",
        "    # Make sure context index is a tensor on the correct device\n",
        "    context_idx = torch.tensor(i, device=device)\n",
        "\n",
        "    # Get context embedding and move it to CPU for NumPy operations\n",
        "    context_embedding = model.out_embeddings(context_idx).detach().cpu().numpy()\n",
        "\n",
        "    cosine_sim = np.dot(a, context_embedding) / (np.linalg.norm(a) * np.linalg.norm(context_embedding))\n",
        "    similarities.append((idx_to_word[i], cosine_sim))\n",
        "  # Sort by similarity\n",
        "similarities.sort(key=lambda x: x[1], reverse=True)"
      ],
      "metadata": {
        "id": "yYYGvQtmzVuQ"
      },
      "execution_count": null,
      "outputs": []
    },
    {
      "cell_type": "code",
      "source": [
        "similarities[0][0]"
      ],
      "metadata": {
        "colab": {
          "base_uri": "https://localhost:8080/",
          "height": 36
        },
        "id": "UcIJIjC5zcYA",
        "outputId": "7722e98a-9c85-4479-837b-c6637fa46453"
      },
      "execution_count": null,
      "outputs": [
        {
          "output_type": "execute_result",
          "data": {
            "text/plain": [
              "'infection'"
            ],
            "application/vnd.google.colaboratory.intrinsic+json": {
              "type": "string"
            }
          },
          "metadata": {},
          "execution_count": 64
        }
      ]
    },
    {
      "cell_type": "markdown",
      "source": [
        "## Assignment 5"
      ],
      "metadata": {
        "id": "dJ-0kc8Q2OcA"
      }
    },
    {
      "cell_type": "markdown",
      "source": [
        "Chosen word : disease"
      ],
      "metadata": {
        "id": "_qQWs6ad6gkU"
      }
    },
    {
      "cell_type": "code",
      "source": [
        "word = \"disease\"\n",
        "embedding = get_word_embedding(word)\n",
        "if embedding is not None:\n",
        "  print(f\"Word embedding for '{word}':\\n{embedding}\")\n",
        "else:\n",
        "  print(f\"Word '{word}' not found in the vocabulary.\")"
      ],
      "metadata": {
        "colab": {
          "base_uri": "https://localhost:8080/"
        },
        "id": "qHhYfAO6Qu9k",
        "outputId": "4bdf2cf3-00a0-4abc-9c36-4c5025540135"
      },
      "execution_count": null,
      "outputs": [
        {
          "output_type": "stream",
          "name": "stdout",
          "text": [
            "Word embedding for 'disease':\n",
            "tensor([ 6.5200e-01, -1.9716e-01, -1.2590e-01, -4.0400e-01,  1.8954e-01,\n",
            "         6.9817e-02,  7.5008e-02, -4.9190e-01,  4.0385e-02, -1.5249e-01,\n",
            "         6.3250e-02,  9.7713e-02,  4.6347e-01, -2.3879e-01, -2.5807e-01,\n",
            "         3.0021e-01, -3.7631e-01,  3.1456e-02, -1.2739e-02,  2.5579e-01,\n",
            "         2.1644e-02,  4.9756e-01,  1.4811e-01,  1.7095e-02, -3.8120e-02,\n",
            "        -7.4219e-01, -7.8383e-01,  8.5902e-01, -2.7667e-01,  1.6380e-01,\n",
            "         4.4468e-01, -9.3250e-02,  3.0034e-01, -5.1525e-01,  3.8722e-01,\n",
            "        -2.0226e-01,  5.0168e-04,  3.1773e-01, -7.0817e-02,  1.2967e-02,\n",
            "        -5.0259e-01,  1.4460e-01,  2.0826e-02,  4.0038e-01, -3.2045e-02,\n",
            "        -2.0684e-01,  3.0113e-01,  4.5830e-01,  1.8988e-01,  3.7187e-02,\n",
            "         2.4395e-01,  1.1505e-01, -1.6506e-01, -5.9458e-01, -1.2655e-01,\n",
            "        -2.9628e-01,  2.0720e-02,  3.3842e-01,  1.4236e-01,  2.8563e-01,\n",
            "        -1.3446e-01, -4.5762e-01, -4.3459e-01,  6.4435e-01, -7.5540e-01,\n",
            "        -3.9554e-01, -7.7868e-01,  1.8257e-01, -1.8597e-01, -3.8475e-01,\n",
            "        -5.5310e-01, -2.3707e-02,  3.1660e-01,  5.8117e-01,  3.0620e-01,\n",
            "         4.2573e-01, -2.4758e-01, -3.5359e-01, -2.3329e-01,  5.3495e-01,\n",
            "         3.5243e-02,  1.1468e-01,  4.4650e-01, -3.9046e-01,  1.6076e-01,\n",
            "        -5.3056e-02, -1.3018e-01,  3.1684e-01, -4.0846e-01, -3.2564e-02,\n",
            "        -3.9729e-01,  8.4562e-01,  5.3939e-01,  8.8433e-01,  7.3192e-02,\n",
            "         2.3580e-01, -3.2832e-01,  4.8927e-01,  3.0543e-01,  4.8903e-01,\n",
            "         1.4374e-02,  4.5016e-01,  5.7294e-01,  1.5091e-02,  8.3753e-03,\n",
            "         1.4023e-01,  1.0030e-01,  5.3536e-01,  1.1860e-01, -1.2720e-01,\n",
            "        -5.5289e-02,  3.2396e-01,  1.9016e-01, -2.9354e-01, -4.8861e-01,\n",
            "         2.0569e-01, -5.9435e-01, -6.2213e-01, -6.5750e-01, -8.6898e-01,\n",
            "        -3.9327e-02,  7.9894e-01,  1.1032e-01, -3.0318e-01,  5.0779e-01,\n",
            "         5.9518e-01, -6.7438e-02, -4.5522e-01, -4.0691e-01, -1.8868e-01,\n",
            "         2.0372e-03,  3.9129e-01, -5.0378e-01, -1.5625e-01, -8.6639e-02,\n",
            "         4.3986e-01,  4.1239e-03,  9.7617e-02,  4.6182e-01, -4.6623e-01,\n",
            "        -1.3138e-01,  6.9266e-01,  4.1152e-01,  3.2825e-01, -4.0499e-01,\n",
            "         6.0619e-01, -9.8386e-02,  6.4454e-02, -1.8632e-01, -7.6022e-02,\n",
            "        -2.2083e-01, -1.4198e-01, -6.1139e-02,  2.6621e-01,  6.2553e-01,\n",
            "        -1.6111e-01,  6.0933e-01, -5.9598e-01, -5.0742e-01, -2.9310e-01,\n",
            "        -8.5900e-01, -6.7496e-01, -1.3965e-02, -4.0998e-01,  2.6263e-02,\n",
            "         6.9329e-02, -2.7744e-02,  1.4301e-01, -1.5932e-01,  4.7222e-01,\n",
            "        -9.7480e-02, -8.9213e-01,  8.5667e-01,  4.7938e-01, -4.7161e-01,\n",
            "        -2.1681e-01,  4.1057e-01, -3.4444e-01, -4.3263e-01, -8.9569e-02,\n",
            "        -3.3285e-01, -5.6671e-01, -1.5321e-01,  2.3381e-01, -1.1861e-01,\n",
            "         2.1425e-01,  6.0238e-01,  2.6662e-01,  2.3932e-01, -3.5237e-02,\n",
            "        -5.7628e-02,  7.5502e-01, -4.5760e-01,  8.7798e-01,  5.6554e-01,\n",
            "        -9.1110e-01, -5.4088e-02,  2.1519e-01, -3.0539e-01, -5.9514e-01,\n",
            "         9.9218e-02,  4.1674e-01,  7.2083e-01, -1.8532e-01, -4.0605e-02,\n",
            "         3.6086e-02,  7.0530e-01, -5.7636e-01, -8.6908e-01, -4.3810e-01,\n",
            "         8.2265e-01,  1.9367e-01,  3.5782e-01,  3.4652e-01,  3.4318e-02,\n",
            "        -2.4231e-01,  5.6142e-01, -1.1489e-01, -2.9905e-01, -2.2345e-01,\n",
            "        -6.2490e-02,  1.3115e+00, -2.4319e-01, -3.0320e-02,  3.9530e-01,\n",
            "        -3.0978e-01,  4.7359e-01,  7.0234e-01,  2.2888e-01, -1.6482e-01,\n",
            "        -2.8765e-01, -2.2867e-01,  4.2870e-02, -1.8317e-01, -2.6567e-01,\n",
            "         3.4078e-01,  2.0213e-01, -2.1824e-02,  3.0522e-01, -4.1252e-01,\n",
            "         7.5079e-01, -3.1141e-01, -5.9241e-03, -4.1713e-01, -2.5240e-01,\n",
            "        -5.9852e-01, -2.9577e-01,  1.0367e-01, -6.0578e-02, -3.8238e-02,\n",
            "        -1.4969e-01,  6.3163e-02,  4.4995e-02, -5.8055e-01,  1.2780e-01,\n",
            "        -2.3509e-02, -1.5764e-01, -8.8722e-01,  6.7697e-02,  9.7237e-01,\n",
            "         1.2175e-01, -5.2179e-01,  2.8750e-01,  6.1395e-01,  4.5069e-01,\n",
            "        -4.6107e-01,  3.5661e-01,  4.5095e-01, -5.6437e-02,  3.0629e-01,\n",
            "        -2.0669e-01,  3.2029e-01,  2.0868e-01,  2.7015e-01, -6.5879e-01,\n",
            "         3.6693e-01,  5.3576e-02, -5.3331e-01,  1.0521e-01, -3.3900e-01,\n",
            "         1.1472e-01,  4.0053e-01, -2.0511e-01,  1.1720e-01,  4.0836e-01,\n",
            "         3.0072e-02,  7.3457e-02,  1.7032e-01, -7.3946e-02, -2.8256e-01,\n",
            "        -1.9352e-01, -2.4723e-02,  1.8243e-01, -2.2485e-01,  1.9917e-01,\n",
            "        -3.6281e-01, -9.5632e-03, -4.5658e-01, -4.4090e-01,  3.4138e-02])\n"
          ]
        }
      ]
    },
    {
      "cell_type": "markdown",
      "source": [
        "### Finding similar words to the word 'disease' using $W_{in}$"
      ],
      "metadata": {
        "id": "sYS8eWzhZbS9"
      }
    },
    {
      "cell_type": "code",
      "source": [
        "def get_similar_words_using_W_in(word, word_to_index, index_to_word, W_in, top_n=5):\n",
        "    '''\n",
        "    Finds the top-N similar words for a given word using the W_in matrix.\n",
        "\n",
        "    Args:\n",
        "      word: The word for which we want to find similar words.\n",
        "      word_to_index: A dictionary mapping words to their indices.\n",
        "      index_to_word: A dictionary mapping indices to their corresponding words.\n",
        "      W_in: The input matrix (word embedding matrix).\n",
        "      top_n: The number of similar words to return (default is 5).\n",
        "\n",
        "    Returns:\n",
        "      A list of tuples containing the similar words and their cosine similarity scores.\n",
        "    '''\n",
        "    word_idx = word_to_idx[word]\n",
        "    word_embedding = W_in[word_idx].reshape(1, -1)  # Get the embedding for the given word\n",
        "\n",
        "    # Calculate cosine similarity between the word and all other words\n",
        "    similarities = cosine_similarity(word_embedding, W_in)[0]\n",
        "\n",
        "    # Get the top-N most similar words\n",
        "    similar_indices = similarities.argsort()[-top_n-1:-1][::-1]  # Sort and get top-n indices\n",
        "    similar_words = [(idx_to_word[idx], similarities[idx]) for idx in similar_indices]\n",
        "\n",
        "    return similar_words\n"
      ],
      "metadata": {
        "id": "OaTVNeH5Sr04"
      },
      "execution_count": null,
      "outputs": []
    },
    {
      "cell_type": "code",
      "source": [
        "word = 'disease'\n",
        "similar_words_W_in = get_similar_words_using_W_in(word, word_to_idx[word], idx_to_word[word_to_idx[word]], W_in = model.in_embeddings.weight.data.cpu(), top_n=5)\n",
        "print(f\"Top similar words for '{word}' using W_in: {similar_words_W_in}\")"
      ],
      "metadata": {
        "colab": {
          "base_uri": "https://localhost:8080/"
        },
        "id": "WjIyWKAamvwL",
        "outputId": "ccaa8355-6c98-4bb5-ba7f-2582d2e76650"
      },
      "execution_count": null,
      "outputs": [
        {
          "output_type": "stream",
          "name": "stdout",
          "text": [
            "Top similar words for 'disease' using W_in: [('diseases', 0.4130399), ('inflammatory', 0.34420758), ('infections', 0.34399664), ('risk', 0.32892263), ('acute', 0.3206243)]\n"
          ]
        }
      ]
    },
    {
      "cell_type": "markdown",
      "source": [
        "### Finding similar words to the word 'disease' using $W_{out}$"
      ],
      "metadata": {
        "id": "rWS7754kZt2H"
      }
    },
    {
      "cell_type": "code",
      "source": [
        "def get_similar_words_using_W_out(word, word_to_index, index_to_word, W_out, top_n=5):\n",
        "    '''\n",
        "    Finds the top-N similar words for a given word using the W_out matrix.\n",
        "\n",
        "    Args:\n",
        "      word: The word for which we want to find similar words.\n",
        "      word_to_index: A dictionary mapping words to their indices.\n",
        "      index_to_word: A dictionary mapping indices to their corresponding words.\n",
        "      W_out: The output matrix.\n",
        "      top_n: The number of similar words to return (default is 5).\n",
        "\n",
        "    Returns:\n",
        "      A list of tuples containing the similar words and their cosine similarity scores.\n",
        "    '''\n",
        "    word_idx = word_to_idx[word]\n",
        "    word_embedding = W_out[word_idx].reshape(1, -1)  # Get the embedding for the given word\n",
        "\n",
        "    # Calculate cosine similarity between the word and all other words\n",
        "    similarities = cosine_similarity(word_embedding, W_out)[0]\n",
        "\n",
        "    # Get the top-N most similar words\n",
        "    similar_indices = similarities.argsort()[-top_n-1:-1][::-1]  # Sort and get top-n indices\n",
        "    similar_words = [(idx_to_word[idx], similarities[idx]) for idx in similar_indices]\n",
        "\n",
        "    return similar_words\n"
      ],
      "metadata": {
        "id": "BJmbsOMkYccQ"
      },
      "execution_count": null,
      "outputs": []
    },
    {
      "cell_type": "code",
      "source": [
        "# Example usage\n",
        "similar_words_W_out = get_similar_words_using_W_out(word, word_to_idx, idx_to_word, W_out = model.out_embeddings.weight.data.cpu(), top_n=5)\n",
        "print(f\"Top similar words for '{word}' using W_out: {similar_words_W_out}\")"
      ],
      "metadata": {
        "colab": {
          "base_uri": "https://localhost:8080/"
        },
        "id": "BV08uC8JZxlJ",
        "outputId": "0b881e63-583f-4cb5-93a0-2e9dd5c68336"
      },
      "execution_count": null,
      "outputs": [
        {
          "output_type": "stream",
          "name": "stdout",
          "text": [
            "Top similar words for 'disease' using W_out: [('patients', 0.36471528), ('infection', 0.3211676), ('viral', 0.3168927), ('virus', 0.29496276), ('used', 0.28112215)]\n"
          ]
        }
      ]
    },
    {
      "cell_type": "markdown",
      "source": [
        "### Find similar words to the word 'disease' using $W_{avg} = \\frac{W_{in} + W_{out}}{2}$"
      ],
      "metadata": {
        "id": "-jry4tGoZyvJ"
      }
    },
    {
      "cell_type": "code",
      "source": [
        "def get_similar_words_avg(word, word_to_index, index_to_word, W_in, W_out, top_n=5):\n",
        "    '''\n",
        "    Finds the top-N similar words for a given word using the average of W_in and W_out matrices.\n",
        "\n",
        "    Args:\n",
        "      word: The word for which we want to find similar words.\n",
        "      word_to_index: A dictionary mapping words to their indices.\n",
        "      index_to_word: A dictionary mapping indices to their corresponding words.\n",
        "      W_in: The input matrix.\n",
        "      W_out: The output matrix.\n",
        "      top_n: The number of similar words to return (default is 5).\n",
        "\n",
        "    Returns:\n",
        "      A list of tuples containing the similar words and their cosine similarity scores.\n",
        "    '''\n",
        "    word_idx = word_to_idx[word]\n",
        "\n",
        "    # Average the W_in and W_out embeddings\n",
        "    combined_embedding = ((W_in[word_idx] + W_out[word_idx]) / 2).reshape(1, -1)\n",
        "\n",
        "    # Calculate cosine similarity between the word and all other words\n",
        "    avg_matrix = (W_in + W_out) / 2\n",
        "    similarities = cosine_similarity(combined_embedding, avg_matrix)[0]\n",
        "\n",
        "    # Get the top-N most similar words\n",
        "    similar_indices = similarities.argsort()[-top_n-1:-1][::-1]  # Sort and get top-n indices\n",
        "    similar_words = [(idx_to_word[idx], similarities[idx]) for idx in similar_indices]\n",
        "\n",
        "    return similar_words"
      ],
      "metadata": {
        "id": "J60bsuFsaPuI"
      },
      "execution_count": null,
      "outputs": []
    },
    {
      "cell_type": "code",
      "source": [
        "similar_words_avg = get_similar_words_avg(word, word_to_idx, idx_to_word, W_in = model.in_embeddings.weight.data.cpu(), W_out = model.out_embeddings.weight.data.cpu(), top_n=5)\n",
        "print(f\"Top similar words for '{word}' using averaged W_in and W_out: {similar_words_avg}\")"
      ],
      "metadata": {
        "colab": {
          "base_uri": "https://localhost:8080/"
        },
        "id": "dEgt-zT3aIrt",
        "outputId": "0bad385d-d19b-46c5-8df0-2dd90c2f00ed"
      },
      "execution_count": null,
      "outputs": [
        {
          "output_type": "stream",
          "name": "stdout",
          "text": [
            "Top similar words for 'disease' using averaged W_in and W_out: [('diseases', 0.4694792), ('patients', 0.40887433), ('severe', 0.40584725), ('infection', 0.38363713), ('lung', 0.3803318)]\n"
          ]
        }
      ]
    },
    {
      "cell_type": "markdown",
      "source": [
        "### Comparing the results for the word 'disease'"
      ],
      "metadata": {
        "id": "IMLHuME9aKtO"
      }
    },
    {
      "cell_type": "code",
      "source": [
        "print(f\"Results using W_in: {similar_words_W_in}\")\n",
        "print(f\"Results using W_out: {similar_words_W_out}\")\n",
        "print(f\"Results using combined W_in and W_out: {similar_words_avg}\")"
      ],
      "metadata": {
        "colab": {
          "base_uri": "https://localhost:8080/"
        },
        "id": "yIZcUqVDaySr",
        "outputId": "a4994df9-2335-4f67-b2e7-a0bb0209e127"
      },
      "execution_count": null,
      "outputs": [
        {
          "output_type": "stream",
          "name": "stdout",
          "text": [
            "Results using W_in: [('diseases', 0.4130399), ('inflammatory', 0.34420758), ('infections', 0.34399664), ('risk', 0.32892263), ('acute', 0.3206243)]\n",
            "Results using W_out: [('patients', 0.36471528), ('infection', 0.3211676), ('viral', 0.3168927), ('virus', 0.29496276), ('used', 0.28112215)]\n",
            "Results using combined W_in and W_out: [('diseases', 0.4694792), ('patients', 0.40887433), ('severe', 0.40584725), ('infection', 0.38363713), ('lung', 0.3803318)]\n"
          ]
        }
      ]
    },
    {
      "cell_type": "markdown",
      "source": [
        "---\n",
        "### Description of the outcome\n",
        "\n",
        "The results by $W_{in}$, $W_{out}$ and $W_{avg}$ were all different for the word 'disease'. Though all had words that were somewhat related to the context of disease.\n",
        "\n",
        "The results using each matrix differ because the word embeddings in $W_{in}$, $W_{out}$, and $W_{avg}$ capture different aspects of the relationships between words. For example:\n",
        "\n",
        "- $W_{in}$ gives words related to \"disease\" such as \"diseases\" and \"infections\".\n",
        "\n",
        "- $W_{out}$ returns less intuitively connected words like \"used\" and \"viral\", along with more connected words like \"patients\" and \"infection\", possibly because it captures how \"disease\" is used as context rather than the target.\n",
        "\n",
        "- $W_{avg}$ balances both input and output embeddings, giving words like \"severe\" and \"lung\", which might reflect a broader relationship to \"disease.\"\n",
        "\n",
        "---\n",
        "\n",
        "### Explanation of Results\n",
        "- $W_{in}$ captures words that appear as targets of the word \"disease.\" Words like \"diseases\" and \"infections\" are logically related since they appear in similar contexts in medical documents.\n",
        "- $W_{out}$ returns words like \"patients\" and \"infection\". This might reflect how \"disease\" is often used in proximity to these words in the corpus, even if they are less directly related.\n",
        "- $W_{avg}$ balances both input and output embeddings, hence providing words that are somewhat related to both target and context words, such as \"dieases\", \"patients\" and \"severe\".\n"
      ],
      "metadata": {
        "id": "iHwjj8Hpr3xi"
      }
    },
    {
      "cell_type": "markdown",
      "source": [
        "###  Complexities of skipgram and CBOW model\n",
        "As per the slide related to the complexities of skipgram and CBOW model shown in the class:\n",
        "\n",
        "Complexity of skipgram with negative sampling: $O(T \\cdot N \\cdot C \\cdot k)$\n",
        "\n",
        "Complexity of CBOW with negative sampling: $O(T \\cdot N \\cdot C \\cdot k)$\n",
        "\n",
        "where\n",
        "\n",
        "$T$ is total number of words in the corpus\n",
        "\n",
        "$V$ is vocabulary size\n",
        "\n",
        "$N$ is embedding size\n",
        "\n",
        "$C$ is context window size\n",
        "\n",
        "$k$ is number of negative samples\n",
        "\n",
        "---\n",
        "\n",
        "### Complexity Breakdown\n",
        "The complexity $O(T \\cdot N \\cdot C \\cdot k)$ arises from the following:\n",
        "- \\(T\\): The number of words in the corpus, since the model must iterate through every word in training.\n",
        "- \\(N\\): The embedding size (dimensionality of the word vectors). For each word, we need to compute \\(N\\)-dimensional vector operations.\n",
        "- \\(C\\): The context window size, since we must predict for each word within the window.\n",
        "- \\(k\\): The number of negative samples, since negative sampling approximates the softmax by updating only \\(k\\) negative word vectors for each training example."
      ],
      "metadata": {
        "id": "Qwyjq-49p5Nk"
      }
    },
    {
      "cell_type": "markdown",
      "source": [
        "### Justifying the Computational Complexity $O(T \\cdot N \\cdot C \\cdot k)$ for Skipgram and CBOW Models with Negative Sampling\n",
        "\n",
        "The complexity of the **Skipgram** and **Continuous Bag of Words (CBOW)** models with **negative sampling** can be broken down by analyzing each of the components involved in the training process. Let's dive into the roles of $T$, $N$, $C$, and $k$ to understand why the overall complexity is $O(T \\cdot N \\cdot C \\cdot k)$.\n",
        "\n",
        "---\n",
        "\n",
        "#### **1. Total Number of Words in the Corpus (\\(T\\))**\n",
        "- **Reasoning**: The model processes the entire corpus, iterating through every word during training.\n",
        "- Both **Skipgram** and **CBOW** models are trained by iterating through each word in the training corpus.\n",
        "- For each word, we either predict its surrounding context words (Skipgram) or use the surrounding context to predict the word itself (CBOW).\n",
        "  \n",
        "Thus, the number of words in the corpus directly affects the number of training steps, which is proportional to \\(T\\).\n",
        "\n",
        "---\n",
        "\n",
        "#### **2. Embedding Size (\\(N\\))**\n",
        "- **Reasoning**: The dimensionality of word vectors (or embeddings) impacts the cost of each forward and backward pass.\n",
        "  \n",
        "In both models, each word is represented as a dense vector of size \\(N\\). For each prediction:\n",
        "- **Skipgram**: The input word's embedding is used to predict the context words.\n",
        "- **CBOW**: The context words' embeddings are used to predict the target word.\n",
        "\n",
        "For each prediction, vector operations like dot products, gradient computations, and updates are performed on \\(N\\)-dimensional vectors. Hence, the number of computations per training step scales with the embedding size \\(N\\), as we need to update and compute gradients for embeddings in a space of dimensionality \\(N\\).\n",
        "\n",
        "---\n",
        "\n",
        "#### **3. Context Window Size (\\(C\\))**\n",
        "- **Reasoning**: The model's complexity grows linearly with the number of context words considered.\n",
        "\n",
        "In both models, the **context window size (\\(C\\))** defines how many words are used as context for each target word:\n",
        "- **Skipgram**: For each target word, the model predicts each of its \\(C\\) surrounding words.\n",
        "  - For example, if the window size is 5, the model will try to predict the 5 context words around the target word. Thus, the larger the context window size, the more predictions need to be made for each word, increasing computational cost.\n",
        "- **CBOW**: For each group of \\(C\\) context words, the model predicts the central word. The larger the context window, the more embeddings are summed (or averaged) to form the input for prediction.\n",
        "  \n",
        "Hence, the cost scales linearly with \\(C\\) because each word (Skipgram) or target word prediction (CBOW) is associated with \\(C\\) surrounding words.\n",
        "\n",
        "---\n",
        "\n",
        "#### **4. Number of Negative Samples (\\(k\\))**\n",
        "- **Reasoning**: Negative sampling reduces the computational cost of softmax, but still requires \\(k\\) negative samples per prediction.\n",
        "\n",
        "In **negative sampling**, instead of computing the full softmax over the entire vocabulary (which would involve updating embeddings for every word in the vocabulary), the model only updates embeddings for:\n",
        "- The true positive context word(s).\n",
        "- \\(k\\) randomly chosen negative samples.\n",
        "\n",
        "Thus, instead of a full softmax over \\(V\\) words (where \\(V\\) is the vocabulary size), the model computes the dot product and updates the parameters for only \\(k+1\\) words (1 positive word + \\(k\\) negative samples).\n",
        "\n",
        "The number of negative samples, \\(k\\), dictates how many random non-context words are chosen and updated during each training step. Since each of these samples involves vector operations (dot product, gradients, etc.), the computational cost is proportional to \\(k\\).\n",
        "\n",
        "---\n",
        "\n",
        "### Putting It All Together: $O(T \\cdot N \\cdot C \\cdot k)$\n",
        "\n",
        "1. **\\(T\\)**: The model iterates through every word in the corpus (number of words = \\(T\\)).\n",
        "2. **\\(N\\)**: Each word is represented as a dense vector of size \\(N\\), and the operations (dot products, updates) are performed on these vectors.\n",
        "3. **\\(C\\)**: For each word, the model predicts \\(C\\) context words (Skipgram) or uses \\(C\\) context words to predict the target word (CBOW).\n",
        "4. **\\(k\\)**: For each target-context word pair, the model uses negative sampling to approximate the softmax, updating parameters for \\(k+1\\) words (1 positive + \\(k\\) negatives).\n",
        "\n",
        "Thus, the overall complexity per epoch is:\n",
        "$\n",
        "O(T \\cdot N \\cdot C \\cdot k)\n",
        "$\n",
        "where:\n",
        "- **\\(T\\)** determines how many training steps we perform.\n",
        "- **\\(N\\)** determines the cost of each vector operation (embedding lookup, dot product, gradient update).\n",
        "- **\\(C\\)** determines how many context words we consider for each target word (in Skipgram) or how many words we sum for predicting the target word (in CBOW).\n",
        "- **\\(k\\)** determines the number of negative samples for each positive prediction, directly affecting the number of operations to update the embeddings.\n",
        "\n",
        "<!-- --- -->\n",
        "\n",
        "<!-- ### Why is Negative Sampling Efficient?\n",
        "\n",
        "Without negative sampling, the complexity would be proportional to \\(V\\), where \\(V\\) is the vocabulary size (since we would need to compute and normalize probabilities for every word in the vocabulary). This would lead to a complexity of $O(T \\cdot N \\cdot C \\cdot V)$, which is computationally infeasible for large vocabularies.\n",
        "\n",
        "By introducing negative sampling, the model only needs to update a small subset of the vocabulary during each training step (1 positive word and \\(k\\) negative words), reducing the complexity to $O(T \\cdot N \\cdot C \\cdot k)$, where $k$ is much smaller than $V$.\n",
        "\n",
        "Negative sampling provides a trade-off between approximation accuracy and efficiency, allowing large models to be trained on vast corpora with reasonable computational resources. -->\n",
        "\n",
        "---\n",
        "\n",
        "### Conclusion:\n",
        "\n",
        "The complexity $O(T \\cdot N \\cdot C \\cdot k)$ reflects how the Skipgram and CBOW models scale with:\n",
        "- The size of the corpus (T),\n",
        "- The dimensionality of the word embeddings (N),\n",
        "- The number of context words used for each target word (C),\n",
        "- The number of negative samples used during training (k).\n",
        "\n",
        "This balance allows word embedding models to be trained efficiently on large datasets without computing a full softmax over a large vocabulary, thanks to negative sampling.\n"
      ],
      "metadata": {
        "id": "R99KYJBW_GVy"
      }
    }
  ]
}
